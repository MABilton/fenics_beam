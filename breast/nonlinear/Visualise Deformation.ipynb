{
 "cells": [
  {
   "cell_type": "markdown",
   "metadata": {},
   "source": [
    "# Set-Up"
   ]
  },
  {
   "cell_type": "markdown",
   "metadata": {},
   "source": [
    "## Installation and Imports"
   ]
  },
  {
   "cell_type": "code",
   "execution_count": 1,
   "metadata": {},
   "outputs": [
    {
     "name": "stdout",
     "output_type": "stream",
     "text": [
      "Collecting tetgen\n",
      "  Downloading tetgen-0.6.0-cp39-cp39-manylinux_2_5_x86_64.manylinux1_x86_64.manylinux_2_12_x86_64.manylinux2010_x86_64.whl (1.9 MB)\n",
      "\u001b[K     |████████████████████████████████| 1.9 MB 8.0 MB/s eta 0:00:01\n",
      "\u001b[?25hRequirement already satisfied: numpy>1.16.0 in /usr/local/lib/python3.9/dist-packages (from tetgen) (1.20.3)\n",
      "Collecting pyvista>=0.31.0\n",
      "  Downloading pyvista-0.32.1-py3-none-any.whl (1.4 MB)\n",
      "\u001b[K     |████████████████████████████████| 1.4 MB 10.3 MB/s eta 0:00:01\n",
      "\u001b[?25hCollecting vtk\n",
      "  Downloading vtk-9.1.0-cp39-cp39-manylinux_2_17_x86_64.manylinux2014_x86_64.whl (88.3 MB)\n",
      "\u001b[K     |████████████████████████████████| 88.3 MB 8.9 kB/s eta 0:00:013    |█████████                       | 24.6 MB 6.2 MB/s eta 0:00:11     |███████████                     | 30.4 MB 6.2 MB/s eta 0:00:10     |███████████████████████         | 63.6 MB 6.1 MB/s eta 0:00:05     |███████████████████████▏        | 64.0 MB 6.1 MB/s eta 0:00:04     |████████████████████████▍       | 67.3 MB 6.1 MB/s eta 0:00:04     |█████████████████████████████   | 79.8 MB 8.4 MB/s eta 0:00:02     |██████████████████████████████▏ | 83.2 MB 8.4 MB/s eta 0:00:01\n",
      "\u001b[?25hRequirement already satisfied: pillow in /usr/lib/python3/dist-packages (from pyvista>=0.31.0->tetgen) (8.1.2)\n",
      "Collecting meshio<5.0,>=4.0.3\n",
      "  Downloading meshio-4.4.6-py3-none-any.whl (158 kB)\n",
      "\u001b[K     |████████████████████████████████| 158 kB 11.6 MB/s eta 0:00:01\n",
      "\u001b[?25hCollecting scooby>=0.5.1\n",
      "  Downloading scooby-0.5.7-py3-none-any.whl (13 kB)\n",
      "Collecting appdirs\n",
      "  Downloading appdirs-1.4.4-py2.py3-none-any.whl (9.6 kB)\n",
      "Collecting typing-extensions\n",
      "  Downloading typing_extensions-3.10.0.2-py3-none-any.whl (26 kB)\n",
      "Collecting imageio\n",
      "  Downloading imageio-2.10.3-py3-none-any.whl (3.3 MB)\n",
      "\u001b[K     |████████████████████████████████| 3.3 MB 8.8 MB/s eta 0:00:01\n",
      "\u001b[?25hCollecting pillow\n",
      "  Downloading Pillow-8.4.0-cp39-cp39-manylinux_2_17_x86_64.manylinux2014_x86_64.whl (3.1 MB)\n",
      "\u001b[K     |████████████████████████████████| 3.1 MB 11.2 MB/s eta 0:00:01\n",
      "\u001b[?25hRequirement already satisfied: matplotlib>=2.0.0 in /usr/local/lib/python3.9/dist-packages (from vtk->pyvista>=0.31.0->tetgen) (3.4.3)\n",
      "Collecting wslink>=1.0.4\n",
      "  Downloading wslink-1.1.0-py3-none-any.whl (20 kB)\n",
      "Requirement already satisfied: cycler>=0.10 in /usr/local/lib/python3.9/dist-packages (from matplotlib>=2.0.0->vtk->pyvista>=0.31.0->tetgen) (0.10.0)\n",
      "Requirement already satisfied: kiwisolver>=1.0.1 in /usr/local/lib/python3.9/dist-packages (from matplotlib>=2.0.0->vtk->pyvista>=0.31.0->tetgen) (1.3.2)\n",
      "Requirement already satisfied: pyparsing>=2.2.1 in /usr/local/lib/python3.9/dist-packages (from matplotlib>=2.0.0->vtk->pyvista>=0.31.0->tetgen) (2.4.7)\n",
      "Requirement already satisfied: python-dateutil>=2.7 in /usr/local/lib/python3.9/dist-packages (from matplotlib>=2.0.0->vtk->pyvista>=0.31.0->tetgen) (2.8.2)\n",
      "Requirement already satisfied: six in /usr/local/lib/python3.9/dist-packages (from cycler>=0.10->matplotlib>=2.0.0->vtk->pyvista>=0.31.0->tetgen) (1.16.0)\n",
      "Collecting aiohttp\n",
      "  Downloading aiohttp-3.8.0-cp39-cp39-manylinux_2_5_x86_64.manylinux1_x86_64.manylinux_2_12_x86_64.manylinux2010_x86_64.whl (1.2 MB)\n",
      "\u001b[K     |████████████████████████████████| 1.2 MB 11.6 MB/s eta 0:00:01\n",
      "\u001b[?25hCollecting aiosignal>=1.1.2\n",
      "  Downloading aiosignal-1.2.0-py3-none-any.whl (8.2 kB)\n",
      "Collecting frozenlist>=1.1.1\n",
      "  Downloading frozenlist-1.2.0-cp39-cp39-manylinux_2_5_x86_64.manylinux1_x86_64.manylinux_2_12_x86_64.manylinux2010_x86_64.whl (203 kB)\n",
      "\u001b[K     |████████████████████████████████| 203 kB 12.1 MB/s eta 0:00:01\n",
      "\u001b[?25hCollecting yarl<2.0,>=1.0\n",
      "  Downloading yarl-1.7.2-cp39-cp39-manylinux_2_5_x86_64.manylinux1_x86_64.manylinux_2_12_x86_64.manylinux2010_x86_64.whl (304 kB)\n",
      "\u001b[K     |████████████████████████████████| 304 kB 8.3 MB/s eta 0:00:01\n",
      "\u001b[?25hRequirement already satisfied: charset-normalizer<3.0,>=2.0 in /usr/local/lib/python3.9/dist-packages (from aiohttp->wslink>=1.0.4->vtk->pyvista>=0.31.0->tetgen) (2.0.4)\n",
      "Collecting multidict<7.0,>=4.5\n",
      "  Downloading multidict-5.2.0-cp39-cp39-manylinux_2_5_x86_64.manylinux1_x86_64.manylinux_2_12_x86_64.manylinux2010_x86_64.whl (174 kB)\n",
      "\u001b[K     |████████████████████████████████| 174 kB 11.0 MB/s eta 0:00:01\n",
      "\u001b[?25hRequirement already satisfied: attrs>=17.3.0 in /usr/local/lib/python3.9/dist-packages (from aiohttp->wslink>=1.0.4->vtk->pyvista>=0.31.0->tetgen) (21.2.0)\n",
      "Collecting async-timeout<5.0,>=4.0.0a3\n",
      "  Downloading async_timeout-4.0.0-py3-none-any.whl (6.1 kB)\n",
      "Requirement already satisfied: idna>=2.0 in /usr/local/lib/python3.9/dist-packages (from yarl<2.0,>=1.0->aiohttp->wslink>=1.0.4->vtk->pyvista>=0.31.0->tetgen) (3.2)\n",
      "Installing collected packages: typing-extensions, multidict, frozenlist, yarl, async-timeout, aiosignal, pillow, aiohttp, wslink, vtk, scooby, meshio, imageio, appdirs, pyvista, tetgen\n",
      "  Attempting uninstall: pillow\n",
      "    Found existing installation: Pillow 8.1.2\n",
      "    Not uninstalling pillow at /usr/lib/python3/dist-packages, outside environment /usr\n",
      "    Can't uninstall 'Pillow'. No files were found to uninstall.\n",
      "Successfully installed aiohttp-3.8.0 aiosignal-1.2.0 appdirs-1.4.4 async-timeout-4.0.0 frozenlist-1.2.0 imageio-2.10.3 meshio-4.4.6 multidict-5.2.0 pillow-8.4.0 pyvista-0.32.1 scooby-0.5.7 tetgen-0.6.0 typing-extensions-3.10.0.2 vtk-9.1.0 wslink-1.1.0 yarl-1.7.2\n",
      "Collecting pygmsh\n",
      "  Downloading pygmsh-7.1.13-py3-none-any.whl (44 kB)\n",
      "\u001b[K     |████████████████████████████████| 44 kB 1.8 MB/s  eta 0:00:01\n",
      "\u001b[?25hRequirement already satisfied: meshio<6,>=4.3.2 in /usr/local/lib/python3.9/dist-packages (from pygmsh) (4.4.6)\n",
      "Requirement already satisfied: numpy>=1.20.0 in /usr/local/lib/python3.9/dist-packages (from pygmsh) (1.20.3)\n",
      "Collecting gmsh\n",
      "  Downloading gmsh-4.8.4.tar.gz (10 kB)\n",
      "Building wheels for collected packages: gmsh\n",
      "  Building wheel for gmsh (setup.py) ... \u001b[?25ldone\n",
      "\u001b[?25h  Created wheel for gmsh: filename=gmsh-4.8.4-py3-none-any.whl size=112702987 sha256=71383b4b05bd7ee2166b9c8c8de7edad01f0e30f6e51286ecad495bf305ad8f5\n",
      "  Stored in directory: /root/.cache/pip/wheels/c5/23/fb/9942f0e9904ed420bacfb7abbe9821e62b4dd6fba9f0a1108c\n",
      "Successfully built gmsh\n",
      "Installing collected packages: gmsh, pygmsh\n",
      "Successfully installed gmsh-4.8.4 pygmsh-7.1.13\n",
      "Requirement already satisfied: tqdm in /usr/local/lib/python3.9/dist-packages (4.62.3)\n",
      "\u001b[33mWARNING: Skipping h5py as it is not installed.\u001b[0m\n",
      "Collecting h5py==2.9.0\n",
      "  Downloading h5py-2.9.0.tar.gz (287 kB)\n",
      "\u001b[K     |████████████████████████████████| 287 kB 3.4 MB/s eta 0:00:01\n",
      "\u001b[?25hRequirement already satisfied: numpy>=1.7 in /usr/local/lib/python3.9/dist-packages (from h5py==2.9.0) (1.20.3)\n",
      "Requirement already satisfied: six in /usr/local/lib/python3.9/dist-packages (from h5py==2.9.0) (1.16.0)\n",
      "Building wheels for collected packages: h5py\n",
      "  Building wheel for h5py (setup.py) ... \u001b[?25ldone\n",
      "\u001b[?25h  Created wheel for h5py: filename=h5py-2.9.0-cp39-cp39-linux_x86_64.whl size=4691308 sha256=60491e5a16e2ea164c53165a0af7f903085a803bdf1066ef86867c2f6bc70178\n",
      "  Stored in directory: /root/.cache/pip/wheels/ef/54/5c/3fbdb9cfe071661699815cfd6b71ddf2d12d61d121a109a5e0\n",
      "Successfully built h5py\n",
      "Installing collected packages: h5py\n",
      "Successfully installed h5py-2.9.0\n"
     ]
    }
   ],
   "source": [
    "!pip install tetgen\n",
    "!apt-get install -qq xvfb\n",
    "!pip install pyvista panel -q\n",
    "!pip install -q piglet pyvirtualdisplay\n",
    "!pip install pygmsh\n",
    "!pip install tqdm\n",
    "!pip uninstall -y h5py\n",
    "!pip install h5py==2.9.0"
   ]
  },
  {
   "cell_type": "code",
   "execution_count": 1,
   "metadata": {},
   "outputs": [
    {
     "data": {
      "text/plain": [
       "<pyvirtualdisplay.display.Display at 0x7f9a1c0fc580>"
      ]
     },
     "execution_count": 1,
     "metadata": {},
     "output_type": "execute_result"
    }
   ],
   "source": [
    "from pyvirtualdisplay import Display\n",
    "display = Display(visible=0, size=(600, 400))\n",
    "display.start()"
   ]
  },
  {
   "cell_type": "code",
   "execution_count": 2,
   "metadata": {
    "id": "pgyEZntvDDm4"
   },
   "outputs": [],
   "source": [
    "# Fenics imports:\n",
    "import dolfinx\n",
    "import dolfinx.io\n",
    "import dolfinx.plot\n",
    "import dolfinx.geometry\n",
    "from dolfinx.cpp.mesh import CellType\n",
    "\n",
    "# Numerics imports:\n",
    "from petsc4py import PETSc\n",
    "import numpy as np\n",
    "\n",
    "# Mesh imports:\n",
    "import gmsh\n",
    "import pygmsh\n",
    "import meshio\n",
    "import ufl\n",
    "from mpi4py import MPI\n",
    "import tetgen\n",
    "\n",
    "# Visualisation imports:\n",
    "import pyvista\n",
    "\n",
    "# Misc imports:\n",
    "from math import sin, cos, pi, ceil, floor\n",
    "import os\n",
    "from tqdm import tqdm"
   ]
  },
  {
   "cell_type": "markdown",
   "metadata": {},
   "source": [
    "## Mesh Functions"
   ]
  },
  {
   "cell_type": "markdown",
   "metadata": {},
   "source": [
    "Create mesh from .obj file:"
   ]
  },
  {
   "cell_type": "code",
   "execution_count": 31,
   "metadata": {},
   "outputs": [],
   "source": [
    "def create_mesh(obj_dir, mesh_type):\n",
    "    surface_mesh = pyvista.read(obj_dir)\n",
    "    if mesh_type.lower() == 'tetra':\n",
    "        mindihedral = 20\n",
    "        vol_mesh = create_volume_mesh(surface_mesh, mindihedral)\n",
    "    elif mesh_type.lower() == 'hex':\n",
    "        mindihedral = 1\n",
    "        vol_mesh = create_volume_mesh(surface_mesh, mindihedral)\n",
    "        vol_mesh = tet2hex(vol_mesh)\n",
    "    # meshio.write('temp.xdmf', vol_mesh)\n",
    "    # with dolfinx.io.XDMFFile(MPI.COMM_WORLD, 'temp.xdmf', 'r') as f:\n",
    "    #     vol_mesh = f.read_mesh(name=\"Grid\")\n",
    "    # vol_mesh.topology.create_connectivity(vol_mesh.topology.dim, vol_mesh.topology.dim-1)\n",
    "    # for ext in ('.h5', '.xdmf'):\n",
    "    #     os.remove('temp'+ext)\n",
    "    return vol_mesh"
   ]
  },
  {
   "cell_type": "markdown",
   "metadata": {},
   "source": [
    "Convert Dolfinx mesh to meshio mesh:"
   ]
  },
  {
   "cell_type": "code",
   "execution_count": 4,
   "metadata": {},
   "outputs": [],
   "source": [
    "def dolfin_to_meshio(dolfin_mesh):\n",
    "    num_nodes = dolfin_mesh.geometry.dofmap.num_nodes\n",
    "    cells = dolfin_mesh.geometry.dofmap.array.reshape(num_nodes,-1)\n",
    "    cell_type = dolfin_mesh.topology.cell_name()\n",
    "    points = dolfin_mesh.geometry.x\n",
    "    meshio_mesh = meshio.Mesh(points, [(cell_type, cells)])\n",
    "    return meshio_mesh"
   ]
  },
  {
   "cell_type": "markdown",
   "metadata": {},
   "source": [
    "To create a tetrahedral volumetric mesh from a triangular surface mesh:"
   ]
  },
  {
   "cell_type": "code",
   "execution_count": 5,
   "metadata": {},
   "outputs": [],
   "source": [
    "def create_volume_mesh(pyvista_mesh, mindihedral=1):\n",
    "    tetgen_mesh = tetgen.TetGen(pyvista_mesh)\n",
    "    tetgen_mesh.tetrahedralize(order=1, mindihedral=mindihedral) \n",
    "    grid = tetgen_mesh.grid\n",
    "    grid_cells = grid.cells_dict.pop(10)\n",
    "    meshio_mesh = meshio.Mesh(grid.points, [(\"tetra\", grid_cells)])\n",
    "    return meshio_mesh"
   ]
  },
  {
   "cell_type": "markdown",
   "metadata": {},
   "source": [
    "To convert a tetraheral volumetric mesh to a hexahedral volumetric mesh:"
   ]
  },
  {
   "cell_type": "code",
   "execution_count": 6,
   "metadata": {},
   "outputs": [],
   "source": [
    "from itertools import combinations\n",
    "import numpy as np\n",
    "from tqdm import tqdm\n",
    "\n",
    "NUM_VERT=4\n",
    "NUM_SUBDIV=4\n",
    "EDGE_COMBOS = list(combinations(range(NUM_VERT),2))\n",
    "FACE_COMBOS = list(combinations(range(NUM_VERT),3))\n",
    "EPS = 1e-12\n",
    "ORDERING_AXIS = 2\n",
    "\n",
    "\n",
    "EL_0_ORDER = ((  (0,),   (0,1),   (0,1,2),   (0,2)),\n",
    "               ((0,3), (0,1,3), (0,1,2,3), (0,2,3)))\n",
    "EL_1_ORDER = ((  (1,),   (1,2),   (0,1,2),   (0,1)),\n",
    "               ((1,3), (1,2,3), (0,1,2,3), (0,1,3)))\n",
    "EL_2_ORDER = (( (2,),   (0,2),   (0,1,2),   (1,2)),\n",
    "              ((2,3), (0,2,3), (0,1,2,3), (1,2,3)))\n",
    "EL_3_ORDER = (((0,3), (0,1,3), (0,1,2,3), (0,2,3)),\n",
    "              ( (3,),   (1,3),   (1,2,3),   (2,3)))\n",
    "SUBDIV_ELS = (EL_0_ORDER, EL_1_ORDER, EL_2_ORDER, EL_3_ORDER)\n",
    "\n",
    "SUBDIV_VERTS = (*[(i,) for i in range(NUM_VERT)],\n",
    "                *EDGE_COMBOS,\n",
    "                *FACE_COMBOS,\n",
    "                tuple(i for i in range(NUM_VERT)))\n",
    "\n",
    "SUBDIV_ORDER = []\n",
    "for el in SUBDIV_ELS:\n",
    "    face_idx = []\n",
    "    for f in el:\n",
    "        vert_idx = []\n",
    "        for v_1 in f:\n",
    "            vert_i = [idx for idx, v_2 in enumerate(SUBDIV_VERTS) if v_1==v_2]\n",
    "            vert_idx.append(vert_i[0])\n",
    "        face_idx.append(tuple(vert_idx))\n",
    "    SUBDIV_ORDER.append(tuple(face_idx))\n",
    "SUBDIV_ORDER = tuple(SUBDIV_ORDER) \n",
    "\n",
    "def tet2hex(mesh):\n",
    "    old_coords = mesh.points\n",
    "    new_cells, new_coords = np.empty((0,8), int), np.empty((0,3), float)\n",
    "    for i, verts in enumerate(tqdm(mesh.cells[0].data)):\n",
    "        # Compute coordinates of four hexahedra which will formed \n",
    "        # by dividing up this tetrahedron:\n",
    "        subdiv_coords = compute_subdiv_coords(verts, old_coords)\n",
    "        # Update the coordiantes list and cells list:\n",
    "        new_cells, new_coords = update_cells_and_coords(subdiv_coords, new_cells, new_coords)\n",
    "    \n",
    "    new_mesh = meshio.Mesh(new_coords, [(\"hexahedron\", new_cells)])\n",
    "    return new_mesh\n",
    "\n",
    "def compute_subdiv_coords(verts, coords):\n",
    "    vert_coords = np.array([coords[v] for v in verts])\n",
    "    \n",
    "    # Order vertex along z axis:\n",
    "    ordering = np.argsort(vert_coords[:, ORDERING_AXIS])\n",
    "    vert_coords = vert_coords[ordering]\n",
    "    \n",
    "    edge_centres = [np.mean([vert_coords[idx] for idx in edge], axis=0) for edge in EDGE_COMBOS]\n",
    "    face_centres = [np.mean([vert_coords[idx] for idx in faces], axis=0) for faces in FACE_COMBOS]\n",
    "    vol_centre = np.mean(vert_coords, axis=0)\n",
    "    subdiv_coords = np.vstack([*vert_coords, *edge_centres, *face_centres, vol_centre])\n",
    "    return subdiv_coords\n",
    "\n",
    "def update_cells_and_coords(hex_coords, new_cells, new_coords):\n",
    "    \n",
    "    # First, see if any hex coordinates already exist within our mesh:\n",
    "    exist_pts = find_exist_pts(hex_coords, new_coords)\n",
    "    \n",
    "    # Create new coordinates for those points not currently in the mesh:\n",
    "    notexist_pts = {}\n",
    "    num_coords = len(new_coords)\n",
    "    for i, c in enumerate(hex_coords):\n",
    "        if i not in exist_pts.keys():\n",
    "            # Number this new point:\n",
    "            notexist_pts[i] = num_coords\n",
    "            # Add new coordinates to coordinates list:\n",
    "            new_coords = np.vstack([new_coords, c])\n",
    "            # Note we have one more point in mesh:\n",
    "            num_coords += 1\n",
    "    \n",
    "    global_idx = exist_pts\n",
    "    global_idx.update(notexist_pts)\n",
    "    for elem in range(NUM_SUBDIV):\n",
    "        cell_i = []\n",
    "        for face in (0, 1):\n",
    "            cell_i += [global_idx[i] for i in SUBDIV_ORDER[elem][face]]\n",
    "        new_cells = np.vstack([new_cells, cell_i]) \n",
    "    return (new_cells, new_coords)\n",
    "\n",
    "def find_exist_pts(hex_coords, coords):\n",
    "    exist_pts = {}\n",
    "    if coords.size>0:\n",
    "        for i, c in enumerate(hex_coords):\n",
    "            coord_dist = abs(coords - c)\n",
    "            pts_same = np.all(coord_dist<EPS, axis=1)\n",
    "            if pts_same.sum():\n",
    "                exist_pts[i] = np.where(pts_same)[0].item()\n",
    "    return exist_pts\n",
    "\n",
    "def order_cell_verts(el_idx, cell_i):\n",
    "    for face in (0, 1):    \n",
    "        ordering = SUBDIV_ORDER[el_idx][face]"
   ]
  },
  {
   "cell_type": "markdown",
   "metadata": {},
   "source": [
    "## Visualisation"
   ]
  },
  {
   "cell_type": "markdown",
   "metadata": {},
   "source": [
    "To visualise a PyVista mesh"
   ]
  },
  {
   "cell_type": "code",
   "execution_count": 7,
   "metadata": {},
   "outputs": [],
   "source": [
    "def visualise_mesh(grid, subgrid=None, title=None):\n",
    "    pyvista.start_xvfb(wait=0.05)\n",
    "    p = pyvista.Plotter(notebook=True, window_size=[960,480]) #\n",
    "    if subgrid is not None:\n",
    "        p.add_mesh(grid, style=\"wireframe\", color=\"k\") \n",
    "        p.add_mesh(subgrid, color='white', lighting=True, show_edges=True) \n",
    "    else: \n",
    "        p.add_mesh(grid, show_edges=True, edge_color='k', color='white', lighting=False) # \n",
    "    \n",
    "    p.show_axes()\n",
    "    # p.show_bounds()\n",
    "    p.show_grid()\n",
    "    viewer = p.show(jupyter_backend='panel', return_viewer=True)\n",
    "    return viewer"
   ]
  },
  {
   "cell_type": "markdown",
   "metadata": {},
   "source": [
    "To extract 'slice' from mesh:"
   ]
  },
  {
   "cell_type": "code",
   "execution_count": 8,
   "metadata": {},
   "outputs": [],
   "source": [
    "def get_submesh(pyvista_mesh, axis, cutoff):\n",
    "    cell_center = pyvista_mesh.cell_centers().points\n",
    "    mask = cell_center[:, axis] < cutoff\n",
    "    cell_ind = mask.nonzero()[0]\n",
    "    submesh = pyvista_mesh.extract_cells(cell_ind)\n",
    "    return submesh"
   ]
  },
  {
   "cell_type": "markdown",
   "metadata": {},
   "source": [
    "Deformation visualisation:"
   ]
  },
  {
   "cell_type": "code",
   "execution_count": 9,
   "metadata": {},
   "outputs": [],
   "source": [
    "def plot_deformation(meshio_mesh, uh):\n",
    "    mesh = meshio_mesh\n",
    "    pyvista.start_xvfb(wait=0.05)\n",
    "    topology, cell_types = dolfinx.plot.create_vtk_topology(mesh, mesh.topology.dim)\n",
    "    grid = pyvista.UnstructuredGrid(topology, cell_types, mesh.geometry.x)\n",
    "    \n",
    "    p = pyvista.Plotter(notebook=True, window_size=[960,480]) #\n",
    "    \n",
    "    p.add_text(\"Deformed configuration\", name=\"title\", position=\"upper_edge\")\n",
    "    \n",
    "    grid[\"u\"] = uh.compute_point_values().real \n",
    "    actor_0 = p.add_mesh(grid, style=\"wireframe\", color=\"k\")\n",
    "    warped = grid.warp_by_vector(\"u\", factor=1.5)\n",
    "    actor_1 = p.add_mesh(warped)\n",
    "    \n",
    "    p.show_axes()\n",
    "    viewer = p.show(jupyter_backend='panel', return_viewer=True)\n",
    "    return viewer"
   ]
  },
  {
   "cell_type": "markdown",
   "metadata": {},
   "source": [
    "## Gravitational Loading"
   ]
  },
  {
   "cell_type": "markdown",
   "metadata": {},
   "source": [
    "Main function to apply gravitational load to mesh:"
   ]
  },
  {
   "cell_type": "code",
   "execution_count": 10,
   "metadata": {},
   "outputs": [],
   "source": [
    "def apply_loading(obj_dir, y_rot, x_rot, E, nu, kappa, rho, g, elem_order, num_steps, mesh_type, u_0=None):\n",
    "    \n",
    "    mesh = create_mesh(obj_dir, mesh_type)\n",
    "    V = dolfinx.VectorFunctionSpace(mesh, (\"CG\", elem_order))\n",
    "    \n",
    "    # Create lambda and kappa fields (see: https://en.wikipedia.org/wiki/Lam%C3%A9_parameters):\n",
    "    mu = E/(2*(1+nu))\n",
    "    \n",
    "    # Apply fixed BC:\n",
    "    fixed = lambda x: x[0] < 10\n",
    "    fixed_facets = dolfinx.mesh.locate_entities_boundary(mesh, mesh.topology.dim - 1, fixed)\n",
    "    facet_tag = dolfinx.MeshTags(mesh, mesh.topology.dim-1, fixed_facets, 1)\n",
    "    u_bc = dolfinx.Function(V)\n",
    "    with u_bc.vector.localForm() as loc:\n",
    "        loc.set(0)\n",
    "    left_dofs = dolfinx.fem.locate_dofs_topological(V, facet_tag.dim, facet_tag.indices[facet_tag.values==1])\n",
    "    bcs = [dolfinx.DirichletBC(u_bc, left_dofs)]\n",
    "    \n",
    "    B = dolfinx.Constant(mesh, (0, 0, 0))\n",
    "    v = ufl.TestFunction(V)\n",
    "    u = dolfinx.Function(V)\n",
    "    d = len(u)\n",
    "    I = ufl.variable(ufl.Identity(d))\n",
    "    F = ufl.variable(I + ufl.grad(u))\n",
    "    C = ufl.variable(F.T * F)\n",
    "    J = ufl.variable(ufl.det(F))\n",
    "    Ic = ufl.variable(ufl.tr(C))\n",
    "    # Nearly incompressible Neo-Hookean material:\n",
    "    psi = (mu/2)*(Ic - 3) + kappa/2*(J-1)**2\n",
    "    P = ufl.diff(psi, F)\n",
    "    \n",
    "    metadata = {\"quadrature_degree\": elem_order}\n",
    "    dx = ufl.Measure(\"dx\", metadata=metadata)\n",
    "    F = ufl.inner(ufl.grad(v), P)*dx - ufl.inner(v, B)*dx\n",
    "    \n",
    "    problem = dolfinx.fem.NonlinearProblem(F, u, bcs)\n",
    "    solver = dolfinx.NewtonSolver(MPI.COMM_WORLD, problem)\n",
    "\n",
    "    solver.atol = 1e-3\n",
    "    solver.rtol = 1e-3\n",
    "    solver.convergence_criterion = \"incremental\"\n",
    "    \n",
    "    g_vector = rho*g*np.array([1,0,0])\n",
    "    g_vector = rotate_gravity(g_vector, y_rot, x_rot)\n",
    "\n",
    "    if u_0 is None:\n",
    "        f_step = g_vector/num_steps\n",
    "        for n in range(num_steps):\n",
    "            print(f\"Performing load step {n+1}/{num_steps}\")\n",
    "            for i, f_i in enumerate(f_step):\n",
    "                B.value[i] = (n+1)*f_i\n",
    "            num_its, converged = solver.solve(u)\n",
    "            assert(converged)\n",
    "            u.vector.ghostUpdate(addv=PETSc.InsertMode.INSERT, mode=PETSc.ScatterMode.FORWARD)\n",
    "    else:\n",
    "        for i, g_i in enumerate(g_vector):\n",
    "            B.value[i] = g_i\n",
    "        sol, old_mesh = u_0['sol'], u_0['mesh']\n",
    "        u_init = interpolate_solution(sol, u._V.tabulate_dof_coordinates(), old_mesh)\n",
    "        u.vector[:] = u_init.flatten()\n",
    "        num_its, converged = solver.solve(u)\n",
    "    return (u, mesh)"
   ]
  },
  {
   "cell_type": "markdown",
   "metadata": {},
   "source": [
    "Function to rotate gravity using two Euler angles:"
   ]
  },
  {
   "cell_type": "code",
   "execution_count": 11,
   "metadata": {},
   "outputs": [],
   "source": [
    "# Using Euler angles - see https://www.autonomousrobotslab.com/frame-rotations-and-representations.html\n",
    "# Here, y_rot = theta, x_rot = psi\n",
    "ANGLE_TO_RAD = pi/180\n",
    "def rotate_gravity(g_vector, y_rot, x_rot):\n",
    "    # NB: Negative associated with y so increasing y_rot goesin 'right direction'\n",
    "    theta, psi = -ANGLE_TO_RAD*y_rot, ANGLE_TO_RAD*x_rot\n",
    "    rot_matrix = np.array([[         cos(theta),        0,          -sin(theta)],\n",
    "                           [sin(psi)*sin(theta),  cos(psi), sin(psi)*cos(theta)],\n",
    "                           [cos(psi)*sin(theta), -sin(psi), cos(psi)*cos(theta)]])\n",
    "    rotated_g = rot_matrix @ g_vector\n",
    "    return rotated_g"
   ]
  },
  {
   "cell_type": "markdown",
   "metadata": {},
   "source": [
    "Function to interpolate solution at specified points:"
   ]
  },
  {
   "cell_type": "code",
   "execution_count": 12,
   "metadata": {},
   "outputs": [],
   "source": [
    "def interpolate_solution(sol, x, mesh):\n",
    "    bb_tree = dolfinx.geometry.BoundingBoxTree(mesh, mesh.topology.dim)\n",
    "    cells = []\n",
    "    points_on_proc = []\n",
    "    for point in x:\n",
    "        # Find cells that are close to the point\n",
    "        cell_candidates = dolfinx.geometry.compute_collisions_point(bb_tree, point)\n",
    "        # Choose one of the cells that contains the point\n",
    "        cell = dolfinx.geometry.select_colliding_cells(mesh, cell_candidates, point, 1)\n",
    "        # Only use evaluate for points on current processor\n",
    "        if len(cell) == 0:\n",
    "            cell = dolfinx.geometry.compute_closest_entity(bb_tree, point, mesh)\n",
    "            cell = [cell[0]]\n",
    "        points_on_proc.append(point)\n",
    "        cells.append(cell[0])\n",
    "    points_on_proc = np.array(points_on_proc, dtype=np.float64)\n",
    "    interp_vals = sol.eval(points_on_proc, cells)\n",
    "    return interp_vals"
   ]
  },
  {
   "cell_type": "markdown",
   "metadata": {},
   "source": [
    "# Functions Calls"
   ]
  },
  {
   "cell_type": "code",
   "execution_count": 13,
   "metadata": {},
   "outputs": [],
   "source": [
    "# Fixed parameters:\n",
    "elem_order = 2\n",
    "nu = 0.33 # dimensionless\n",
    "rho = 0.00102 # in g mm^-3\n",
    "kappa = 200 # Regularisation parameter\n",
    "g = 9.81 # in m s^-2\n",
    "\n",
    "# Variables:\n",
    "y_rot = 90\n",
    "x_rot = -90\n",
    "E = 50 # in kPa"
   ]
  },
  {
   "cell_type": "code",
   "execution_count": 14,
   "metadata": {
    "tags": []
   },
   "outputs": [
    {
     "name": "stdout",
     "output_type": "stream",
     "text": [
      "Performing load step 1/5\n"
     ]
    },
    {
     "ename": "KeyboardInterrupt",
     "evalue": "",
     "output_type": "error",
     "traceback": [
      "\u001b[0;31m---------------------------------------------------------------------------\u001b[0m",
      "\u001b[0;31mKeyboardInterrupt\u001b[0m                         Traceback (most recent call last)",
      "\u001b[0;32m/tmp/ipykernel_1533/1962119403.py\u001b[0m in \u001b[0;36m<module>\u001b[0;34m\u001b[0m\n\u001b[1;32m      4\u001b[0m \u001b[0;34m\u001b[0m\u001b[0m\n\u001b[1;32m      5\u001b[0m \u001b[0mnum_steps\u001b[0m \u001b[0;34m=\u001b[0m \u001b[0;36m5\u001b[0m\u001b[0;34m\u001b[0m\u001b[0;34m\u001b[0m\u001b[0m\n\u001b[0;32m----> 6\u001b[0;31m \u001b[0mu\u001b[0m\u001b[0;34m,\u001b[0m \u001b[0mmesh\u001b[0m \u001b[0;34m=\u001b[0m \u001b[0mapply_loading\u001b[0m\u001b[0;34m(\u001b[0m\u001b[0mobj_dir\u001b[0m\u001b[0;34m,\u001b[0m \u001b[0my_rot\u001b[0m\u001b[0;34m,\u001b[0m \u001b[0mx_rot\u001b[0m\u001b[0;34m,\u001b[0m \u001b[0mE\u001b[0m\u001b[0;34m,\u001b[0m \u001b[0mnu\u001b[0m\u001b[0;34m,\u001b[0m \u001b[0mkappa\u001b[0m\u001b[0;34m,\u001b[0m \u001b[0mrho\u001b[0m\u001b[0;34m,\u001b[0m \u001b[0mg\u001b[0m\u001b[0;34m,\u001b[0m \u001b[0melem_order\u001b[0m\u001b[0;34m,\u001b[0m \u001b[0mnum_steps\u001b[0m\u001b[0;34m,\u001b[0m \u001b[0mmesh_type\u001b[0m\u001b[0;34m)\u001b[0m\u001b[0;34m\u001b[0m\u001b[0;34m\u001b[0m\u001b[0m\n\u001b[0m\u001b[1;32m      7\u001b[0m \u001b[0mplot_deformation\u001b[0m\u001b[0;34m(\u001b[0m\u001b[0mmesh\u001b[0m\u001b[0;34m,\u001b[0m \u001b[0mu\u001b[0m\u001b[0;34m)\u001b[0m\u001b[0;34m\u001b[0m\u001b[0;34m\u001b[0m\u001b[0m\n",
      "\u001b[0;32m/tmp/ipykernel_1533/946524037.py\u001b[0m in \u001b[0;36mapply_loading\u001b[0;34m(obj_dir, y_rot, x_rot, E, nu, kappa, rho, g, elem_order, num_steps, mesh_type, u_0)\u001b[0m\n\u001b[1;32m     52\u001b[0m             \u001b[0;32mfor\u001b[0m \u001b[0mi\u001b[0m\u001b[0;34m,\u001b[0m \u001b[0mf_i\u001b[0m \u001b[0;32min\u001b[0m \u001b[0menumerate\u001b[0m\u001b[0;34m(\u001b[0m\u001b[0mf_step\u001b[0m\u001b[0;34m)\u001b[0m\u001b[0;34m:\u001b[0m\u001b[0;34m\u001b[0m\u001b[0;34m\u001b[0m\u001b[0m\n\u001b[1;32m     53\u001b[0m                 \u001b[0mB\u001b[0m\u001b[0;34m.\u001b[0m\u001b[0mvalue\u001b[0m\u001b[0;34m[\u001b[0m\u001b[0mi\u001b[0m\u001b[0;34m]\u001b[0m \u001b[0;34m=\u001b[0m \u001b[0;34m(\u001b[0m\u001b[0mn\u001b[0m\u001b[0;34m+\u001b[0m\u001b[0;36m1\u001b[0m\u001b[0;34m)\u001b[0m\u001b[0;34m*\u001b[0m\u001b[0mf_i\u001b[0m\u001b[0;34m\u001b[0m\u001b[0;34m\u001b[0m\u001b[0m\n\u001b[0;32m---> 54\u001b[0;31m             \u001b[0mnum_its\u001b[0m\u001b[0;34m,\u001b[0m \u001b[0mconverged\u001b[0m \u001b[0;34m=\u001b[0m \u001b[0msolver\u001b[0m\u001b[0;34m.\u001b[0m\u001b[0msolve\u001b[0m\u001b[0;34m(\u001b[0m\u001b[0mu\u001b[0m\u001b[0;34m)\u001b[0m\u001b[0;34m\u001b[0m\u001b[0;34m\u001b[0m\u001b[0m\n\u001b[0m\u001b[1;32m     55\u001b[0m             \u001b[0;32massert\u001b[0m\u001b[0;34m(\u001b[0m\u001b[0mconverged\u001b[0m\u001b[0;34m)\u001b[0m\u001b[0;34m\u001b[0m\u001b[0;34m\u001b[0m\u001b[0m\n\u001b[1;32m     56\u001b[0m             \u001b[0mu\u001b[0m\u001b[0;34m.\u001b[0m\u001b[0mvector\u001b[0m\u001b[0;34m.\u001b[0m\u001b[0mghostUpdate\u001b[0m\u001b[0;34m(\u001b[0m\u001b[0maddv\u001b[0m\u001b[0;34m=\u001b[0m\u001b[0mPETSc\u001b[0m\u001b[0;34m.\u001b[0m\u001b[0mInsertMode\u001b[0m\u001b[0;34m.\u001b[0m\u001b[0mINSERT\u001b[0m\u001b[0;34m,\u001b[0m \u001b[0mmode\u001b[0m\u001b[0;34m=\u001b[0m\u001b[0mPETSc\u001b[0m\u001b[0;34m.\u001b[0m\u001b[0mScatterMode\u001b[0m\u001b[0;34m.\u001b[0m\u001b[0mFORWARD\u001b[0m\u001b[0;34m)\u001b[0m\u001b[0;34m\u001b[0m\u001b[0;34m\u001b[0m\u001b[0m\n",
      "\u001b[0;32m/usr/local/dolfinx-real/lib/python3.8/dist-packages/dolfinx/nls.py\u001b[0m in \u001b[0;36msolve\u001b[0;34m(self, u)\u001b[0m\n\u001b[1;32m     32\u001b[0m         \u001b[0mReturns\u001b[0m \u001b[0mthe\u001b[0m \u001b[0mnumber\u001b[0m \u001b[0mof\u001b[0m \u001b[0miterations\u001b[0m \u001b[0;32mand\u001b[0m \u001b[0;32mif\u001b[0m \u001b[0mthe\u001b[0m \u001b[0msolver\u001b[0m \u001b[0mconverged\u001b[0m\u001b[0;34m\u001b[0m\u001b[0;34m\u001b[0m\u001b[0m\n\u001b[1;32m     33\u001b[0m         \"\"\"\n\u001b[0;32m---> 34\u001b[0;31m         \u001b[0mn\u001b[0m\u001b[0;34m,\u001b[0m \u001b[0mconverged\u001b[0m \u001b[0;34m=\u001b[0m \u001b[0msuper\u001b[0m\u001b[0;34m(\u001b[0m\u001b[0;34m)\u001b[0m\u001b[0;34m.\u001b[0m\u001b[0msolve\u001b[0m\u001b[0;34m(\u001b[0m\u001b[0mu\u001b[0m\u001b[0;34m.\u001b[0m\u001b[0mvector\u001b[0m\u001b[0;34m)\u001b[0m\u001b[0;34m\u001b[0m\u001b[0;34m\u001b[0m\u001b[0m\n\u001b[0m\u001b[1;32m     35\u001b[0m         \u001b[0mu\u001b[0m\u001b[0;34m.\u001b[0m\u001b[0mx\u001b[0m\u001b[0;34m.\u001b[0m\u001b[0mscatter_forward\u001b[0m\u001b[0;34m(\u001b[0m\u001b[0;34m)\u001b[0m\u001b[0;34m\u001b[0m\u001b[0;34m\u001b[0m\u001b[0m\n\u001b[1;32m     36\u001b[0m         \u001b[0;32mreturn\u001b[0m \u001b[0mn\u001b[0m\u001b[0;34m,\u001b[0m \u001b[0mconverged\u001b[0m\u001b[0;34m\u001b[0m\u001b[0;34m\u001b[0m\u001b[0m\n",
      "\u001b[0;32m/usr/local/dolfinx-real/lib/python3.8/dist-packages/dolfinx/fem/problem.py\u001b[0m in \u001b[0;36mform\u001b[0;34m(self, x)\u001b[0m\n\u001b[1;32m    190\u001b[0m         \u001b[0;32mreturn\u001b[0m \u001b[0mself\u001b[0m\u001b[0;34m.\u001b[0m\u001b[0m_a\u001b[0m\u001b[0;34m\u001b[0m\u001b[0;34m\u001b[0m\u001b[0m\n\u001b[1;32m    191\u001b[0m \u001b[0;34m\u001b[0m\u001b[0m\n\u001b[0;32m--> 192\u001b[0;31m     \u001b[0;32mdef\u001b[0m \u001b[0mform\u001b[0m\u001b[0;34m(\u001b[0m\u001b[0mself\u001b[0m\u001b[0;34m,\u001b[0m \u001b[0mx\u001b[0m\u001b[0;34m:\u001b[0m \u001b[0mPETSc\u001b[0m\u001b[0;34m.\u001b[0m\u001b[0mVec\u001b[0m\u001b[0;34m)\u001b[0m\u001b[0;34m:\u001b[0m\u001b[0;34m\u001b[0m\u001b[0;34m\u001b[0m\u001b[0m\n\u001b[0m\u001b[1;32m    193\u001b[0m         \"\"\"\n\u001b[1;32m    194\u001b[0m         \u001b[0mThis\u001b[0m \u001b[0mfunction\u001b[0m \u001b[0;32mis\u001b[0m \u001b[0mcalled\u001b[0m \u001b[0mbefore\u001b[0m \u001b[0mthe\u001b[0m \u001b[0mresidual\u001b[0m \u001b[0;32mor\u001b[0m \u001b[0mJacobian\u001b[0m \u001b[0;32mis\u001b[0m \u001b[0mcomputed\u001b[0m\u001b[0;34m.\u001b[0m\u001b[0;34m\u001b[0m\u001b[0;34m\u001b[0m\u001b[0m\n",
      "\u001b[0;31mKeyboardInterrupt\u001b[0m: "
     ]
    }
   ],
   "source": [
    "# Mesh information:\n",
    "obj_dir = 'breast_tet.obj'\n",
    "mesh_type = 'tetra'\n",
    "\n",
    "num_steps = 5\n",
    "u, mesh = apply_loading(obj_dir, y_rot, x_rot, E, nu, kappa, rho, g, elem_order, num_steps, mesh_type)\n",
    "plot_deformation(mesh, u)"
   ]
  },
  {
   "cell_type": "code",
   "execution_count": 16,
   "metadata": {},
   "outputs": [
    {
     "name": "stderr",
     "output_type": "stream",
     "text": [
      "100%|██████████| 481/481 [00:00<00:00, 723.59it/s]\n"
     ]
    },
    {
     "name": "stdout",
     "output_type": "stream",
     "text": [
      "Performing load step 1/5\n"
     ]
    },
    {
     "ename": "KeyboardInterrupt",
     "evalue": "",
     "output_type": "error",
     "traceback": [
      "\u001b[0;31m---------------------------------------------------------------------------\u001b[0m",
      "\u001b[0;31mKeyboardInterrupt\u001b[0m                         Traceback (most recent call last)",
      "\u001b[0;32m/tmp/ipykernel_1533/120402663.py\u001b[0m in \u001b[0;36m<module>\u001b[0;34m\u001b[0m\n\u001b[1;32m      4\u001b[0m \u001b[0;34m\u001b[0m\u001b[0m\n\u001b[1;32m      5\u001b[0m \u001b[0;31m# u_0 = {'sol': u, 'mesh': mesh}\u001b[0m\u001b[0;34m\u001b[0m\u001b[0;34m\u001b[0m\u001b[0;34m\u001b[0m\u001b[0m\n\u001b[0;32m----> 6\u001b[0;31m \u001b[0mu\u001b[0m\u001b[0;34m,\u001b[0m \u001b[0mmesh\u001b[0m \u001b[0;34m=\u001b[0m \u001b[0mapply_loading\u001b[0m\u001b[0;34m(\u001b[0m\u001b[0mobj_dir\u001b[0m\u001b[0;34m,\u001b[0m \u001b[0my_rot\u001b[0m\u001b[0;34m,\u001b[0m \u001b[0mx_rot\u001b[0m\u001b[0;34m,\u001b[0m \u001b[0mE\u001b[0m\u001b[0;34m,\u001b[0m \u001b[0mnu\u001b[0m\u001b[0;34m,\u001b[0m \u001b[0mkappa\u001b[0m\u001b[0;34m,\u001b[0m \u001b[0mrho\u001b[0m\u001b[0;34m,\u001b[0m \u001b[0mg\u001b[0m\u001b[0;34m,\u001b[0m \u001b[0melem_order\u001b[0m\u001b[0;34m,\u001b[0m \u001b[0mnum_steps\u001b[0m\u001b[0;34m,\u001b[0m \u001b[0mmesh_type\u001b[0m\u001b[0;34m)\u001b[0m \u001b[0;31m#, u_0\u001b[0m\u001b[0;34m\u001b[0m\u001b[0;34m\u001b[0m\u001b[0m\n\u001b[0m\u001b[1;32m      7\u001b[0m \u001b[0mplot_deformation\u001b[0m\u001b[0;34m(\u001b[0m\u001b[0mmesh\u001b[0m\u001b[0;34m,\u001b[0m \u001b[0mu\u001b[0m\u001b[0;34m)\u001b[0m\u001b[0;34m\u001b[0m\u001b[0;34m\u001b[0m\u001b[0m\n",
      "\u001b[0;32m/tmp/ipykernel_1533/946524037.py\u001b[0m in \u001b[0;36mapply_loading\u001b[0;34m(obj_dir, y_rot, x_rot, E, nu, kappa, rho, g, elem_order, num_steps, mesh_type, u_0)\u001b[0m\n\u001b[1;32m     52\u001b[0m             \u001b[0;32mfor\u001b[0m \u001b[0mi\u001b[0m\u001b[0;34m,\u001b[0m \u001b[0mf_i\u001b[0m \u001b[0;32min\u001b[0m \u001b[0menumerate\u001b[0m\u001b[0;34m(\u001b[0m\u001b[0mf_step\u001b[0m\u001b[0;34m)\u001b[0m\u001b[0;34m:\u001b[0m\u001b[0;34m\u001b[0m\u001b[0;34m\u001b[0m\u001b[0m\n\u001b[1;32m     53\u001b[0m                 \u001b[0mB\u001b[0m\u001b[0;34m.\u001b[0m\u001b[0mvalue\u001b[0m\u001b[0;34m[\u001b[0m\u001b[0mi\u001b[0m\u001b[0;34m]\u001b[0m \u001b[0;34m=\u001b[0m \u001b[0;34m(\u001b[0m\u001b[0mn\u001b[0m\u001b[0;34m+\u001b[0m\u001b[0;36m1\u001b[0m\u001b[0;34m)\u001b[0m\u001b[0;34m*\u001b[0m\u001b[0mf_i\u001b[0m\u001b[0;34m\u001b[0m\u001b[0;34m\u001b[0m\u001b[0m\n\u001b[0;32m---> 54\u001b[0;31m             \u001b[0mnum_its\u001b[0m\u001b[0;34m,\u001b[0m \u001b[0mconverged\u001b[0m \u001b[0;34m=\u001b[0m \u001b[0msolver\u001b[0m\u001b[0;34m.\u001b[0m\u001b[0msolve\u001b[0m\u001b[0;34m(\u001b[0m\u001b[0mu\u001b[0m\u001b[0;34m)\u001b[0m\u001b[0;34m\u001b[0m\u001b[0;34m\u001b[0m\u001b[0m\n\u001b[0m\u001b[1;32m     55\u001b[0m             \u001b[0;32massert\u001b[0m\u001b[0;34m(\u001b[0m\u001b[0mconverged\u001b[0m\u001b[0;34m)\u001b[0m\u001b[0;34m\u001b[0m\u001b[0;34m\u001b[0m\u001b[0m\n\u001b[1;32m     56\u001b[0m             \u001b[0mu\u001b[0m\u001b[0;34m.\u001b[0m\u001b[0mvector\u001b[0m\u001b[0;34m.\u001b[0m\u001b[0mghostUpdate\u001b[0m\u001b[0;34m(\u001b[0m\u001b[0maddv\u001b[0m\u001b[0;34m=\u001b[0m\u001b[0mPETSc\u001b[0m\u001b[0;34m.\u001b[0m\u001b[0mInsertMode\u001b[0m\u001b[0;34m.\u001b[0m\u001b[0mINSERT\u001b[0m\u001b[0;34m,\u001b[0m \u001b[0mmode\u001b[0m\u001b[0;34m=\u001b[0m\u001b[0mPETSc\u001b[0m\u001b[0;34m.\u001b[0m\u001b[0mScatterMode\u001b[0m\u001b[0;34m.\u001b[0m\u001b[0mFORWARD\u001b[0m\u001b[0;34m)\u001b[0m\u001b[0;34m\u001b[0m\u001b[0;34m\u001b[0m\u001b[0m\n",
      "\u001b[0;32m/usr/local/dolfinx-real/lib/python3.8/dist-packages/dolfinx/nls.py\u001b[0m in \u001b[0;36msolve\u001b[0;34m(self, u)\u001b[0m\n\u001b[1;32m     32\u001b[0m         \u001b[0mReturns\u001b[0m \u001b[0mthe\u001b[0m \u001b[0mnumber\u001b[0m \u001b[0mof\u001b[0m \u001b[0miterations\u001b[0m \u001b[0;32mand\u001b[0m \u001b[0;32mif\u001b[0m \u001b[0mthe\u001b[0m \u001b[0msolver\u001b[0m \u001b[0mconverged\u001b[0m\u001b[0;34m\u001b[0m\u001b[0;34m\u001b[0m\u001b[0m\n\u001b[1;32m     33\u001b[0m         \"\"\"\n\u001b[0;32m---> 34\u001b[0;31m         \u001b[0mn\u001b[0m\u001b[0;34m,\u001b[0m \u001b[0mconverged\u001b[0m \u001b[0;34m=\u001b[0m \u001b[0msuper\u001b[0m\u001b[0;34m(\u001b[0m\u001b[0;34m)\u001b[0m\u001b[0;34m.\u001b[0m\u001b[0msolve\u001b[0m\u001b[0;34m(\u001b[0m\u001b[0mu\u001b[0m\u001b[0;34m.\u001b[0m\u001b[0mvector\u001b[0m\u001b[0;34m)\u001b[0m\u001b[0;34m\u001b[0m\u001b[0;34m\u001b[0m\u001b[0m\n\u001b[0m\u001b[1;32m     35\u001b[0m         \u001b[0mu\u001b[0m\u001b[0;34m.\u001b[0m\u001b[0mx\u001b[0m\u001b[0;34m.\u001b[0m\u001b[0mscatter_forward\u001b[0m\u001b[0;34m(\u001b[0m\u001b[0;34m)\u001b[0m\u001b[0;34m\u001b[0m\u001b[0;34m\u001b[0m\u001b[0m\n\u001b[1;32m     36\u001b[0m         \u001b[0;32mreturn\u001b[0m \u001b[0mn\u001b[0m\u001b[0;34m,\u001b[0m \u001b[0mconverged\u001b[0m\u001b[0;34m\u001b[0m\u001b[0;34m\u001b[0m\u001b[0m\n",
      "\u001b[0;32m/usr/local/dolfinx-real/lib/python3.8/dist-packages/dolfinx/fem/problem.py\u001b[0m in \u001b[0;36mform\u001b[0;34m(self, x)\u001b[0m\n\u001b[1;32m    190\u001b[0m         \u001b[0;32mreturn\u001b[0m \u001b[0mself\u001b[0m\u001b[0;34m.\u001b[0m\u001b[0m_a\u001b[0m\u001b[0;34m\u001b[0m\u001b[0;34m\u001b[0m\u001b[0m\n\u001b[1;32m    191\u001b[0m \u001b[0;34m\u001b[0m\u001b[0m\n\u001b[0;32m--> 192\u001b[0;31m     \u001b[0;32mdef\u001b[0m \u001b[0mform\u001b[0m\u001b[0;34m(\u001b[0m\u001b[0mself\u001b[0m\u001b[0;34m,\u001b[0m \u001b[0mx\u001b[0m\u001b[0;34m:\u001b[0m \u001b[0mPETSc\u001b[0m\u001b[0;34m.\u001b[0m\u001b[0mVec\u001b[0m\u001b[0;34m)\u001b[0m\u001b[0;34m:\u001b[0m\u001b[0;34m\u001b[0m\u001b[0;34m\u001b[0m\u001b[0m\n\u001b[0m\u001b[1;32m    193\u001b[0m         \"\"\"\n\u001b[1;32m    194\u001b[0m         \u001b[0mThis\u001b[0m \u001b[0mfunction\u001b[0m \u001b[0;32mis\u001b[0m \u001b[0mcalled\u001b[0m \u001b[0mbefore\u001b[0m \u001b[0mthe\u001b[0m \u001b[0mresidual\u001b[0m \u001b[0;32mor\u001b[0m \u001b[0mJacobian\u001b[0m \u001b[0;32mis\u001b[0m \u001b[0mcomputed\u001b[0m\u001b[0;34m.\u001b[0m\u001b[0;34m\u001b[0m\u001b[0;34m\u001b[0m\u001b[0m\n",
      "\u001b[0;31mKeyboardInterrupt\u001b[0m: "
     ]
    }
   ],
   "source": [
    "# Mesh information:\n",
    "obj_dir = 'breast_hex.obj'\n",
    "mesh_type = 'hex'\n",
    "\n",
    "# u_0 = {'sol': u, 'mesh': mesh}\n",
    "u, mesh = apply_loading(obj_dir, y_rot, x_rot, E, nu, kappa, rho, g, elem_order, num_steps, mesh_type) #, u_0\n",
    "plot_deformation(mesh, u)"
   ]
  },
  {
   "cell_type": "code",
   "execution_count": 20,
   "metadata": {},
   "outputs": [
    {
     "name": "stderr",
     "output_type": "stream",
     "text": [
      "100%|██████████| 481/481 [00:00<00:00, 711.31it/s]\n"
     ]
    }
   ],
   "source": [
    "mesh_1 = create_mesh('breast_hex.obj', 'hex')\n",
    "mesh_1 = dolfin_to_meshio(mesh_1)\n",
    "pts_1 = mesh_1.points\n",
    "cells_1 = mesh_1.cells"
   ]
  },
  {
   "cell_type": "code",
   "execution_count": 40,
   "metadata": {},
   "outputs": [
    {
     "data": {
      "text/plain": [
       "((2713, 3), (1924, 8))"
      ]
     },
     "execution_count": 40,
     "metadata": {},
     "output_type": "execute_result"
    }
   ],
   "source": [
    "pts_1.shape, cells_1[0].data.shape"
   ]
  },
  {
   "cell_type": "code",
   "execution_count": 126,
   "metadata": {},
   "outputs": [],
   "source": [
    "a=h5['data1']"
   ]
  },
  {
   "cell_type": "code",
   "execution_count": 130,
   "metadata": {},
   "outputs": [
    {
     "data": {
      "text/plain": [
       "array([[   0,    4,   10, ...,   11,   14,   12],\n",
       "       [   1,    7,   10, ...,   13,   14,   11],\n",
       "       [   2,    5,   10, ...,   12,   14,   13],\n",
       "       ...,\n",
       "       [ 615, 2283, 2284, ..., 2610, 2712, 2269],\n",
       "       [ 126, 1454, 2284, ..., 2289, 2712, 2610],\n",
       "       [2268, 2269, 2712, ..., 1126, 2610, 2167]])"
      ]
     },
     "execution_count": 130,
     "metadata": {},
     "output_type": "execute_result"
    }
   ],
   "source": [
    "a.__array__()"
   ]
  },
  {
   "cell_type": "code",
   "execution_count": 131,
   "metadata": {},
   "outputs": [
    {
     "data": {
      "text/plain": [
       "array([[   0,    4,   10, ...,   11,   14,   12],\n",
       "       [   1,    7,   10, ...,   13,   14,   11],\n",
       "       [   2,    5,   10, ...,   12,   14,   13],\n",
       "       ...,\n",
       "       [ 873, 3318, 4630, ..., 4716, 4776, 2316],\n",
       "       [ 533, 1410, 4630, ..., 3424, 4776, 4716],\n",
       "       [2313, 2316, 4776, ..., 2159, 4716,  931]])"
      ]
     },
     "execution_count": 131,
     "metadata": {},
     "output_type": "execute_result"
    }
   ],
   "source": [
    "cells_2"
   ]
  },
  {
   "cell_type": "code",
   "execution_count": null,
   "metadata": {},
   "outputs": [],
   "source": []
  }
 ],
 "metadata": {
  "colab": {
   "authorship_tag": "ABX9TyO4fc8BbC/fBMObcORcS0o8",
   "collapsed_sections": [],
   "name": "Fenics Gravity Loaded Beam.ipynb",
   "provenance": []
  },
  "kernelspec": {
   "display_name": "Python 3 (ipykernel)",
   "language": "python",
   "name": "python3"
  },
  "language_info": {
   "codemirror_mode": {
    "name": "ipython",
    "version": 3
   },
   "file_extension": ".py",
   "mimetype": "text/x-python",
   "name": "python",
   "nbconvert_exporter": "python",
   "pygments_lexer": "ipython3",
   "version": "3.9.5"
  }
 },
 "nbformat": 4,
 "nbformat_minor": 4
}
