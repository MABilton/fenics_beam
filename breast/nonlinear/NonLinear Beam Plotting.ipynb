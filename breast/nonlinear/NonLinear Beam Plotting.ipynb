{
 "cells": [
  {
   "cell_type": "markdown",
   "metadata": {},
   "source": [
    "# Set-Up"
   ]
  },
  {
   "cell_type": "code",
   "execution_count": 1,
   "metadata": {},
   "outputs": [
    {
     "name": "stdout",
     "output_type": "stream",
     "text": [
      "Collecting pyvista\n",
      "  Downloading pyvista-0.32.1-py3-none-any.whl (1.4 MB)\n",
      "\u001b[K     |████████████████████████████████| 1.4 MB 7.3 MB/s eta 0:00:01\n",
      "\u001b[?25hCollecting imageio\n",
      "  Downloading imageio-2.10.1-py3-none-any.whl (3.3 MB)\n",
      "\u001b[K     |████████████████████████████████| 3.3 MB 12.3 MB/s eta 0:00:01\n",
      "\u001b[?25hRequirement already satisfied: pillow in /usr/lib/python3/dist-packages (from pyvista) (8.1.2)\n",
      "Collecting appdirs\n",
      "  Downloading appdirs-1.4.4-py2.py3-none-any.whl (9.6 kB)\n",
      "Collecting meshio<5.0,>=4.0.3\n",
      "  Downloading meshio-4.4.6-py3-none-any.whl (158 kB)\n",
      "\u001b[K     |████████████████████████████████| 158 kB 12.5 MB/s eta 0:00:01\n",
      "\u001b[?25hRequirement already satisfied: numpy in /usr/local/lib/python3.9/dist-packages (from pyvista) (1.20.3)\n",
      "Collecting vtk\n",
      "  Downloading vtk-9.0.3-cp39-cp39-manylinux_2_17_x86_64.manylinux2014_x86_64.whl (59.5 MB)\n",
      "\u001b[K     |████████████████████████████████| 59.5 MB 32 kB/s  eta 0:00:014    |█▍                              | 2.6 MB 12.6 MB/s eta 0:00:05     |██                              | 3.7 MB 12.6 MB/s eta 0:00:05     |███████▌                        | 13.9 MB 8.4 MB/s eta 0:00:06     |████████                        | 14.9 MB 8.4 MB/s eta 0:00:06     |███████████▊                    | 21.8 MB 10.0 MB/s eta 0:00:04     |███████████████████             | 35.4 MB 8.4 MB/s eta 0:00:03     |███████████████████▉            | 36.8 MB 8.4 MB/s eta 0:00:03     |██████████████████████▏         | 41.2 MB 8.6 MB/s eta 0:00:03     |████████████████████████▌       | 45.5 MB 8.6 MB/s eta 0:00:02     |██████████████████████████▍     | 49.0 MB 7.3 MB/s eta 0:00:02     |███████████████████████████     | 50.1 MB 7.3 MB/s eta 0:00:02     |█████████████████████████████▏  | 54.3 MB 7.3 MB/s eta 0:00:01     |██████████████████████████████  | 55.8 MB 8.5 MB/s eta 0:00:01     |██████████████████████████████▉ | 57.3 MB 8.5 MB/s eta 0:00:01     |███████████████████████████████▋| 58.9 MB 8.5 MB/s eta 0:00:01     |████████████████████████████████| 59.4 MB 8.5 MB/s eta 0:00:01\n",
      "\u001b[?25hCollecting typing-extensions\n",
      "  Downloading typing_extensions-3.10.0.2-py3-none-any.whl (26 kB)\n",
      "Collecting scooby>=0.5.1\n",
      "  Downloading scooby-0.5.7-py3-none-any.whl (13 kB)\n",
      "Collecting pillow\n",
      "  Downloading Pillow-8.4.0-cp39-cp39-manylinux_2_17_x86_64.manylinux2014_x86_64.whl (3.1 MB)\n",
      "\u001b[K     |████████████████████████████████| 3.1 MB 12.4 MB/s eta 0:00:01\n",
      "\u001b[?25hCollecting wslink>=0.1.3\n",
      "  Downloading wslink-1.1.0-py3-none-any.whl (20 kB)\n",
      "Collecting autobahn>=17.7.1\n",
      "  Downloading autobahn-21.3.1-py2.py3-none-any.whl (495 kB)\n",
      "\u001b[K     |████████████████████████████████| 495 kB 11.7 MB/s eta 0:00:01\n",
      "\u001b[?25hCollecting Twisted>=17.5.0\n",
      "  Downloading Twisted-21.7.0-py3-none-any.whl (3.1 MB)\n",
      "\u001b[K     |████████████████████████████████| 3.1 MB 13.0 MB/s eta 0:00:01     |████████▍                       | 808 kB 13.0 MB/s eta 0:00:01\n",
      "\u001b[?25hRequirement already satisfied: matplotlib>=2.0.0 in /usr/local/lib/python3.9/dist-packages (from vtk->pyvista) (3.4.3)\n",
      "Collecting hyperlink>=21.0.0\n",
      "  Downloading hyperlink-21.0.0-py2.py3-none-any.whl (74 kB)\n",
      "\u001b[K     |████████████████████████████████| 74 kB 2.0 MB/s  eta 0:00:01\n",
      "\u001b[?25hCollecting txaio>=21.2.1\n",
      "  Downloading txaio-21.2.1-py2.py3-none-any.whl (30 kB)\n",
      "Collecting cryptography>=3.4.6\n",
      "  Downloading cryptography-35.0.0-cp36-abi3-manylinux_2_24_x86_64.whl (3.5 MB)\n",
      "\u001b[K     |████████████████████████████████| 3.5 MB 12.7 MB/s eta 0:00:01\n",
      "\u001b[?25hRequirement already satisfied: cffi>=1.12 in /usr/local/lib/python3.9/dist-packages (from cryptography>=3.4.6->autobahn>=17.7.1->vtk->pyvista) (1.14.6)\n",
      "Requirement already satisfied: pycparser in /usr/local/lib/python3.9/dist-packages (from cffi>=1.12->cryptography>=3.4.6->autobahn>=17.7.1->vtk->pyvista) (2.20)\n",
      "Requirement already satisfied: idna>=2.5 in /usr/local/lib/python3.9/dist-packages (from hyperlink>=21.0.0->autobahn>=17.7.1->vtk->pyvista) (3.2)\n",
      "Requirement already satisfied: kiwisolver>=1.0.1 in /usr/local/lib/python3.9/dist-packages (from matplotlib>=2.0.0->vtk->pyvista) (1.3.2)\n",
      "Requirement already satisfied: cycler>=0.10 in /usr/local/lib/python3.9/dist-packages (from matplotlib>=2.0.0->vtk->pyvista) (0.10.0)\n",
      "Requirement already satisfied: pyparsing>=2.2.1 in /usr/local/lib/python3.9/dist-packages (from matplotlib>=2.0.0->vtk->pyvista) (2.4.7)\n",
      "Requirement already satisfied: python-dateutil>=2.7 in /usr/local/lib/python3.9/dist-packages (from matplotlib>=2.0.0->vtk->pyvista) (2.8.2)\n",
      "Requirement already satisfied: six in /usr/local/lib/python3.9/dist-packages (from cycler>=0.10->matplotlib>=2.0.0->vtk->pyvista) (1.16.0)\n",
      "Collecting Automat>=0.8.0\n",
      "  Downloading Automat-20.2.0-py2.py3-none-any.whl (31 kB)\n",
      "Requirement already satisfied: attrs>=19.2.0 in /usr/local/lib/python3.9/dist-packages (from Twisted>=17.5.0->vtk->pyvista) (21.2.0)\n",
      "Collecting zope.interface>=4.4.2\n",
      "  Downloading zope.interface-5.4.0-cp39-cp39-manylinux2010_x86_64.whl (255 kB)\n",
      "\u001b[K     |████████████████████████████████| 255 kB 11.7 MB/s eta 0:00:01\n",
      "\u001b[?25hCollecting constantly>=15.1\n",
      "  Downloading constantly-15.1.0-py2.py3-none-any.whl (7.9 kB)\n",
      "Collecting incremental>=21.3.0\n",
      "  Downloading incremental-21.3.0-py2.py3-none-any.whl (15 kB)\n",
      "Collecting aiohttp\n",
      "  Downloading aiohttp-3.7.4.post0-cp39-cp39-manylinux2014_x86_64.whl (1.4 MB)\n",
      "\u001b[K     |████████████████████████████████| 1.4 MB 12.6 MB/s eta 0:00:01\n",
      "\u001b[?25hRequirement already satisfied: setuptools in /usr/lib/python3/dist-packages (from zope.interface>=4.4.2->Twisted>=17.5.0->vtk->pyvista) (52.0.0)\n",
      "Collecting async-timeout<4.0,>=3.0\n",
      "  Downloading async_timeout-3.0.1-py3-none-any.whl (8.2 kB)\n",
      "Collecting chardet<5.0,>=2.0\n",
      "  Downloading chardet-4.0.0-py2.py3-none-any.whl (178 kB)\n",
      "\u001b[K     |████████████████████████████████| 178 kB 13.1 MB/s eta 0:00:01\n",
      "\u001b[?25hCollecting multidict<7.0,>=4.5\n",
      "  Downloading multidict-5.2.0-cp39-cp39-manylinux_2_5_x86_64.manylinux1_x86_64.manylinux_2_12_x86_64.manylinux2010_x86_64.whl (174 kB)\n",
      "\u001b[K     |████████████████████████████████| 174 kB 11.6 MB/s eta 0:00:01\n",
      "\u001b[?25hCollecting yarl<2.0,>=1.0\n",
      "  Downloading yarl-1.7.0-cp39-cp39-manylinux_2_5_x86_64.manylinux1_x86_64.manylinux_2_12_x86_64.manylinux2010_x86_64.whl (304 kB)\n",
      "\u001b[K     |████████████████████████████████| 304 kB 7.2 MB/s eta 0:00:01\n",
      "\u001b[?25hInstalling collected packages: multidict, yarl, typing-extensions, chardet, async-timeout, zope.interface, txaio, pillow, incremental, hyperlink, cryptography, constantly, Automat, aiohttp, wslink, Twisted, autobahn, vtk, scooby, meshio, imageio, appdirs, pyvista\n",
      "  Attempting uninstall: pillow\n",
      "    Found existing installation: Pillow 8.1.2\n",
      "    Not uninstalling pillow at /usr/lib/python3/dist-packages, outside environment /usr\n",
      "    Can't uninstall 'Pillow'. No files were found to uninstall.\n",
      "Successfully installed Automat-20.2.0 Twisted-21.7.0 aiohttp-3.7.4.post0 appdirs-1.4.4 async-timeout-3.0.1 autobahn-21.3.1 chardet-4.0.0 constantly-15.1.0 cryptography-35.0.0 hyperlink-21.0.0 imageio-2.10.1 incremental-21.3.0 meshio-4.4.6 multidict-5.2.0 pillow-8.4.0 pyvista-0.32.1 scooby-0.5.7 txaio-21.2.1 typing-extensions-3.10.0.2 vtk-9.0.3 wslink-1.1.0 yarl-1.7.0 zope.interface-5.4.0\n",
      "Requirement already satisfied: matplotlib in /usr/local/lib/python3.9/dist-packages (3.4.3)\n",
      "Requirement already satisfied: python-dateutil>=2.7 in /usr/local/lib/python3.9/dist-packages (from matplotlib) (2.8.2)\n",
      "Requirement already satisfied: numpy>=1.16 in /usr/local/lib/python3.9/dist-packages (from matplotlib) (1.20.3)\n",
      "Requirement already satisfied: pillow>=6.2.0 in /usr/local/lib/python3.9/dist-packages (from matplotlib) (8.4.0)\n",
      "Requirement already satisfied: kiwisolver>=1.0.1 in /usr/local/lib/python3.9/dist-packages (from matplotlib) (1.3.2)\n",
      "Requirement already satisfied: pyparsing>=2.2.1 in /usr/local/lib/python3.9/dist-packages (from matplotlib) (2.4.7)\n",
      "Requirement already satisfied: cycler>=0.10 in /usr/local/lib/python3.9/dist-packages (from matplotlib) (0.10.0)\n",
      "Requirement already satisfied: six in /usr/local/lib/python3.9/dist-packages (from cycler>=0.10->matplotlib) (1.16.0)\n",
      "Collecting pygmsh\n",
      "  Downloading pygmsh-7.1.13-py3-none-any.whl (44 kB)\n",
      "\u001b[K     |████████████████████████████████| 44 kB 1.9 MB/s  eta 0:00:01\n",
      "\u001b[?25hRequirement already satisfied: numpy>=1.20.0 in /usr/local/lib/python3.9/dist-packages (from pygmsh) (1.20.3)\n",
      "Collecting gmsh\n",
      "  Downloading gmsh-4.8.4.tar.gz (10 kB)\n",
      "Requirement already satisfied: meshio<6,>=4.3.2 in /usr/local/lib/python3.9/dist-packages (from pygmsh) (4.4.6)\n",
      "Building wheels for collected packages: gmsh\n",
      "  Building wheel for gmsh (setup.py) ... \u001b[?25ldone\n",
      "\u001b[?25h  Created wheel for gmsh: filename=gmsh-4.8.4-py3-none-any.whl size=112702987 sha256=ef0e0c15fb04e60e61b0af5898562d91ef0eb6ad056753e63bb2ddf63e8ca674\n",
      "  Stored in directory: /root/.cache/pip/wheels/c5/23/fb/9942f0e9904ed420bacfb7abbe9821e62b4dd6fba9f0a1108c\n",
      "Successfully built gmsh\n",
      "Installing collected packages: gmsh, pygmsh\n",
      "Successfully installed gmsh-4.8.4 pygmsh-7.1.13\n",
      "Collecting pythreejs\n",
      "  Downloading pythreejs-2.3.0-py2.py3-none-any.whl (3.4 MB)\n",
      "\u001b[K     |████████████████████████████████| 3.4 MB 7.6 MB/s eta 0:00:01\n",
      "\u001b[?25hCollecting ipydatawidgets>=1.1.1\n",
      "  Downloading ipydatawidgets-4.2.0-py2.py3-none-any.whl (275 kB)\n",
      "\u001b[K     |████████████████████████████████| 275 kB 11.3 MB/s eta 0:00:01\n",
      "\u001b[?25hRequirement already satisfied: ipywidgets>=7.2.1 in /usr/local/lib/python3.9/dist-packages (from pythreejs) (7.6.5)\n",
      "Requirement already satisfied: numpy in /usr/local/lib/python3.9/dist-packages (from pythreejs) (1.20.3)\n",
      "Collecting traittypes>=0.2.0\n",
      "  Downloading traittypes-0.2.1-py2.py3-none-any.whl (8.6 kB)\n",
      "Requirement already satisfied: six in /usr/local/lib/python3.9/dist-packages (from ipydatawidgets>=1.1.1->pythreejs) (1.16.0)\n",
      "Requirement already satisfied: ipykernel>=4.5.1 in /usr/local/lib/python3.9/dist-packages (from ipywidgets>=7.2.1->pythreejs) (6.4.1)\n",
      "Requirement already satisfied: ipython>=4.0.0 in /usr/local/lib/python3.9/dist-packages (from ipywidgets>=7.2.1->pythreejs) (7.28.0)\n",
      "Requirement already satisfied: traitlets>=4.3.1 in /usr/local/lib/python3.9/dist-packages (from ipywidgets>=7.2.1->pythreejs) (5.1.0)\n",
      "Requirement already satisfied: widgetsnbextension~=3.5.0 in /usr/local/lib/python3.9/dist-packages (from ipywidgets>=7.2.1->pythreejs) (3.5.1)\n",
      "Requirement already satisfied: ipython-genutils~=0.2.0 in /usr/local/lib/python3.9/dist-packages (from ipywidgets>=7.2.1->pythreejs) (0.2.0)\n",
      "Requirement already satisfied: nbformat>=4.2.0 in /usr/local/lib/python3.9/dist-packages (from ipywidgets>=7.2.1->pythreejs) (5.1.3)\n",
      "Requirement already satisfied: jupyterlab-widgets>=1.0.0 in /usr/local/lib/python3.9/dist-packages (from ipywidgets>=7.2.1->pythreejs) (1.0.2)\n",
      "Requirement already satisfied: matplotlib-inline<0.2.0,>=0.1.0 in /usr/local/lib/python3.9/dist-packages (from ipykernel>=4.5.1->ipywidgets>=7.2.1->pythreejs) (0.1.3)\n",
      "Requirement already satisfied: tornado<7.0,>=4.2 in /usr/local/lib/python3.9/dist-packages (from ipykernel>=4.5.1->ipywidgets>=7.2.1->pythreejs) (6.1)\n",
      "Requirement already satisfied: debugpy<2.0,>=1.0.0 in /usr/local/lib/python3.9/dist-packages (from ipykernel>=4.5.1->ipywidgets>=7.2.1->pythreejs) (1.4.3)\n",
      "Requirement already satisfied: jupyter-client<8.0 in /usr/local/lib/python3.9/dist-packages (from ipykernel>=4.5.1->ipywidgets>=7.2.1->pythreejs) (7.0.3)\n",
      "Requirement already satisfied: pickleshare in /usr/local/lib/python3.9/dist-packages (from ipython>=4.0.0->ipywidgets>=7.2.1->pythreejs) (0.7.5)\n",
      "Requirement already satisfied: pygments in /usr/lib/python3/dist-packages (from ipython>=4.0.0->ipywidgets>=7.2.1->pythreejs) (2.7.1)\n",
      "Requirement already satisfied: prompt-toolkit!=3.0.0,!=3.0.1,<3.1.0,>=2.0.0 in /usr/local/lib/python3.9/dist-packages (from ipython>=4.0.0->ipywidgets>=7.2.1->pythreejs) (3.0.20)\n",
      "Requirement already satisfied: setuptools>=18.5 in /usr/lib/python3/dist-packages (from ipython>=4.0.0->ipywidgets>=7.2.1->pythreejs) (52.0.0)\n",
      "Requirement already satisfied: pexpect>4.3 in /usr/local/lib/python3.9/dist-packages (from ipython>=4.0.0->ipywidgets>=7.2.1->pythreejs) (4.8.0)\n",
      "Requirement already satisfied: backcall in /usr/local/lib/python3.9/dist-packages (from ipython>=4.0.0->ipywidgets>=7.2.1->pythreejs) (0.2.0)\n",
      "Requirement already satisfied: decorator in /usr/lib/python3/dist-packages (from ipython>=4.0.0->ipywidgets>=7.2.1->pythreejs) (4.4.2)\n",
      "Requirement already satisfied: jedi>=0.16 in /usr/local/lib/python3.9/dist-packages (from ipython>=4.0.0->ipywidgets>=7.2.1->pythreejs) (0.18.0)\n",
      "Requirement already satisfied: parso<0.9.0,>=0.8.0 in /usr/local/lib/python3.9/dist-packages (from jedi>=0.16->ipython>=4.0.0->ipywidgets>=7.2.1->pythreejs) (0.8.2)\n",
      "Requirement already satisfied: python-dateutil>=2.1 in /usr/local/lib/python3.9/dist-packages (from jupyter-client<8.0->ipykernel>=4.5.1->ipywidgets>=7.2.1->pythreejs) (2.8.2)\n",
      "Requirement already satisfied: pyzmq>=13 in /usr/local/lib/python3.9/dist-packages (from jupyter-client<8.0->ipykernel>=4.5.1->ipywidgets>=7.2.1->pythreejs) (22.3.0)\n",
      "Requirement already satisfied: jupyter-core>=4.6.0 in /usr/local/lib/python3.9/dist-packages (from jupyter-client<8.0->ipykernel>=4.5.1->ipywidgets>=7.2.1->pythreejs) (4.8.1)\n",
      "Requirement already satisfied: entrypoints in /usr/local/lib/python3.9/dist-packages (from jupyter-client<8.0->ipykernel>=4.5.1->ipywidgets>=7.2.1->pythreejs) (0.3)\n",
      "Requirement already satisfied: nest-asyncio>=1.5 in /usr/local/lib/python3.9/dist-packages (from jupyter-client<8.0->ipykernel>=4.5.1->ipywidgets>=7.2.1->pythreejs) (1.5.1)\n",
      "Requirement already satisfied: jsonschema!=2.5.0,>=2.4 in /usr/local/lib/python3.9/dist-packages (from nbformat>=4.2.0->ipywidgets>=7.2.1->pythreejs) (3.2.0)\n",
      "Requirement already satisfied: pyrsistent>=0.14.0 in /usr/local/lib/python3.9/dist-packages (from jsonschema!=2.5.0,>=2.4->nbformat>=4.2.0->ipywidgets>=7.2.1->pythreejs) (0.18.0)\n",
      "Requirement already satisfied: attrs>=17.4.0 in /usr/local/lib/python3.9/dist-packages (from jsonschema!=2.5.0,>=2.4->nbformat>=4.2.0->ipywidgets>=7.2.1->pythreejs) (21.2.0)\n",
      "Requirement already satisfied: ptyprocess>=0.5 in /usr/local/lib/python3.9/dist-packages (from pexpect>4.3->ipython>=4.0.0->ipywidgets>=7.2.1->pythreejs) (0.7.0)\n",
      "Requirement already satisfied: wcwidth in /usr/local/lib/python3.9/dist-packages (from prompt-toolkit!=3.0.0,!=3.0.1,<3.1.0,>=2.0.0->ipython>=4.0.0->ipywidgets>=7.2.1->pythreejs) (0.2.5)\n",
      "Requirement already satisfied: notebook>=4.4.1 in /usr/local/lib/python3.9/dist-packages (from widgetsnbextension~=3.5.0->ipywidgets>=7.2.1->pythreejs) (6.4.4)\n",
      "Requirement already satisfied: jinja2 in /usr/local/lib/python3.9/dist-packages (from notebook>=4.4.1->widgetsnbextension~=3.5.0->ipywidgets>=7.2.1->pythreejs) (3.0.1)\n",
      "Requirement already satisfied: prometheus-client in /usr/local/lib/python3.9/dist-packages (from notebook>=4.4.1->widgetsnbextension~=3.5.0->ipywidgets>=7.2.1->pythreejs) (0.11.0)\n",
      "Requirement already satisfied: Send2Trash>=1.5.0 in /usr/local/lib/python3.9/dist-packages (from notebook>=4.4.1->widgetsnbextension~=3.5.0->ipywidgets>=7.2.1->pythreejs) (1.8.0)\n",
      "Requirement already satisfied: nbconvert in /usr/local/lib/python3.9/dist-packages (from notebook>=4.4.1->widgetsnbextension~=3.5.0->ipywidgets>=7.2.1->pythreejs) (6.2.0)\n",
      "Requirement already satisfied: terminado>=0.8.3 in /usr/local/lib/python3.9/dist-packages (from notebook>=4.4.1->widgetsnbextension~=3.5.0->ipywidgets>=7.2.1->pythreejs) (0.12.1)\n",
      "Requirement already satisfied: argon2-cffi in /usr/local/lib/python3.9/dist-packages (from notebook>=4.4.1->widgetsnbextension~=3.5.0->ipywidgets>=7.2.1->pythreejs) (21.1.0)\n",
      "Requirement already satisfied: cffi>=1.0.0 in /usr/local/lib/python3.9/dist-packages (from argon2-cffi->notebook>=4.4.1->widgetsnbextension~=3.5.0->ipywidgets>=7.2.1->pythreejs) (1.14.6)\n",
      "Requirement already satisfied: pycparser in /usr/local/lib/python3.9/dist-packages (from cffi>=1.0.0->argon2-cffi->notebook>=4.4.1->widgetsnbextension~=3.5.0->ipywidgets>=7.2.1->pythreejs) (2.20)\n",
      "Requirement already satisfied: MarkupSafe>=2.0 in /usr/local/lib/python3.9/dist-packages (from jinja2->notebook>=4.4.1->widgetsnbextension~=3.5.0->ipywidgets>=7.2.1->pythreejs) (2.0.1)\n",
      "Requirement already satisfied: nbclient<0.6.0,>=0.5.0 in /usr/local/lib/python3.9/dist-packages (from nbconvert->notebook>=4.4.1->widgetsnbextension~=3.5.0->ipywidgets>=7.2.1->pythreejs) (0.5.4)\n",
      "Requirement already satisfied: pandocfilters>=1.4.1 in /usr/local/lib/python3.9/dist-packages (from nbconvert->notebook>=4.4.1->widgetsnbextension~=3.5.0->ipywidgets>=7.2.1->pythreejs) (1.5.0)\n",
      "Requirement already satisfied: jupyterlab-pygments in /usr/local/lib/python3.9/dist-packages (from nbconvert->notebook>=4.4.1->widgetsnbextension~=3.5.0->ipywidgets>=7.2.1->pythreejs) (0.1.2)\n",
      "Requirement already satisfied: testpath in /usr/local/lib/python3.9/dist-packages (from nbconvert->notebook>=4.4.1->widgetsnbextension~=3.5.0->ipywidgets>=7.2.1->pythreejs) (0.5.0)\n",
      "Requirement already satisfied: bleach in /usr/local/lib/python3.9/dist-packages (from nbconvert->notebook>=4.4.1->widgetsnbextension~=3.5.0->ipywidgets>=7.2.1->pythreejs) (4.1.0)\n",
      "Requirement already satisfied: defusedxml in /usr/local/lib/python3.9/dist-packages (from nbconvert->notebook>=4.4.1->widgetsnbextension~=3.5.0->ipywidgets>=7.2.1->pythreejs) (0.7.1)\n",
      "Requirement already satisfied: mistune<2,>=0.8.1 in /usr/local/lib/python3.9/dist-packages (from nbconvert->notebook>=4.4.1->widgetsnbextension~=3.5.0->ipywidgets>=7.2.1->pythreejs) (0.8.4)\n",
      "Requirement already satisfied: webencodings in /usr/local/lib/python3.9/dist-packages (from bleach->nbconvert->notebook>=4.4.1->widgetsnbextension~=3.5.0->ipywidgets>=7.2.1->pythreejs) (0.5.1)\n",
      "Requirement already satisfied: packaging in /usr/local/lib/python3.9/dist-packages (from bleach->nbconvert->notebook>=4.4.1->widgetsnbextension~=3.5.0->ipywidgets>=7.2.1->pythreejs) (21.0)\n",
      "Requirement already satisfied: pyparsing>=2.0.2 in /usr/local/lib/python3.9/dist-packages (from packaging->bleach->nbconvert->notebook>=4.4.1->widgetsnbextension~=3.5.0->ipywidgets>=7.2.1->pythreejs) (2.4.7)\n",
      "Installing collected packages: traittypes, ipydatawidgets, pythreejs\n",
      "Successfully installed ipydatawidgets-4.2.0 pythreejs-2.3.0 traittypes-0.2.1\n"
     ]
    }
   ],
   "source": [
    "!pip install pyvista\n",
    "!pip install matplotlib\n",
    "!pip install pygmsh\n",
    "!pip install panel"
   ]
  },
  {
   "cell_type": "code",
   "execution_count": 2,
   "metadata": {},
   "outputs": [
    {
     "name": "stdout",
     "output_type": "stream",
     "text": [
      "\u001b[33mWARNING: Skipping h5py as it is not installed.\u001b[0m\n",
      "Collecting h5py==2.9.0\n",
      "  Downloading h5py-2.9.0.tar.gz (287 kB)\n",
      "\u001b[K     |████████████████████████████████| 287 kB 8.0 kB/s eta 0:00:01\n",
      "\u001b[?25hRequirement already satisfied: numpy>=1.7 in /usr/local/lib/python3.9/dist-packages (from h5py==2.9.0) (1.20.3)\n",
      "Requirement already satisfied: six in /usr/local/lib/python3.9/dist-packages (from h5py==2.9.0) (1.16.0)\n",
      "Building wheels for collected packages: h5py\n",
      "  Building wheel for h5py (setup.py) ... \u001b[?25ldone\n",
      "\u001b[?25h  Created wheel for h5py: filename=h5py-2.9.0-cp39-cp39-linux_x86_64.whl size=4691340 sha256=ea5f50296b97fc508383b52a858b31e8a79456f401031ad78a72d108c467dae9\n",
      "  Stored in directory: /root/.cache/pip/wheels/ef/54/5c/3fbdb9cfe071661699815cfd6b71ddf2d12d61d121a109a5e0\n",
      "Successfully built h5py\n",
      "Installing collected packages: h5py\n",
      "Successfully installed h5py-2.9.0\n"
     ]
    }
   ],
   "source": [
    "# MUST RUN THIS CELL:\n",
    "!pip uninstall -y h5py\n",
    "!pip install h5py==2.9.0"
   ]
  },
  {
   "cell_type": "code",
   "execution_count": 74,
   "metadata": {
    "id": "pgyEZntvDDm4"
   },
   "outputs": [],
   "source": [
    "import dolfinx\n",
    "import numpy as np\n",
    "from mpi4py import MPI\n",
    "from dolfinx.cpp.mesh import CellType\n",
    "import dolfinx.io\n",
    "import pyvista\n",
    "import dolfinx.plot\n",
    "from math import sin, cos, pi, ceil, floor\n",
    "import pygmsh\n",
    "import gmsh\n",
    "import meshio\n",
    "import ufl\n",
    "from petsc4py import PETSc\n",
    "import os"
   ]
  },
  {
   "cell_type": "markdown",
   "metadata": {
    "tags": []
   },
   "source": [
    "# Function Definitions"
   ]
  },
  {
   "cell_type": "code",
   "execution_count": 72,
   "metadata": {},
   "outputs": [],
   "source": [
    "def mesh_from_obj(obj_dir):\n",
    "    \n",
    "    if not os.path.isdir('breast.xdmf'):\n",
    "        breast_mesh = meshio.read(obj_dir)\n",
    "        meshio.write('breast.xdmf', breast_mesh)\n",
    "        \n",
    "    with dolfinx.io.XDMFFile(MPI.COMM_WORLD, \"breast.xdmf\", 'r') as f:\n",
    "        mesh = f.read_mesh(name=\"Grid\")\n",
    "    \n",
    "    return mesh"
   ]
  },
  {
   "cell_type": "markdown",
   "metadata": {
    "tags": []
   },
   "source": [
    "## Function to Apply Load to Breast"
   ]
  },
  {
   "cell_type": "code",
   "execution_count": 5,
   "metadata": {},
   "outputs": [],
   "source": [
    "def apply_loading(obj_dir, E, beam_angle, nu, rho, g, elem_order, num_steps):\n",
    "    \n",
    "    beam_angle *= pi/180\n",
    "    \n",
    "    mesh = mesh_from_obj(obj_dir)\n",
    "    V = dolfinx.VectorFunctionSpace(mesh, (\"CG\", elem_order))\n",
    "    \n",
    "    # Create lambda and mu fields:\n",
    "    lambda_ = E*nu/((1+nu)*(1-2*nu))\n",
    "    mu = E/(2*(1+nu))\n",
    "    \n",
    "    # Apply fixed BC:\n",
    "    fixed = lambda x: x[0] < 10\n",
    "    fixed_facets = dolfinx.mesh.locate_entities_boundary(mesh, mesh.topology.dim - 1, fixed)\n",
    "    facet_tag = dolfinx.MeshTags(mesh, mesh.topology.dim-1, fixed_facets, 1)\n",
    "    u_bc = dolfinx.Function(V)\n",
    "    with u_bc.vector.localForm() as loc:\n",
    "        loc.set(0)\n",
    "    left_dofs = dolfinx.fem.locate_dofs_topological(V, facet_tag.dim, facet_tag.indices[facet_tag.values==1])\n",
    "    bcs = [dolfinx.DirichletBC(u_bc, left_dofs)]\n",
    "    \n",
    "    B = dolfinx.Constant(mesh, (0, 0, 0))\n",
    "    T = dolfinx.Constant(mesh, (0, 0, 0))\n",
    "    v = ufl.TestFunction(V)\n",
    "    u = dolfinx.Function(V)\n",
    "\n",
    "    d = len(u)\n",
    "    I = ufl.variable(ufl.Identity(d))\n",
    "    F = ufl.variable(I + ufl.grad(u))\n",
    "    C = ufl.variable(F.T * F)\n",
    "    Ic = ufl.variable(ufl.tr(C))\n",
    "    J  = ufl.variable(ufl.det(F))\n",
    "    psi = (mu / 2) * (Ic - 3) - mu * ufl.ln(J) + (lambda_ / 2) * (ufl.ln(J))**2\n",
    "    P = ufl.diff(psi, F)\n",
    "    \n",
    "    metadata = {\"quadrature_degree\": elem_order}\n",
    "    ds = ufl.Measure('ds', subdomain_data=facet_tag, metadata=metadata)\n",
    "    dx = ufl.Measure(\"dx\", metadata=metadata)\n",
    "    F = ufl.inner(ufl.grad(v), P)*dx - ufl.inner(v, B)*dx - ufl.inner(v, T)*ds(2) \n",
    "    \n",
    "    problem = dolfinx.fem.NonlinearProblem(F, u, bcs)\n",
    "    solver = dolfinx.NewtonSolver(MPI.COMM_WORLD, problem)\n",
    "\n",
    "    solver.atol = 1e-3\n",
    "    solver.rtol = 1e-3\n",
    "    solver.convergence_criterion = \"incremental\"\n",
    "    \n",
    "    f_step = rho*g/num_steps\n",
    "    for n in range(num_steps):\n",
    "        print(f\"Performing load step {n+1}/{num_steps}\")\n",
    "        B.value[0] = (n+1)*f_step*cos(beam_angle)\n",
    "        B.value[2] = -(n+1)*f_step*sin(beam_angle)\n",
    "        num_its, converged = solver.solve(u)\n",
    "        assert(converged)\n",
    "        u.vector.ghostUpdate(addv=PETSc.InsertMode.INSERT, mode=PETSc.ScatterMode.FORWARD)\n",
    "    \n",
    "    return (u, mesh)"
   ]
  },
  {
   "cell_type": "markdown",
   "metadata": {},
   "source": [
    "## Function to Plot Beam Deformation"
   ]
  },
  {
   "cell_type": "code",
   "execution_count": 82,
   "metadata": {},
   "outputs": [],
   "source": [
    "def plot_deformation(mesh, uh):\n",
    "    \n",
    "    pyvista.start_xvfb(wait=0.05)\n",
    "    topology, cell_types = dolfinx.plot.create_vtk_topology(mesh, mesh.topology.dim)\n",
    "    grid = pyvista.UnstructuredGrid(topology, cell_types, mesh.geometry.x)\n",
    "    \n",
    "    p = pyvista.Plotter(window_size=[960,480]) #\n",
    "    \n",
    "    p.add_text(\"Deformed configuration\", name=\"title\", position=\"upper_edge\")\n",
    "    \n",
    "    grid[\"u\"] = uh.compute_point_values().real \n",
    "    actor_0 = p.add_mesh(grid, style=\"wireframe\", color=\"k\")\n",
    "    warped = grid.warp_by_vector(\"u\", factor=1.5)\n",
    "    actor_1 = p.add_mesh(warped)\n",
    "    \n",
    "    p.show_axes()\n",
    "    viewer = p.show(jupyter_backend='panel', return_viewer=True)\n",
    "    return viewer"
   ]
  },
  {
   "cell_type": "markdown",
   "metadata": {},
   "source": [
    "# Call Functions"
   ]
  },
  {
   "cell_type": "code",
   "execution_count": 93,
   "metadata": {},
   "outputs": [],
   "source": [
    "# Fixed parameters:\n",
    "elem_order = 2\n",
    "W = 40 # in mm\n",
    "L = 90 # in mm\n",
    "nu = 0.33 # dimensionless\n",
    "rho = 0.00102 # in g mm^-3\n",
    "g = 9.81 # in m s^-2\n",
    "num_steps = 5\n",
    "\n",
    "# Variables:\n",
    "beam_angle = 90\n",
    "E =  5 # in mPa"
   ]
  },
  {
   "cell_type": "code",
   "execution_count": 94,
   "metadata": {},
   "outputs": [
    {
     "name": "stdout",
     "output_type": "stream",
     "text": [
      "Performing load step 1/5\n",
      "Performing load step 2/5\n",
      "Performing load step 3/5\n",
      "Performing load step 4/5\n",
      "Performing load step 5/5\n"
     ]
    }
   ],
   "source": [
    "obj_dir = 'b+hollowUV2_transformed.obj'\n",
    "uh, mesh = apply_loading(obj_dir, E, beam_angle, nu, rho, g, elem_order, num_steps)"
   ]
  },
  {
   "cell_type": "code",
   "execution_count": 95,
   "metadata": {
    "id": "8s7vPB9QETPw"
   },
   "outputs": [
    {
     "data": {},
     "metadata": {},
     "output_type": "display_data"
    },
    {
     "data": {
      "application/vnd.holoviews_exec.v0+json": "",
      "text/html": [
       "<div id='1091'>\n",
       "\n",
       "\n",
       "\n",
       "\n",
       "\n",
       "  <div class=\"bk-root\" id=\"170fc3ea-337c-41f2-8371-eb5d92978ac4\" data-root-id=\"1091\"></div>\n",
       "</div>\n",
       "<script type=\"application/javascript\">(function(root) {\n",
       "  function embed_document(root) {\n",
       "    var docs_json = {\"1ae056de-2684-4044-a892-c0523c269578\":{\"defs\":[{\"extends\":null,\"module\":null,\"name\":\"ReactiveHTML1\",\"overrides\":[],\"properties\":[]},{\"extends\":null,\"module\":null,\"name\":\"FlexBox1\",\"overrides\":[],\"properties\":[{\"default\":\"flex-start\",\"kind\":null,\"name\":\"align_content\"},{\"default\":\"flex-start\",\"kind\":null,\"name\":\"align_items\"},{\"default\":\"row\",\"kind\":null,\"name\":\"flex_direction\"},{\"default\":\"wrap\",\"kind\":null,\"name\":\"flex_wrap\"},{\"default\":\"flex-start\",\"kind\":null,\"name\":\"justify_content\"}]},{\"extends\":null,\"module\":null,\"name\":\"TemplateActions1\",\"overrides\":[],\"properties\":[{\"default\":0,\"kind\":null,\"name\":\"open_modal\"},{\"default\":0,\"kind\":null,\"name\":\"close_modal\"}]},{\"extends\":null,\"module\":null,\"name\":\"MaterialTemplateActions1\",\"overrides\":[],\"properties\":[{\"default\":0,\"kind\":null,\"name\":\"open_modal\"},{\"default\":0,\"kind\":null,\"name\":\"close_modal\"}]}],\"roots\":{\"references\":[{\"attributes\":{},\"id\":\"1090\",\"type\":\"panel.models.vtk.VTKAxes\"},{\"attributes\":{\"annotations\":[{\"LeftEdge\":null,\"LowerEdge\":null,\"LowerLeft\":null,\"LowerRight\":null,\"RightEdge\":null,\"UpperEdge\":\"Deformed configuration\",\"UpperLeft\":null,\"UpperRight\":null,\"color\":[1.0,1.0,1.0],\"fontFamily\":\"Arial\",\"fontSize\":18.0,\"id\":\"2745c572-0880-4c17-b5db-719f186bf3a400000000312bace0\",\"viewport\":[0.0,0.0,1.0,1.0]}],\"arrays\":{\"0a8aebc8284f5d433f8f28c525ea8048\":\"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\",\"2ebda7d3c6c3627ba233a85b7027cd58\":\"UEsDBBQAAAAIAI28XVOBkDoDkwEAAAAEAAAlAAAAZGF0YS8yZWJkYTdkM2M2YzM2MjdiYTIzM2E4NWI3MDI3Y2Q1OHXTb0SdYRgH4E5/VllpSibJJBlJTERGJEZEjIgYETEiYmxEjIjYh4gYETEiYiJiIjISmUgmySRNaqo5Z53O2TXd077M6/r2vs9z37+fN5uTk83+lSCXPAoopJgSyiinkipqqKWeBppoppU2Ouikmx766GeQIUZ4wxjjTDLFDLPMs8ASy6yyxgabbLPDHvsccsQJp5xzwRVJUlyT5obMrUz2zg1pfpHkJ5f84IzvHPONA76yyxe2+Mw6n1jhI4t8YI73TPOOCd4yyiuGeckAL+jlOV08o52ntPCERh5TxyOqeUgFDyjlPkXcI588Evz/ScRb+fFVUZxSGqdWxC3VcWtdTNEYU7XElO0xdVds0RtbDcSWw7H1aKQwEalMR0pzkdpipLgSqa5HyluR+m60cBCtHEdLZ9HaZbSYilbT0fI/rWeyt25Ic02KJFdccM4pJxxxyD577LDNJhusscoySywwzywzTDHJOGO8ZoQhBumnjx666aSDNlpppokG6qmlhioqKaeMEooppIA8cknc/e5//AZQSwECFAMUAAAACACNvF1TgZA6A5MBAAAABAAAJQAAAAAAAAAAAAAAgAEAAAAAZGF0YS8yZWJkYTdkM2M2YzM2MjdiYTIzM2E4NWI3MDI3Y2Q1OFBLBQYAAAAAAQABAFMAAADWAQAAAAA=\",\"a859091e39b0cda97b8e8eb20a9fea25\":\"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\",\"ce52d598102e2756143cf4f27a0b5911\":\"UEsDBBQAAAAIAI28XVOE1+BQMwMAAAAEAAAlAAAAZGF0YS9jZTUyZDU5ODEwMmUyNzU2MTQzY2Y0ZjI3YTBiNTkxMS3DCUzVBRzA8VWr1Wq1WjVAfI/HfQnIfcvx3vs/wiMUBAS55BC57/uWx/He/59ZZllmWWZZZllmWWpRappXeKAIAga4ttbW2lpra99+bX62j/G+dIz3Z2B8IBPTg1mYHtqA6eEczI/kYn40D/Nj+ZgfL0R5ogjlyU0oT5WgPF2K8kwZyrPlKA5bsDhWYHGqxOJcjWVpDRZdLRaXOiyGeiyuDVjcGlE8mlA8m1G8WlC8W1F821D82lH8OzAv68QcKIO6MC/vxhTcgylUhvViCu/DGCGj+kmOHiA5RsZuJSlOxg+SlDBIYqKVxCQrCclDJBiHWGGSyjDxFpkyQtxzMlWuHCF21Sixq0eJeV6mjRK91kb0OhtR6TLDRuR6mWknIktm2wnfIHPshOXKjXZC81RC81VCCmShSnCR3KSyvFiWyFKVoDK5WSWwXG5RCajQCKiUVRrLqmWNhn+trJP1Gn4NslHDt0k2yxYNn1bZpuHdfm+Hhlen7JLdGp49slf2aXj0ywEV961yUFpV3IbksBxRcf3/qLSpGOxStWPQ7Li8ILfJF+3ot8uXbOhfljvkKzZ0O0fRvSpfu3fXCLrX5Rty9zC6N+Ue+dYQ+rflXiv6d6y4vDuIy75BDO/J/VtxlW7vD+D2QT/uB/rx+LAPz4/68DrYi/fHPfgc6sH3k278Pu3CXwYc7iTwsw6CPm8n+Eg7IV+0EXa0lfAvW4j8qpkoGXOsibivG4n/poGE4/UknajDeKIW08kalG+rSfmuitSxSlaNVbDm+3LSftjMulNlZJwuJfN0Cdlnisn5sYi8s4UUnC2g6Fw+xT9tpOx8LuXnc6i4kE3VxSxqL66n/lIGjZfTabm8lraf0+gcX0P3+Gr6rqxk4Eoq1qspDF9TsF0zo143su16MtsnEtkxsYKdN+LZdSOW3Tej2XMzkr2TEeybDGP/rRAO3Arm4FQQh6YCODztz5FpP45O+3DsthfHb3tycsadsRlXTs0YODOr59ysjguzS7k058z43BKuzjkxcceRyTsOTMmZXxyYk/Py7rwjv8rf5p34fWEJfyw48+eCjr8W9fy9aOCfRVf+vevOf1BLAQIUAxQAAAAIAI28XVOE1+BQMwMAAAAEAAAlAAAAAAAAAAAAAACAAQAAAABkYXRhL2NlNTJkNTk4MTAyZTI3NTYxNDNjZjRmMjdhMGI1OTExUEsFBgAAAAABAAEAUwAAAHYDAAAAAA==\",\"d2fa70c5370faae725314348a21ad482\":\"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\",\"f871f6b06e157324d8f72739b296c267\":\"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\"},\"axes\":{\"id\":\"1090\"},\"color_mappers\":[{\"id\":\"1089\"}],\"height\":480,\"margin\":[5,5,5,5],\"orientation_widget\":true,\"scene\":{\"calls\":[[\"addRenderer\",[\"instance:${2745c572-0880-4c17-b5db-719f186bf3a4000000002f010990}\"]],[\"addRenderer\",[\"instance:${2745c572-0880-4c17-b5db-719f186bf3a4000000002f1c0120}\"]],[\"addRenderer\",[\"instance:${2745c572-0880-4c17-b5db-719f186bf3a4000000002f044cd0}\"]]],\"dependencies\":[{\"calls\":[[\"setActiveCamera\",[\"instance:${00000000307ad920}\"]],[\"addViewProp\",[\"instance:${2745c572-0880-4c17-b5db-719f186bf3a40000000030ad65a0}\"]],[\"addViewProp\",[\"instance:${2745c572-0880-4c17-b5db-719f186bf3a40000000030caafb0}\"]]],\"dependencies\":[{\"id\":\"00000000307ad920\",\"parent\":\"2745c572-0880-4c17-b5db-719f186bf3a4000000002f010990\",\"properties\":{\"clippingRange\":[260.78007475760637,854.9206500631537],\"focalPoint\":[48.2869965,-7.504900569246196,-105.08746759582336],\"position\":[350.38883910595047,294.59694203670426,197.01437501012714],\"viewUp\":[0.0,0.0,1.0]},\"type\":\"vtkOpenGLCamera\"},{\"calls\":[[\"setMapper\",[\"instance:${2745c572-0880-4c17-b5db-719f186bf3a40000000030959e50}\"]],[\"setProperty\",[\"instance:${2745c572-0880-4c17-b5db-719f186bf3a400000000309374e0}\"]]],\"dependencies\":[{\"calls\":[[\"setInputData\",[\"instance:${2745c572-0880-4c17-b5db-719f186bf3a40000000030959e50-dataset-0}\",0]],[\"setLookupTable\",[\"instance:${2745c572-0880-4c17-b5db-719f186bf3a4000000003095bd20}\"]]],\"dependencies\":[{\"id\":\"2745c572-0880-4c17-b5db-719f186bf3a40000000030959e50-dataset-0\",\"parent\":\"2745c572-0880-4c17-b5db-719f186bf3a40000000030959e50\",\"properties\":{\"fields\":[],\"points\":{\"dataType\":\"Float64Array\",\"hash\":\"d2fa70c5370faae725314348a21ad482\",\"name\":\"Points\",\"numberOfComponents\":3,\"ranges\":[{\"component\":null,\"max\":96.749992,\"min\":-0.175999},{\"component\":null,\"max\":62.717007,\"min\":-77.852997},{\"component\":null,\"max\":0.0,\"min\":-207.968002},{\"component\":null,\"max\":210.30990557016153,\"min\":0.0}],\"size\":1566,\"vtkClass\":\"vtkPoints\"},\"polys\":{\"dataType\":\"Uint32Array\",\"hash\":\"a859091e39b0cda97b8e8eb20a9fea25\",\"name\":null,\"numberOfComponents\":1,\"ranges\":[{\"component\":null,\"max\":521.0,\"min\":0.0}],\"size\":3896,\"vtkClass\":\"vtkCellArray\"}},\"type\":\"vtkPolyData\"},{\"arrays\":[{\"dataType\":\"Uint8Array\",\"hash\":\"2ebda7d3c6c3627ba233a85b7027cd58\",\"name\":null,\"numberOfComponents\":4,\"ranges\":[{\"component\":null,\"max\":255.0,\"min\":0.0},{\"component\":null,\"max\":255.0,\"min\":0.0},{\"component\":null,\"max\":255.0,\"min\":0.0},{\"component\":null,\"max\":255.0,\"min\":255.0},{\"component\":null,\"max\":441.0963613542964,\"min\":360.62445840513925}],\"registration\":\"setTable\",\"size\":1024,\"vtkClass\":\"vtkDataArray\"}],\"id\":\"2745c572-0880-4c17-b5db-719f186bf3a4000000003095bd20\",\"parent\":\"2745c572-0880-4c17-b5db-719f186bf3a40000000030959e50\",\"properties\":{\"aboveRangeColor\":[1.0,1.0,1.0,1.0],\"alpha\":1.0,\"belowRangeColor\":[0.0,0.0,0.0,1.0],\"hueRange\":[0.5,0],\"indexedLookup\":0,\"nanColor\":[0.5,0.0,0.0,1.0],\"numberOfColors\":256,\"range\":[0.0,1.0],\"saturationRange\":[1.0,1.0],\"useAboveRangeColor\":false,\"useBelowRangeColor\":false,\"valueRange\":[0.0,1.0],\"vectorComponent\":0,\"vectorMode\":1,\"vectorSize\":-1},\"type\":\"vtkLookupTable\"}],\"id\":\"2745c572-0880-4c17-b5db-719f186bf3a40000000030959e50\",\"parent\":\"2745c572-0880-4c17-b5db-719f186bf3a40000000030ad65a0\",\"properties\":{\"arrayAccessMode\":1,\"colorByArrayName\":null,\"colorMode\":0,\"interpolateScalarsBeforeMapping\":1,\"renderTime\":0.0,\"resolveCoincidentTopology\":0,\"scalarMode\":5,\"scalarRange\":[0.0,1.0],\"scalarVisibility\":1,\"useLookupTableScalarRange\":0},\"type\":\"vtkDataSetMapper\"},{\"id\":\"2745c572-0880-4c17-b5db-719f186bf3a400000000309374e0\",\"parent\":\"2745c572-0880-4c17-b5db-719f186bf3a40000000030ad65a0\",\"properties\":{\"ambient\":0.0,\"ambientColor\":[0.0,0.0,0.0],\"backfaceCulling\":0,\"color\":[0.0,0.0,0.0],\"diffuse\":1.0,\"diffuseColor\":[0.0,0.0,0.0],\"edgeColor\":[0.0,0.0,0.0],\"edgeVisibility\":0,\"frontfaceCulling\":0,\"interpolation\":0,\"lighting\":1,\"lineWidth\":1.0,\"opacity\":1.0,\"pointSize\":5.0,\"representation\":1,\"specular\":0.0,\"specularColor\":[0.0,0.0,0.0],\"specularPower\":100.0},\"type\":\"vtkOpenGLProperty\"}],\"id\":\"2745c572-0880-4c17-b5db-719f186bf3a40000000030ad65a0\",\"parent\":\"2745c572-0880-4c17-b5db-719f186bf3a4000000002f010990\",\"properties\":{\"dragable\":1,\"forceOpaque\":false,\"forceTranslucent\":false,\"orientation\":[0.0,-0.0,0.0],\"origin\":[0.0,0.0,0.0],\"pickable\":1,\"position\":[0.0,0.0,0.0],\"scale\":[1.0,1.0,1.0],\"useBounds\":true,\"visibility\":1},\"type\":\"vtkOpenGLActor\"},{\"calls\":[[\"setMapper\",[\"instance:${2745c572-0880-4c17-b5db-719f186bf3a4000000003095f890}\"]],[\"setProperty\",[\"instance:${2745c572-0880-4c17-b5db-719f186bf3a400000000307d5410}\"]]],\"dependencies\":[{\"calls\":[[\"setInputData\",[\"instance:${2745c572-0880-4c17-b5db-719f186bf3a4000000003095f890-dataset-0}\",0]],[\"setLookupTable\",[\"instance:${2745c572-0880-4c17-b5db-719f186bf3a4000000002d3334e0}\"]]],\"dependencies\":[{\"id\":\"2745c572-0880-4c17-b5db-719f186bf3a4000000003095f890-dataset-0\",\"parent\":\"2745c572-0880-4c17-b5db-719f186bf3a4000000003095f890\",\"properties\":{\"fields\":[{\"dataType\":\"Float64Array\",\"hash\":\"f871f6b06e157324d8f72739b296c267\",\"location\":\"pointData\",\"name\":\"u-normed\",\"numberOfComponents\":1,\"ranges\":[{\"component\":null,\"max\":22.58437982731847,\"min\":5.23766317704814e-19}],\"registration\":\"setScalars\",\"size\":522,\"vtkClass\":\"vtkDataArray\"}],\"points\":{\"dataType\":\"Float64Array\",\"hash\":\"0a8aebc8284f5d433f8f28c525ea8048\",\"name\":\"Points\",\"numberOfComponents\":3,\"ranges\":[{\"component\":null,\"max\":95.60711679066773,\"min\":-0.17599899999999974},{\"component\":null,\"max\":62.84319586150761,\"min\":-77.81035158404248},{\"component\":null,\"max\":-0.7243056198873012,\"min\":-210.1749351916467},{\"component\":null,\"max\":219.62966741726163,\"min\":0.9796758891786951}],\"size\":1566,\"vtkClass\":\"vtkPoints\"},\"polys\":{\"dataType\":\"Uint32Array\",\"hash\":\"a859091e39b0cda97b8e8eb20a9fea25\",\"name\":null,\"numberOfComponents\":1,\"ranges\":[{\"component\":null,\"max\":521.0,\"min\":0.0}],\"size\":3896,\"vtkClass\":\"vtkCellArray\"}},\"type\":\"vtkPolyData\"},{\"arrays\":[{\"dataType\":\"Uint8Array\",\"hash\":\"ce52d598102e2756143cf4f27a0b5911\",\"name\":null,\"numberOfComponents\":4,\"ranges\":[{\"component\":null,\"max\":253.0,\"min\":30.0},{\"component\":null,\"max\":231.0,\"min\":1.0},{\"component\":null,\"max\":142.0,\"min\":24.0},{\"component\":null,\"max\":255.0,\"min\":255.0},{\"component\":null,\"max\":428.5918804643877,\"min\":276.95848064285735}],\"registration\":\"setTable\",\"size\":1024,\"vtkClass\":\"vtkDataArray\"}],\"id\":\"2745c572-0880-4c17-b5db-719f186bf3a4000000002d3334e0\",\"parent\":\"2745c572-0880-4c17-b5db-719f186bf3a4000000003095f890\",\"properties\":{\"aboveRangeColor\":[1.0,1.0,1.0,1.0],\"alpha\":1.0,\"belowRangeColor\":[0.0,0.0,0.0,1.0],\"hueRange\":[0.5,0],\"indexedLookup\":0,\"nanColor\":[0.6627450980392157,0.6627450980392157,0.6627450980392157,1.0],\"numberOfColors\":256,\"range\":[5.23766317704814e-19,22.58437982731847],\"saturationRange\":[1.0,1.0],\"useAboveRangeColor\":false,\"useBelowRangeColor\":false,\"valueRange\":[5.23766317704814e-19,22.58437982731847],\"vectorComponent\":0,\"vectorMode\":1,\"vectorSize\":-1},\"type\":\"vtkLookupTable\"}],\"id\":\"2745c572-0880-4c17-b5db-719f186bf3a4000000003095f890\",\"parent\":\"2745c572-0880-4c17-b5db-719f186bf3a40000000030caafb0\",\"properties\":{\"arrayAccessMode\":1,\"colorByArrayName\":null,\"colorMode\":1,\"interpolateScalarsBeforeMapping\":1,\"renderTime\":0.0,\"resolveCoincidentTopology\":0,\"scalarMode\":1,\"scalarRange\":[5.23766317704814e-19,22.58437982731847],\"scalarVisibility\":1,\"useLookupTableScalarRange\":0},\"type\":\"vtkDataSetMapper\"},{\"id\":\"2745c572-0880-4c17-b5db-719f186bf3a400000000307d5410\",\"parent\":\"2745c572-0880-4c17-b5db-719f186bf3a40000000030caafb0\",\"properties\":{\"ambient\":0.0,\"ambientColor\":[1.0,1.0,1.0],\"backfaceCulling\":0,\"color\":[1.0,1.0,1.0],\"diffuse\":1.0,\"diffuseColor\":[1.0,1.0,1.0],\"edgeColor\":[0.0,0.0,0.0],\"edgeVisibility\":0,\"frontfaceCulling\":0,\"interpolation\":0,\"lighting\":1,\"lineWidth\":1.0,\"opacity\":1.0,\"pointSize\":5.0,\"representation\":2,\"specular\":0.0,\"specularColor\":[1.0,1.0,1.0],\"specularPower\":100.0},\"type\":\"vtkOpenGLProperty\"}],\"id\":\"2745c572-0880-4c17-b5db-719f186bf3a40000000030caafb0\",\"parent\":\"2745c572-0880-4c17-b5db-719f186bf3a4000000002f010990\",\"properties\":{\"dragable\":1,\"forceOpaque\":false,\"forceTranslucent\":false,\"orientation\":[0.0,-0.0,0.0],\"origin\":[0.0,0.0,0.0],\"pickable\":1,\"position\":[0.0,0.0,0.0],\"scale\":[1.0,1.0,1.0],\"useBounds\":true,\"visibility\":1},\"type\":\"vtkOpenGLActor\"}],\"id\":\"2745c572-0880-4c17-b5db-719f186bf3a4000000002f010990\",\"parent\":\"2745c572-0880-4c17-b5db-719f186bf3a40000000030adfdb0\",\"properties\":{\"background\":[0.3,0.3,0.3],\"background2\":[0.2,0.2,0.2],\"clippingRangeExpansion\":0.5,\"interactive\":1,\"layer\":0,\"lightFollowCamera\":1,\"maximumNumberOfPeels\":4,\"nearClippingPlaneTolerance\":0.001,\"occlusionRatio\":0.0,\"preserveColorBuffer\":0,\"preserveDepthBuffer\":0,\"twoSidedLighting\":1,\"useDepthPeeling\":0,\"useShadows\":0,\"viewport\":[0.0,0.0,1.0,1.0]},\"type\":\"vtkOpenGLRenderer\"},{\"calls\":[[\"setActiveCamera\",[\"instance:${000000002990ffa0}\"]]],\"dependencies\":[{\"id\":\"000000002990ffa0\",\"parent\":\"2745c572-0880-4c17-b5db-719f186bf3a4000000002f1c0120\",\"properties\":{\"clippingRange\":[0.01,1000.01],\"focalPoint\":[0.0,0.0,0.0],\"position\":[0.0,0.0,1.0],\"viewUp\":[0.0,1.0,0.0]},\"type\":\"vtkOpenGLCamera\"}],\"id\":\"2745c572-0880-4c17-b5db-719f186bf3a4000000002f1c0120\",\"parent\":\"2745c572-0880-4c17-b5db-719f186bf3a40000000030adfdb0\",\"properties\":{\"background\":[0.3,0.3,0.3],\"background2\":[0.2,0.2,0.2],\"clippingRangeExpansion\":0.5,\"interactive\":0,\"layer\":1,\"lightFollowCamera\":1,\"maximumNumberOfPeels\":4,\"nearClippingPlaneTolerance\":0.0,\"occlusionRatio\":0.0,\"preserveColorBuffer\":1,\"preserveDepthBuffer\":0,\"twoSidedLighting\":1,\"useDepthPeeling\":0,\"useShadows\":0,\"viewport\":[0.0,0.0,1.0,1.0]},\"type\":\"vtkOpenGLRenderer\"},{\"calls\":[[\"setActiveCamera\",[\"instance:${00000000227b27d0}\"]]],\"dependencies\":[{\"id\":\"00000000227b27d0\",\"parent\":\"2745c572-0880-4c17-b5db-719f186bf3a4000000002f044cd0\",\"properties\":{\"clippingRange\":[3.1784280185413722,11.13129965931104],\"focalPoint\":[0.0,0.0,0.0],\"position\":[3.8637033051562732,3.8637033051562732,3.8637033051562732],\"viewUp\":[0.0,0.0,1.0]},\"type\":\"vtkOpenGLCamera\"}],\"id\":\"2745c572-0880-4c17-b5db-719f186bf3a4000000002f044cd0\",\"parent\":\"2745c572-0880-4c17-b5db-719f186bf3a40000000030adfdb0\",\"properties\":{\"background\":[0.0,0.0,0.0],\"background2\":[0.2,0.2,0.2],\"clippingRangeExpansion\":0.5,\"interactive\":0,\"layer\":1,\"lightFollowCamera\":1,\"maximumNumberOfPeels\":4,\"nearClippingPlaneTolerance\":0.001,\"occlusionRatio\":0.0,\"preserveColorBuffer\":1,\"preserveDepthBuffer\":0,\"twoSidedLighting\":1,\"useDepthPeeling\":0,\"useShadows\":0,\"viewport\":[0.0,0.0,0.2,0.2]},\"type\":\"vtkOpenGLRenderer\"}],\"id\":\"2745c572-0880-4c17-b5db-719f186bf3a40000000030adfdb0\",\"mtime\":1752617,\"parent\":\"2745c572-0880-4c17-b5db-719f186bf3a40x0\",\"properties\":{\"numberOfLayers\":2},\"type\":\"vtkXOpenGLRenderWindow\"},\"sizing_mode\":\"stretch_width\",\"width\":960},\"id\":\"1091\",\"type\":\"panel.models.vtk.VTKSynchronizedPlot\"},{\"attributes\":{\"high\":22.58437982731847,\"low\":5.23766317704814e-19,\"name\":\"u\",\"palette\":[\"#440154\",\"#440255\",\"#440357\",\"#450558\",\"#45065a\",\"#45085b\",\"#46095c\",\"#460b5e\",\"#460c5f\",\"#460e61\",\"#470f62\",\"#471163\",\"#471265\",\"#471466\",\"#471567\",\"#471669\",\"#47186a\",\"#48196b\",\"#481a6c\",\"#481c6e\",\"#481d6f\",\"#481e70\",\"#482071\",\"#482172\",\"#482273\",\"#482374\",\"#472575\",\"#472676\",\"#472777\",\"#472878\",\"#472a79\",\"#472b7a\",\"#472c7b\",\"#462d7c\",\"#462f7c\",\"#46307d\",\"#46317e\",\"#45327f\",\"#45347f\",\"#453580\",\"#453681\",\"#443781\",\"#443982\",\"#433a83\",\"#433b83\",\"#433c84\",\"#423d84\",\"#423e85\",\"#424085\",\"#414186\",\"#414286\",\"#404387\",\"#404487\",\"#3f4587\",\"#3f4788\",\"#3e4888\",\"#3e4989\",\"#3d4a89\",\"#3d4b89\",\"#3d4c89\",\"#3c4d8a\",\"#3c4e8a\",\"#3b508a\",\"#3b518a\",\"#3a528b\",\"#3a538b\",\"#39548b\",\"#39558b\",\"#38568b\",\"#38578c\",\"#37588c\",\"#37598c\",\"#365a8c\",\"#365b8c\",\"#355c8c\",\"#355d8c\",\"#345e8d\",\"#345f8d\",\"#33608d\",\"#33618d\",\"#32628d\",\"#32638d\",\"#31648d\",\"#31658d\",\"#31668d\",\"#30678d\",\"#30688d\",\"#2f698d\",\"#2f6a8d\",\"#2e6b8e\",\"#2e6c8e\",\"#2e6d8e\",\"#2d6e8e\",\"#2d6f8e\",\"#2c708e\",\"#2c718e\",\"#2c728e\",\"#2b738e\",\"#2b748e\",\"#2a758e\",\"#2a768e\",\"#2a778e\",\"#29788e\",\"#29798e\",\"#287a8e\",\"#287a8e\",\"#287b8e\",\"#277c8e\",\"#277d8e\",\"#277e8e\",\"#267f8e\",\"#26808e\",\"#26818e\",\"#25828e\",\"#25838d\",\"#24848d\",\"#24858d\",\"#24868d\",\"#23878d\",\"#23888d\",\"#23898d\",\"#22898d\",\"#228a8d\",\"#228b8d\",\"#218c8d\",\"#218d8c\",\"#218e8c\",\"#208f8c\",\"#20908c\",\"#20918c\",\"#1f928c\",\"#1f938b\",\"#1f948b\",\"#1f958b\",\"#1f968b\",\"#1e978a\",\"#1e988a\",\"#1e998a\",\"#1e998a\",\"#1e9a89\",\"#1e9b89\",\"#1e9c89\",\"#1e9d88\",\"#1e9e88\",\"#1e9f88\",\"#1ea087\",\"#1fa187\",\"#1fa286\",\"#1fa386\",\"#20a485\",\"#20a585\",\"#21a685\",\"#21a784\",\"#22a784\",\"#23a883\",\"#23a982\",\"#24aa82\",\"#25ab81\",\"#26ac81\",\"#27ad80\",\"#28ae7f\",\"#29af7f\",\"#2ab07e\",\"#2bb17d\",\"#2cb17d\",\"#2eb27c\",\"#2fb37b\",\"#30b47a\",\"#32b57a\",\"#33b679\",\"#35b778\",\"#36b877\",\"#38b976\",\"#39b976\",\"#3bba75\",\"#3dbb74\",\"#3ebc73\",\"#40bd72\",\"#42be71\",\"#44be70\",\"#45bf6f\",\"#47c06e\",\"#49c16d\",\"#4bc26c\",\"#4dc26b\",\"#4fc369\",\"#51c468\",\"#53c567\",\"#55c666\",\"#57c665\",\"#59c764\",\"#5bc862\",\"#5ec961\",\"#60c960\",\"#62ca5f\",\"#64cb5d\",\"#67cc5c\",\"#69cc5b\",\"#6bcd59\",\"#6dce58\",\"#70ce56\",\"#72cf55\",\"#74d054\",\"#77d052\",\"#79d151\",\"#7cd24f\",\"#7ed24e\",\"#81d34c\",\"#83d34b\",\"#86d449\",\"#88d547\",\"#8bd546\",\"#8dd644\",\"#90d643\",\"#92d741\",\"#95d73f\",\"#97d83e\",\"#9ad83c\",\"#9dd93a\",\"#9fd938\",\"#a2da37\",\"#a5da35\",\"#a7db33\",\"#aadb32\",\"#addc30\",\"#afdc2e\",\"#b2dd2c\",\"#b5dd2b\",\"#b7dd29\",\"#bade27\",\"#bdde26\",\"#bfdf24\",\"#c2df22\",\"#c5df21\",\"#c7e01f\",\"#cae01e\",\"#cde01d\",\"#cfe11c\",\"#d2e11b\",\"#d4e11a\",\"#d7e219\",\"#dae218\",\"#dce218\",\"#dfe318\",\"#e1e318\",\"#e4e318\",\"#e7e419\",\"#e9e419\",\"#ece41a\",\"#eee51b\",\"#f1e51c\",\"#f3e51e\",\"#f6e61f\",\"#f8e621\",\"#fae622\",\"#fde724\"]},\"id\":\"1089\",\"type\":\"LinearColorMapper\"},{\"attributes\":{\"client_comm_id\":\"ec40085d9b9d4e8fb8c0f0f4dd178607\",\"comm_id\":\"2b580f4e89cf4af18478a2f43e6a4579\",\"plot_id\":\"1091\"},\"id\":\"1092\",\"type\":\"panel.models.comm_manager.CommManager\"}],\"root_ids\":[\"1091\",\"1092\"]},\"title\":\"Bokeh Application\",\"version\":\"2.4.1\"}};\n",
       "    var render_items = [{\"docid\":\"1ae056de-2684-4044-a892-c0523c269578\",\"root_ids\":[\"1091\"],\"roots\":{\"1091\":\"170fc3ea-337c-41f2-8371-eb5d92978ac4\"}}];\n",
       "    root.Bokeh.embed.embed_items_notebook(docs_json, render_items);\n",
       "  }\n",
       "  if (root.Bokeh !== undefined && root.Bokeh.Panel !== undefined && ( root['vtk'] !== undefined)) {\n",
       "    embed_document(root);\n",
       "  } else {\n",
       "    var attempts = 0;\n",
       "    var timer = setInterval(function(root) {\n",
       "      if (root.Bokeh !== undefined && root.Bokeh.Panel !== undefined && (root['vtk'] !== undefined)) {\n",
       "        clearInterval(timer);\n",
       "        embed_document(root);\n",
       "      } else if (document.readyState == \"complete\") {\n",
       "        attempts++;\n",
       "        if (attempts > 200) {\n",
       "          clearInterval(timer);\n",
       "          console.log(\"Bokeh: ERROR: Unable to run BokehJS code because BokehJS library is missing\");\n",
       "        }\n",
       "      }\n",
       "    }, 25, root)\n",
       "  }\n",
       "})(window);</script>"
      ],
      "text/plain": [
       "VTKRenderWindowSynchronized(vtkXOpenGLRenderWindow, color_mappers=[LinearColorMapper(id='108...], height=480, orientation_widget=True, sizing_mode='stretch_width', width=960)"
      ]
     },
     "execution_count": 95,
     "metadata": {
      "application/vnd.holoviews_exec.v0+json": {
       "id": "1091"
      }
     },
     "output_type": "execute_result"
    }
   ],
   "source": [
    "plot_deformation(mesh, uh)"
   ]
  },
  {
   "cell_type": "code",
   "execution_count": null,
   "metadata": {},
   "outputs": [],
   "source": []
  }
 ],
 "metadata": {
  "colab": {
   "authorship_tag": "ABX9TyO4fc8BbC/fBMObcORcS0o8",
   "collapsed_sections": [],
   "name": "Fenics Gravity Loaded Beam.ipynb",
   "provenance": []
  },
  "kernelspec": {
   "display_name": "Python 3 (ipykernel)",
   "language": "python",
   "name": "python3"
  },
  "language_info": {
   "codemirror_mode": {
    "name": "ipython",
    "version": 3
   },
   "file_extension": ".py",
   "mimetype": "text/x-python",
   "name": "python",
   "nbconvert_exporter": "python",
   "pygments_lexer": "ipython3",
   "version": "3.9.5"
  }
 },
 "nbformat": 4,
 "nbformat_minor": 4
}
