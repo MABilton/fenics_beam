{
 "cells": [
  {
   "cell_type": "markdown",
   "id": "33198652-9cb5-4a94-85ff-423e47155c0c",
   "metadata": {},
   "source": [
    "# Installations and Imports"
   ]
  },
  {
   "cell_type": "code",
   "execution_count": 1,
   "id": "5f347a48-7cc7-494b-afda-458451d0d166",
   "metadata": {},
   "outputs": [],
   "source": [
    "!pip install pyvista panel -q\n",
    "!pip install -q piglet pyvirtualdisplay"
   ]
  },
  {
   "cell_type": "code",
   "execution_count": 34,
   "id": "2d628ea0",
   "metadata": {},
   "outputs": [],
   "source": [
    "import dolfinx\n",
    "import dolfinx.plot\n",
    "import numpy as np\n",
    "import ufl\n",
    "from petsc4py import PETSc\n",
    "from mpi4py import MPI\n",
    "from math import pi, sin, cos, ceil\n",
    "import pyvista"
   ]
  },
  {
   "cell_type": "markdown",
   "id": "8327aa24-87f2-45d9-be6a-a5747ffbb2c5",
   "metadata": {},
   "source": [
    "# Function Definitions"
   ]
  },
  {
   "cell_type": "markdown",
   "id": "fdf19e6b-2238-43e3-b371-693ab153197b",
   "metadata": {},
   "source": [
    "## Main Subroutine"
   ]
  },
  {
   "cell_type": "code",
   "execution_count": 35,
   "id": "c784370f-4bd3-4a04-bfde-07c46848c7d7",
   "metadata": {
    "tags": []
   },
   "outputs": [],
   "source": [
    "# Function which performs loading for a particular set of parameters:\n",
    "def perform_loading(L, W, elem_size, E, kappa, y_rot, x_rot, nu, rho, g, num_steps, rtol=1e-4, atol=1e-4, max_it=10):\n",
    "    \n",
    "    NL, NW = ceil(L/elem_size), ceil(W/elem_size)\n",
    "    mesh = create_mesh(L, W, NL, NW)\n",
    "    V = dolfinx.VectorFunctionSpace(mesh, (\"CG\", el_order))\n",
    "\n",
    "    bcs = create_bcs(mesh, V)\n",
    "    \n",
    "    # Compute Lame parameters:\n",
    "    mu = dolfinx.Constant(mesh, E/(2*(1 + nu)))\n",
    "\n",
    "    # Compute new body force:\n",
    "    B = dolfinx.Constant(mesh, (0,0,0))\n",
    "    v = ufl.TestFunction(V)\n",
    "    u = dolfinx.Function(V)\n",
    "    d = len(u)\n",
    "    I = ufl.variable(ufl.Identity(d))\n",
    "    F = ufl.variable(I + ufl.grad(u))\n",
    "    C = ufl.variable(F.T * F)\n",
    "    J = ufl.variable(ufl.det(F))\n",
    "    Ic = ufl.variable(ufl.tr(C))\n",
    "\n",
    "    # Stored strain energy density (compressible neo-Hookean model)\n",
    "    psi = (mu/2)*(Ic-3) + kappa/2*(J-1)**2\n",
    "    # Hyper-elasticity\n",
    "    P = ufl.diff(psi, F)\n",
    "    \n",
    "    metadata = {\"quadrature_degree\": 4}\n",
    "    dx = ufl.Measure(\"dx\", metadata=metadata)\n",
    "\n",
    "    # Define form F (we want to find u such that F(u) = 0)\n",
    "    F = ufl.inner(ufl.grad(v), P)*dx - ufl.inner(v, B)*dx\n",
    "    \n",
    "    # Delete cache of previous models:\n",
    "    !rm -r /root/.cache/fenics/*\n",
    "    \n",
    "    problem = dolfinx.fem.NonlinearProblem(F, u, bcs)\n",
    "    solver = dolfinx.NewtonSolver(MPI.COMM_WORLD, problem)\n",
    "    solver.rtol = rtol\n",
    "    solver.atol = atol\n",
    "    solver.max_it = max_it\n",
    "    \n",
    "    f = create_load_vector(g, rho, y_rot, x_rot)\n",
    "    f_step = f/num_steps\n",
    "    for n in range(num_steps):\n",
    "        print(f\"Performing load step {n+1}/{num_steps}\")\n",
    "        for i, f_i in enumerate(f_step):\n",
    "            B.value[i] = (n+1)*f_i\n",
    "        num_its, converged = solver.solve(u)\n",
    "        assert(converged)\n",
    "        u.vector.ghostUpdate(addv=PETSc.InsertMode.INSERT, mode=PETSc.ScatterMode.FORWARD)\n",
    "    volumes = compute_volume(u, mesh)\n",
    "    return (u, mesh, volumes)"
   ]
  },
  {
   "cell_type": "markdown",
   "id": "5a324bc2-51e1-486c-a8ee-633ffa672dd8",
   "metadata": {},
   "source": [
    "## Mesh + BCs"
   ]
  },
  {
   "cell_type": "code",
   "execution_count": 36,
   "id": "bb6bdf44-8ea3-4b19-a317-ffc5be1e708a",
   "metadata": {},
   "outputs": [],
   "source": [
    "def create_mesh(L, W, NL, NW):\n",
    "    mesh = dolfinx.BoxMesh(MPI.COMM_WORLD,[[0.0,0.0,0.0], [L, W, W]], [NL, NW, NW], dolfinx.cpp.mesh.CellType.hexahedron)\n",
    "    return mesh"
   ]
  },
  {
   "cell_type": "code",
   "execution_count": 37,
   "id": "33b0ab01-cdc0-4436-908e-0dd029300305",
   "metadata": {},
   "outputs": [],
   "source": [
    "def create_bcs(mesh, V):\n",
    "    fixed = lambda x: np.isclose(x[0], 0)\n",
    "    fixed_facets = dolfinx.mesh.locate_entities_boundary(mesh, mesh.topology.dim - 1, fixed)\n",
    "    facet_tag = dolfinx.MeshTags(mesh, mesh.topology.dim-1, fixed_facets, 1)\n",
    "    u_bc = dolfinx.Function(V)\n",
    "    with u_bc.vector.localForm() as loc:\n",
    "        loc.set(0)\n",
    "    left_dofs = dolfinx.fem.locate_dofs_topological(V, facet_tag.dim, facet_tag.indices[facet_tag.values==1])\n",
    "    bcs = [dolfinx.DirichletBC(u_bc, left_dofs)]\n",
    "    return bcs"
   ]
  },
  {
   "cell_type": "markdown",
   "id": "ff7fb36b-7be7-4472-8b47-b75647ba4e72",
   "metadata": {},
   "source": [
    "## Gravity Functions"
   ]
  },
  {
   "cell_type": "code",
   "execution_count": 38,
   "id": "82aaed67-6c43-4f17-9508-e8a1d9a74a72",
   "metadata": {},
   "outputs": [],
   "source": [
    "# Using Euler angles - see https://www.autonomousrobotslab.com/frame-rotations-and-representations.html\n",
    "# Here, y_rot = theta, x_rot = psi\n",
    "def create_load_vector(g, rho, y_rot, x_rot, g_dir=(1,0,0)):\n",
    "    rot_matrix = create_rot_matrix(y_rot, x_rot)\n",
    "    f = rot_matrix @ (g*rho*np.array(g_dir))\n",
    "    return f\n",
    "\n",
    "def create_rot_matrix(y_rot, x_rot, angle_to_rad=pi/180):\n",
    "    # NB: Negative associated with y so increasing y_rot goesin 'right direction'\n",
    "    theta, psi = angle_to_rad*y_rot, angle_to_rad*x_rot\n",
    "    theta, psi = -angle_to_rad*y_rot, angle_to_rad*x_rot\n",
    "    rot_matrix = np.array([[         cos(theta),        0,          -sin(theta)],\n",
    "                           [sin(psi)*sin(theta),  cos(psi), sin(psi)*cos(theta)],\n",
    "                           [cos(psi)*sin(theta), -sin(psi), cos(psi)*cos(theta)]])\n",
    "    return rot_matrix"
   ]
  },
  {
   "cell_type": "markdown",
   "id": "82cd6344-3c04-41ad-b72b-4bcfa0bceafd",
   "metadata": {},
   "source": [
    "## Volume Computation"
   ]
  },
  {
   "cell_type": "code",
   "execution_count": 39,
   "id": "a50d980c-78de-4c5a-9494-dd66fbc9f3c2",
   "metadata": {},
   "outputs": [],
   "source": [
    "def compute_volume(u, mesh, quad_order=4):\n",
    "    before_vol, after_vol = [], []\n",
    "    ndim = mesh.geometry.x.shape[1]\n",
    "    I = ufl.Identity(ndim)\n",
    "    dx = ufl.Measure(\"dx\", domain=mesh, metadata={\"quadrature_degree\": quad_order})\n",
    "    const_funspace = dolfinx.VectorFunctionSpace(mesh, (\"DG\", 0), dim=1)\n",
    "    const_fun = dolfinx.Function(const_funspace)\n",
    "    const_fun.vector[:] = np.ones(const_fun.vector[:].shape)\n",
    "    ufl.inner(const_fun,const_fun)\n",
    "    before_vol.append(dolfinx.fem.assemble.assemble_scalar(ufl.inner(const_fun,const_fun)*dx))\n",
    "    F = I + ufl.grad(u)\n",
    "    after_vol.append(dolfinx.fem.assemble.assemble_scalar(ufl.det(F)*dx))\n",
    "    return (before_vol, after_vol)"
   ]
  },
  {
   "cell_type": "markdown",
   "id": "ce169d3d-d61c-4842-99fa-af8118799190",
   "metadata": {},
   "source": [
    "## Plotting Function"
   ]
  },
  {
   "cell_type": "code",
   "execution_count": 74,
   "id": "fc9329c3-bf61-4b0d-acca-44cf74b3c510",
   "metadata": {},
   "outputs": [],
   "source": [
    "def plot_deformation(uh, meshio_mesh, rot_y, rot_x, title=None):\n",
    "    mesh = meshio_mesh\n",
    "    pyvista.start_xvfb(wait=0.05)\n",
    "    topology, cell_types = dolfinx.plot.create_vtk_topology(mesh, mesh.topology.dim)\n",
    "    points, u = mesh.geometry.x, uh.compute_point_values().real\n",
    "    points, u = rotate_mesh(points, u, -rot_y+90, -rot_x)\n",
    "    grid = pyvista.UnstructuredGrid(topology, cell_types, points)\n",
    "    p = pyvista.Plotter(notebook=True, window_size=[960,480]) #\n",
    "    \n",
    "    title = \"Deformed Configuration\" if title is None else title\n",
    "    p.add_text(title, name=\"title\", position=\"upper_edge\")\n",
    "    \n",
    "    grid[\"u\"] = u\n",
    "    actor_0 = p.add_mesh(grid, style=\"wireframe\", color=\"k\")\n",
    "    warped = grid.warp_by_vector(\"u\", factor=1.5)\n",
    "    actor_1 = p.add_mesh(warped)\n",
    "    \n",
    "    p.show_axes()\n",
    "    p.camera_position = 'xz'\n",
    "    viewer = p.show(jupyter_backend='panel', return_viewer=True)\n",
    "    return viewer\n",
    "\n",
    "def rotate_mesh(points, u, y_rot, x_rot):\n",
    "    rot_matrix = create_rot_matrix(y_rot, x_rot)\n",
    "    rotated_points = (rot_matrix @ points.T).T\n",
    "    rotated_u = (rot_matrix @ u.T).T\n",
    "    return (rotated_points, rotated_u)"
   ]
  },
  {
   "cell_type": "markdown",
   "id": "649372c3-3d3d-4c59-9656-199d6bee0f66",
   "metadata": {},
   "source": [
    "# Function Call"
   ]
  },
  {
   "cell_type": "code",
   "execution_count": 80,
   "id": "e55c2e30-b581-4e89-8107-7a00cefcac26",
   "metadata": {
    "tags": []
   },
   "outputs": [
    {
     "name": "stdout",
     "output_type": "stream",
     "text": [
      "Performing load step 1/20\n",
      "Performing load step 2/20\n",
      "Performing load step 3/20\n",
      "Performing load step 4/20\n",
      "Performing load step 5/20\n",
      "Performing load step 6/20\n",
      "Performing load step 7/20\n",
      "Performing load step 8/20\n",
      "Performing load step 9/20\n",
      "Performing load step 10/20\n",
      "Performing load step 11/20\n",
      "Performing load step 12/20\n",
      "Performing load step 13/20\n",
      "Performing load step 14/20\n",
      "Performing load step 15/20\n",
      "Performing load step 16/20\n",
      "Performing load step 17/20\n",
      "Performing load step 18/20\n",
      "Performing load step 19/20\n",
      "Performing load step 20/20\n"
     ]
    }
   ],
   "source": [
    "# Fixed parameters:\n",
    "nu = 0.33 # dimensionless\n",
    "rho = 0.00102 # in g mm^-3\n",
    "g = 9.81 # in m s^-2\n",
    "W = 40 # in mm\n",
    "L = 90 # in mm\n",
    "elem_size = W/5\n",
    "el_order = 2\n",
    "num_steps = 20\n",
    "\n",
    "# Parameters to vary:\n",
    "E = 30\n",
    "kappa = 1500\n",
    "rot_y = 130\n",
    "rot_x = 0\n",
    "\n",
    "u, mesh, volumes = perform_loading(L, W, elem_size, E, kappa, rot_y, rot_x, nu, rho, g, num_steps)"
   ]
  },
  {
   "cell_type": "code",
   "execution_count": 81,
   "id": "604afa00-b17f-49ba-843f-0a020f568635",
   "metadata": {},
   "outputs": [
    {
     "data": {},
     "metadata": {},
     "output_type": "display_data"
    },
    {
     "data": {
      "application/vnd.holoviews_exec.v0+json": "",
      "text/html": [
       "<div id='1081'>\n",
       "\n",
       "\n",
       "\n",
       "\n",
       "\n",
       "  <div class=\"bk-root\" id=\"47a00b70-0ac8-40a0-95fc-032d48d07a58\" data-root-id=\"1081\"></div>\n",
       "</div>\n",
       "<script type=\"application/javascript\">(function(root) {\n",
       "  function embed_document(root) {\n",
       "    var docs_json = {\"1e9424e2-2f95-4def-924f-05837c23de0b\":{\"defs\":[{\"extends\":null,\"module\":null,\"name\":\"ReactiveHTML1\",\"overrides\":[],\"properties\":[]},{\"extends\":null,\"module\":null,\"name\":\"FlexBox1\",\"overrides\":[],\"properties\":[{\"default\":\"flex-start\",\"kind\":null,\"name\":\"align_content\"},{\"default\":\"flex-start\",\"kind\":null,\"name\":\"align_items\"},{\"default\":\"row\",\"kind\":null,\"name\":\"flex_direction\"},{\"default\":\"wrap\",\"kind\":null,\"name\":\"flex_wrap\"},{\"default\":\"flex-start\",\"kind\":null,\"name\":\"justify_content\"}]},{\"extends\":null,\"module\":null,\"name\":\"TemplateActions1\",\"overrides\":[],\"properties\":[{\"default\":0,\"kind\":null,\"name\":\"open_modal\"},{\"default\":0,\"kind\":null,\"name\":\"close_modal\"}]},{\"extends\":null,\"module\":null,\"name\":\"MaterialTemplateActions1\",\"overrides\":[],\"properties\":[{\"default\":0,\"kind\":null,\"name\":\"open_modal\"},{\"default\":0,\"kind\":null,\"name\":\"close_modal\"}]}],\"roots\":{\"references\":[{\"attributes\":{\"client_comm_id\":\"1289c54a479c4c1a847071e1e2dd5ca9\",\"comm_id\":\"43b3b76df9f846a3a1e22c92f934180a\",\"plot_id\":\"1081\"},\"id\":\"1082\",\"type\":\"panel.models.comm_manager.CommManager\"},{\"attributes\":{\"high\":17.16589175169592,\"low\":3.859731368986837e-17,\"name\":\"u\",\"palette\":[\"#440154\",\"#440255\",\"#440357\",\"#450558\",\"#45065a\",\"#45085b\",\"#46095c\",\"#460b5e\",\"#460c5f\",\"#460e61\",\"#470f62\",\"#471163\",\"#471265\",\"#471466\",\"#471567\",\"#471669\",\"#47186a\",\"#48196b\",\"#481a6c\",\"#481c6e\",\"#481d6f\",\"#481e70\",\"#482071\",\"#482172\",\"#482273\",\"#482374\",\"#472575\",\"#472676\",\"#472777\",\"#472878\",\"#472a79\",\"#472b7a\",\"#472c7b\",\"#462d7c\",\"#462f7c\",\"#46307d\",\"#46317e\",\"#45327f\",\"#45347f\",\"#453580\",\"#453681\",\"#443781\",\"#443982\",\"#433a83\",\"#433b83\",\"#433c84\",\"#423d84\",\"#423e85\",\"#424085\",\"#414186\",\"#414286\",\"#404387\",\"#404487\",\"#3f4587\",\"#3f4788\",\"#3e4888\",\"#3e4989\",\"#3d4a89\",\"#3d4b89\",\"#3d4c89\",\"#3c4d8a\",\"#3c4e8a\",\"#3b508a\",\"#3b518a\",\"#3a528b\",\"#3a538b\",\"#39548b\",\"#39558b\",\"#38568b\",\"#38578c\",\"#37588c\",\"#37598c\",\"#365a8c\",\"#365b8c\",\"#355c8c\",\"#355d8c\",\"#345e8d\",\"#345f8d\",\"#33608d\",\"#33618d\",\"#32628d\",\"#32638d\",\"#31648d\",\"#31658d\",\"#31668d\",\"#30678d\",\"#30688d\",\"#2f698d\",\"#2f6a8d\",\"#2e6b8e\",\"#2e6c8e\",\"#2e6d8e\",\"#2d6e8e\",\"#2d6f8e\",\"#2c708e\",\"#2c718e\",\"#2c728e\",\"#2b738e\",\"#2b748e\",\"#2a758e\",\"#2a768e\",\"#2a778e\",\"#29788e\",\"#29798e\",\"#287a8e\",\"#287a8e\",\"#287b8e\",\"#277c8e\",\"#277d8e\",\"#277e8e\",\"#267f8e\",\"#26808e\",\"#26818e\",\"#25828e\",\"#25838d\",\"#24848d\",\"#24858d\",\"#24868d\",\"#23878d\",\"#23888d\",\"#23898d\",\"#22898d\",\"#228a8d\",\"#228b8d\",\"#218c8d\",\"#218d8c\",\"#218e8c\",\"#208f8c\",\"#20908c\",\"#20918c\",\"#1f928c\",\"#1f938b\",\"#1f948b\",\"#1f958b\",\"#1f968b\",\"#1e978a\",\"#1e988a\",\"#1e998a\",\"#1e998a\",\"#1e9a89\",\"#1e9b89\",\"#1e9c89\",\"#1e9d88\",\"#1e9e88\",\"#1e9f88\",\"#1ea087\",\"#1fa187\",\"#1fa286\",\"#1fa386\",\"#20a485\",\"#20a585\",\"#21a685\",\"#21a784\",\"#22a784\",\"#23a883\",\"#23a982\",\"#24aa82\",\"#25ab81\",\"#26ac81\",\"#27ad80\",\"#28ae7f\",\"#29af7f\",\"#2ab07e\",\"#2bb17d\",\"#2cb17d\",\"#2eb27c\",\"#2fb37b\",\"#30b47a\",\"#32b57a\",\"#33b679\",\"#35b778\",\"#36b877\",\"#38b976\",\"#39b976\",\"#3bba75\",\"#3dbb74\",\"#3ebc73\",\"#40bd72\",\"#42be71\",\"#44be70\",\"#45bf6f\",\"#47c06e\",\"#49c16d\",\"#4bc26c\",\"#4dc26b\",\"#4fc369\",\"#51c468\",\"#53c567\",\"#55c666\",\"#57c665\",\"#59c764\",\"#5bc862\",\"#5ec961\",\"#60c960\",\"#62ca5f\",\"#64cb5d\",\"#67cc5c\",\"#69cc5b\",\"#6bcd59\",\"#6dce58\",\"#70ce56\",\"#72cf55\",\"#74d054\",\"#77d052\",\"#79d151\",\"#7cd24f\",\"#7ed24e\",\"#81d34c\",\"#83d34b\",\"#86d449\",\"#88d547\",\"#8bd546\",\"#8dd644\",\"#90d643\",\"#92d741\",\"#95d73f\",\"#97d83e\",\"#9ad83c\",\"#9dd93a\",\"#9fd938\",\"#a2da37\",\"#a5da35\",\"#a7db33\",\"#aadb32\",\"#addc30\",\"#afdc2e\",\"#b2dd2c\",\"#b5dd2b\",\"#b7dd29\",\"#bade27\",\"#bdde26\",\"#bfdf24\",\"#c2df22\",\"#c5df21\",\"#c7e01f\",\"#cae01e\",\"#cde01d\",\"#cfe11c\",\"#d2e11b\",\"#d4e11a\",\"#d7e219\",\"#dae218\",\"#dce218\",\"#dfe318\",\"#e1e318\",\"#e4e318\",\"#e7e419\",\"#e9e419\",\"#ece41a\",\"#eee51b\",\"#f1e51c\",\"#f3e51e\",\"#f6e61f\",\"#f8e621\",\"#fae622\",\"#fde724\"]},\"id\":\"1079\",\"type\":\"LinearColorMapper\"},{\"attributes\":{\"annotations\":[{\"LeftEdge\":null,\"LowerEdge\":null,\"LowerLeft\":null,\"LowerRight\":null,\"RightEdge\":null,\"UpperEdge\":\"Effect of a Diffent Model or Prior\",\"UpperLeft\":null,\"UpperRight\":null,\"color\":[1.0,1.0,1.0],\"fontFamily\":\"Arial\",\"fontSize\":18.0,\"id\":\"74185412-bf07-41de-ada3-1d32d01ef0df000000002f427ab0\",\"viewport\":[0.0,0.0,1.0,1.0]}],\"arrays\":{\"03b291d1e389c57a1aa257fa693c7a3e\":\"UEsDBBQAAAAIAFAmblNysJER7hMAAGAbAAAlAAAAZGF0YS8wM2IyOTFkMWUzODljNTdhMWFhMjU3ZmE2OTNjN2EzZXWXeTRV6xvHiUhcKnMZDhlShiNxDmE/OUfGjBnSQK5MZShFJA3IVMZSNGnWQC4V6uScBlFIFCJDMyFDyVDUb9+fh7VqrevPd71rn3d/v+/z+diplsePX9ewA3afmbbSCAFlzzXZOwtsocLtYrXbc2so4WpeEz3CgDlalq6jJjYQsjnGMkTdDjQOFISnjTFgfJXEEXdyf49bzGJ/OytI17bYkPCVgEix0O4qbnvI9dd4Bw020M4wKNEcJkDUJa01oNgeYrPlPinaWAEj6hJ8G2bAfkX/hevI/fFfaQO59Tbg7Lbn8ZJRBsQZnbf3JPeX7Lfsr/xiB9vPRElkfSPg7RHHy01DVvD657an8zfagFrLgqrZ5H7fVe5dm+IsQSS/oiSR3G8ilaPRRp5fVeh7T9U3KzgT6DPXU9MOtIPVTnSO0+D0Orvw89dtQTIwN/WhvRWUNfjtS/hBgxel/nZnyfNkbTYxlm6ygcTjAWdiyP0sU3kPI/I8q1IndIbNLKCwYdSR7xsDzh7UDjZvswbB6O93iyrN4LmW+I2TfQS8YdYqmNrYwe7MnE3McjM4kC74bO5XBtDfLDAUJtfn8acTdaX2ENS/c2XxF4J83oClDd0caEXLi659tQWmt8BZc/K9ykvcZzpVr4QnY62qUnfsYaTvsYv7EAOCQrW53xmYg7GadbDEVzt4auAYFUiec6WeXz98tYIh5gz+J02WEL7NyWkd+Rx5j1L1hoUWcA5zyEtp/FuKhwrHMQdpzEF8cWZUKC8V6jGHbMzBzit9wy5y/x3M4WKU9DaJJ2bguLy5u26MBqmD5zvurrID482ZaRU3TeGTlDtxbYABaw9om7vttgKJW0FVVw2YUDPquOv5ewJeHU9jCdNt4arm1dfhy5gg3r6Rnt/NgHf2Sw7n6tvCys+bBF/sdQAfgtvFcJAAB4OehNc7mZAsV75u0X07eOn362Al+V4vmNL1ZsIMSBYQZQlEO0C8YfGeZ1/Ie5X3xWVnJBPyThoaJZI531lo9OMK2e/T9qzHMnrmUNRwQ6kvwBrmlYda84wz4FEPsf64nykQmKdk+bV9aeT7mmCeG/XfpetYmsG9z93fmeTvzub2E2FVmMFhnCNCMfhk8VwKFOIcfcG52HMigPFZigJhOBeFOBcDYUkpZ0UpIIxzkYt5xj5UEdfko0Iy5tk7d073RUMmHBXcI3t0mAYHHZ+MHdG1BcP1+9OUZE0AWLqxvZ8YkHN67ZOX8paw9sbsUsfzADoZxeGcBgL0RqiP2+pWwQartt2B2QDvDVTedLYx4KmqU0Vb4yoIv+915lKMPTynSovvHiMgeoabrmyGMcw7trJ91UpHCA0p8TMk7+d4zsiK5BKAE6ylqgvj7MEpZwe/G8mBuZHZejJZxlDEqGmJNXeEiIm2g7bk/aQqNHxfyQLYnClXO5PssXvLjwdLyfz5NHvHd4QygU+6zUlnhg08KahSkf/FAMmgcpktV1ZAPval3Xqf14m8h9XY10u7+26qnebAojaW6nIx4YGk4CmpOUxgIR/esmY8rxGjQAPyoeRxmZNnKQOkqNal+0gONLavT3MOXgn1yLf5m3+ush4rIMY1J/kWiXwDvk4j6duXiQ/ItzTkVbYFzz9R4oVEGPLqFPIq0yZzRovddSISeTUPOcCd03D0oSIFWpED/dgjY2jvW18BKsRjj19+GrkGXwK4GLyTdmqQBtTr4SWeNavgVXu+8IYJQ9DfIZdX+5oB7xcWjr1mm4Np6BHf/QIGQOviqi+8R0DbfQUVTy9rUDqb9ELtsz4cH14rN7OGAWXbI6P4Aq1BTrVV+2S0PWz6daZ5wU8ayMx339aYbAxv+byLtEwdQdE7PvMI2Ysym7AZvgmQ6J8+lnvAFirFog64cQMc/PjJX/LecjjtG60mddAWnl6UN6km85dZb/VJ7fHy6X75MngNa8i+eLHfrpM/Umv3WQK/TLeRHT8TClPlHF6R8Yoj94YpwiFp8ylwEbknHRdRWONhCpo9lrVWM5mwPapw2da7JtCJnF+sdDT1+YvrhANyXgI5z+Veyz5vWkDMQc6ryo1plqoARM9qvSVN+mU8LWxPprQpOCO34yNWC7t+vUmkILcPIJ/XVrR0ubeWElrI5wXIq/nCrgJr9ChQj7wawr70U+IqNwpTQQP7iks8V3Z3ngH4jNV1fO+mQcbOmHKX9dYQFCb/RL1YFzb6+FAONTCgqHosk+piBh9pRwJeFi8F71PqQ1qXCWjRiGir7rKE6K1FC03Sl5L34+LnzSUM+FjFkVs+agny2GMy1waV99xUEMMe32GPdVlhfv5k/grY47uPZWOzYm0hyix0woSbDifGe5R+3VkOF4KEVHP5rWH12quCq2eR111t5ocZv+hw7UO/p+df1rDdvfLvDCEmZPJblB76Sx/MkcPi+ybs42QpYIocNt+V3e470wxETNU2zZ3HhGt3gl6l/zICY/TXrAfeLWFt+UQB+usZ+ovzQ2GL3Ypiwhn9VcnuUH3XugJyzK7tChFkQnS2gisRuAK+o79iOnWvXEnOJ4TQX/4f68OXLtKHBbcZdpokZ+Tl1It4yxhgit7ZPvfpin2Xyggr9E4R+sWwSeFUhX05UY9+8UBOujanCu1ZTQFN5GQi9ribT5MyU5wKadjjXj0d57iHS6FiSJ/R9pYGaV6xjTfbLSE5Kt/jcpM6zLY7fTeukuzX27Of2m4K5laLHwpfVYEdt84bCR4i4MaEtiy/iwWIW7U7fbZWAdr6fwwKcxhwQzElYFmABexCDi8/VdMw8y8K+CKHRZHDY1Ip6nELKNCLHJ7qtz9YdGbEhBYcxX7vL3Lvu85nDbcsNpt1zqSDZrpvttcIHYI15kjHp5rDUED7HPF5AD6MqxubrPSgy+LcQ51Mc7gj976zSYYJVbsO8xp76UEaerYrwnVGdds1ogw9m4Ge/dJ2II3L/Tbhh54Vb3tw42cKAxw5GzPOyjNh9uCcpE7f5VCMnuVRbLI48eE0UYie3Rh3JbTijiE07xI5+Ji8P/VZxbQ2WQBv9KzRE/PVYr35xBjXpGfVo7NiZ81aCqv/OeL/YZABV+d9T7/hbAJM9GBXIeNJhOgjIhU96IO+E4l9u0VEqI7goO/skJ+uWj/XZkdSoBH5GYP9Kgo+YinKUiEF+xXubVV2qFIBoY5jFgebaSD914yrARYWMF/lvSU9QQYW+R4tirrNgMsm8xZ8tGKCyYl0tSi6CLArmQINgQTs83Sq7b5gBo19t7qiov4CmyU5P9TjGMC1T22Z1EMzOIU+zU+PUnt79ArxftekT2+hT7vHeZkfPYoJMfTpIeTzqTUi1Uu+yUMo8nmq95gtalu1h7RACXsPSB6V8Cd7H76hGesvRIfK5oYYcdAjf19c9qmyKWQ0eivWygEEBa8Je35OB1J9Qy+9XGwKn2cnld7TZsKnjryMuY91YBb6OrzpQ4LKgkiCF30t/m3d4T4lgMYEHTkNKhNui67j1mukwyv09bo9nlI9rW7sIvR1c0Tn0bAaXeDb4dHrtIAJnlzWshEHjaAMfb3x7mmfQ+MFRDn6evX9+nG1LmXQ72UNh/QzYGtaYBT9FUA3+tHkTuIbB2ot0YR+1EUPSl/lrQ/e3UwUogf7kbczH1yUzMkj/09A3s7Fft9SfG6FqFBBCvvNmf1z3KVOBEIfe3DfqaUBJaCxNP2wGXBOJmSy+m6zZ+yR/FF1jQHp3cJSVpkmsCFcq9jdQ4hTGB3H0HAkoH3gJPvYE1O42Cpn3mMmzMn2Pt8gFsgAuZNVrwYHTOEs+tQxvmWIER/OHlo36dNLyGdj5Qtn3e/Kw+CiST5P9Sicefbb4k4tuI89ytzY6TioYgrFdSofJsTo0BVU8DMtXQfSnBI01lSvgMTw1ZfKNQGEWJyDttzaMJJzOYlTuwJceXi10sj7OmtbiZeZnjb0oq+tdYJzRyCPnYO+/ir485trij6wRzh++QwmbBBc35lhRP4u+nrgxbUlRloX2F7o642hp99K9mhAVOYpCkuJCYNsZz5RtgGoo5cXf+ozS68uIvrQy8xD+b8i80Ug5kGqbUEvAxSqxd5c3m8MYejNXEvr6iD9BiIXvZmCfhydvzmT98Mbog396Iy8HUi/FfPpAwUKkLcF2GOk3umfTCoV5LFH3wvfXXjuCnIq+h/bvH5Eg40uY9BzgzzPsRcijA4ZjsenwDXK5xnwOXKus1khgLJkqvyaXmWO97n4+qdMAqyNWPNV2OR3aseew/YuKpyK0AHNeR4MmHmns8ON/P7IQ596DZalVqiUskPRp9uQw+apQuEuQfLgjBye6vHQukJd3kYt6MAeG15xfY0k+xJpbHZrlKfD47fiPBGfqNC+Pj5trqgRSL0bf7GM/Ax4xv6iPuu2OixTqxibTa57CasVZ/kzQahk5drv5hpggb7umvevsO+zk9DX3Ln0L4kjS6GuNPRlzBomWLuki3ql6UAVelnGIsV15OMt9nb0soFMTW3ILgpEZnb0L9FkwkhdtzwXhwbb0MvzWEk73c8VE6Lo5aGOnKQOHn5OPO1xSy35neI64kJJ+G4AJ9Cb1iMuVAXWK+IKelMT/ShQkOu49XknkYd+3Ilc3RQY+tlJUQGikKuu2KPmHL1/5PWp4IE95rJtIpvuKnN4BK45a5bT4FDVYYfBSwwIfdaZ1OGuzlkkG0xcIP27/WR+k+sSI0gY36Ge6riUY76l38Y5iICbm75Fvvt7BYim1yV8jFnK2ePTG73ZkwE7vvsNBGavgG70Zurdf8VZzS5Ab3IjVz2sHvceEJCH9cjVqR5fO1pbOnLI+cUeN5Ud1BOjGMEa89HdShp0CCF6E2t2qcPiWMmevY/0YFkX7+kXrgBuh7Oe2K9ThdgmmyNxxXowfP00GCeT8/so9zm/2CKQRP/yOv8r4Fp238Ckf+3Wvn2lIqoGZr48iwKDmCDdkufnyqaCN/q3r+1fAd9nP0L/js5QKSmR+0FonUkqHNdhQpzaHpUZ25cBFf17b9XJF4t1WcQZ9K/7ldV5298rco51xN9172TA0XQb/e1cNFiGfjw9pDzf0eMNcQ79qNc/6cEvi79J3lvWR/zYO+lBKvIzcXRg54U1CtCK/LyAPY4MO16uM6BO97h3xURhuuFSji+P1MuFDTTId3LIO+1A3lcJQ4fitGUcrv//kf+n29WeDYqm/7HOnF4/t6BKRfmW/vR+M6XoJKvzxn+sM6fX09GPzWGx5a2vX7Kr0Y9TvL2ks668PkEOJu5M8naqX4cgEd7iC1rgh/0WhZr7jrTpgeuDiEgvQzoUZ3essxNRBWF/gTCJ+1S47yPRlxwE8HL+aLx3vQKMdxsdNcmiwqDASm3ODSbEy1c/bC9QnPavTO9D6RSJl+yz6N8rkX8fDlspDZzjhvtadpNeVjZ6scxhCbSif6/M+lfAVexV6N/6n/0WEbR5HDufyhXWpPePfBKqo92hwjr0b9cDUYbAQQ7hj/5drOD2I71Fczq3JZELbmd4Lv1jnTm9zpU16c00Y4oBd817Ihm96YZ+dFAPsdpk9IWQQT/KIG9VS/vcPEMVpnm7B3vPGO9UbV1M/Y/e6f/RL326x2H0oE0j1z2r92/ZvVsnPdiKXIVOKdc1fbJQjFyd6ss5fDY/LU4LrmFfwfoPdox0UaF6d4SCgRUdXstt57UPU4CRq+2lBxeogPQrfnbYboDM7C3m/8yRAh9mQcWh1cpwuSzcMraGCQNJ104YdkrDN/Rsf79RcHbPa7YFevYN7e9i9eRmwiu0JbSE7JGPd1vIrMNK4IWebSWsbOdsqGe/Q89O5qD0x/1f9Mc6c3rdFf37PdwwqMD2ASGB/v29R/p0j7rox8RLpucvD38ketCPoejBCZVBhdsTX4kpD8YhV71VFTwdFRTgBnL1976o/9EXdbqvpei1j8cYTwIudrPfFk96TQ05GVD2kn+tviwwkJNbsZetvIJ3k/y0oAV7MU94yFQNUwGl1ByCYUsHOwHbBFVTSYho4E1uTZSEN26sbRe9ADQs0q3kZ/HDAR1xPYcocTjRH7fk0AsmSFy6knfZejbwoDf3b8+X1dv4kW2A3px8L7Hp/A3+/15Sf6wzp9eN0KclxlX9I+JN7F706e990af76kafvg+t1FOmPiIc0Ke/90Wd7mvKd59uji4saOwkQtB3wui1XyIh+1MKvxJTXvu9F8p/9EKZ7iUafZT+85toZcUg+335pI+mODZ+zzolPloGKpFjU/nf6yjbG75RC1Zi/oXHR92XSEpBHpFsZGlEB5210NRzfiZsNesY9IiNYE3lGbv+3snFWYWGQj/dObd4XVhTeeolaG3esPsfQ3v0Xd3cFq7EVz1sIfTd7/nTp/OfzTPpu7yjz0zX/Gxm70Xf/Z4/dTr/Dei7az6UMJOcSuIw+u73/CnT+U/lmZOvx9lXs5X1Z57P9I/YDwocYE3l+QM532Z0bxHfsWG2P3J+CHliqnqP30RMBnYiT25M5bb3XczmWC1QxNyaH+i2SEWFs6beN0Uno9nPo9DwOnphxoCKbU5oPzsXvfB7PtTpfGrRCydydd5TLr5kp6MXfs+HMp3PVA5K5/sDJbYuZ03l4I3cG3xBs71cMMZ+iNzbg3PHqybrX90iA7Nx7tbE0YZKza0Mp86TISj9kH2owNCWPslD7ayTt2QD+9kTPJM8/P38lD/mTonDVHLfeVM6y3DqnPE4195fJ4IvpH1nv7w4OderZxQcG9U9Zjj1nIK9Sf5eclcMp57vXsSoyLxzGHuUArHdiqICc1NZuhceffy7/AIrBAIuBD2yY/0PUEsBAhQDFAAAAAgAUCZuU3KwkRHuEwAAYBsAACUAAAAAAAAAAAAAAIABAAAAAGRhdGEvMDNiMjkxZDFlMzg5YzU3YTFhYTI1N2ZhNjkzYzdhM2VQSwUGAAAAAAEAAQBTAAAAMRQAAAAA\",\"2ebda7d3c6c3627ba233a85b7027cd58\":\"UEsDBBQAAAAIAFAmblOBkDoDkwEAAAAEAAAlAAAAZGF0YS8yZWJkYTdkM2M2YzM2MjdiYTIzM2E4NWI3MDI3Y2Q1OHXTb0SdYRgH4E5/VllpSibJJBlJTERGJEZEjIgYETEiYmxEjIjYh4gYETEiYiJiIjISmUgmySRNaqo5Z53O2TXd077M6/r2vs9z37+fN5uTk83+lSCXPAoopJgSyiinkipqqKWeBppoppU2Ouikmx766GeQIUZ4wxjjTDLFDLPMs8ASy6yyxgabbLPDHvsccsQJp5xzwRVJUlyT5obMrUz2zg1pfpHkJ5f84IzvHPONA76yyxe2+Mw6n1jhI4t8YI73TPOOCd4yyiuGeckAL+jlOV08o52ntPCERh5TxyOqeUgFDyjlPkXcI588Evz/ScRb+fFVUZxSGqdWxC3VcWtdTNEYU7XElO0xdVds0RtbDcSWw7H1aKQwEalMR0pzkdpipLgSqa5HyluR+m60cBCtHEdLZ9HaZbSYilbT0fI/rWeyt25Ic02KJFdccM4pJxxxyD577LDNJhusscoySywwzywzTDHJOGO8ZoQhBumnjx666aSDNlpppokG6qmlhioqKaeMEooppIA8cknc/e5//AZQSwECFAMUAAAACABQJm5TgZA6A5MBAAAABAAAJQAAAAAAAAAAAAAAgAEAAAAAZGF0YS8yZWJkYTdkM2M2YzM2MjdiYTIzM2E4NWI3MDI3Y2Q1OFBLBQYAAAAAAQABAFMAAADWAQAAAAA=\",\"4cb1859df07f2f5b8ed1cf8385065391\":\"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\",\"6751fa2002875ada852528afa5c3b0d0\":\"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\",\"ce52d598102e2756143cf4f27a0b5911\":\"UEsDBBQAAAAIAFAmblOE1+BQMwMAAAAEAAAlAAAAZGF0YS9jZTUyZDU5ODEwMmUyNzU2MTQzY2Y0ZjI3YTBiNTkxMS3DCUzVBRzA8VWr1Wq1WjVAfI/HfQnIfcvx3vs/wiMUBAS55BC57/uWx/He/59ZZllmWWZZZllmWWpRappXeKAIAga4ttbW2lpra99+bX62j/G+dIz3Z2B8IBPTg1mYHtqA6eEczI/kYn40D/Nj+ZgfL0R5ogjlyU0oT5WgPF2K8kwZyrPlKA5bsDhWYHGqxOJcjWVpDRZdLRaXOiyGeiyuDVjcGlE8mlA8m1G8WlC8W1F821D82lH8OzAv68QcKIO6MC/vxhTcgylUhvViCu/DGCGj+kmOHiA5RsZuJSlOxg+SlDBIYqKVxCQrCclDJBiHWGGSyjDxFpkyQtxzMlWuHCF21Sixq0eJeV6mjRK91kb0OhtR6TLDRuR6mWknIktm2wnfIHPshOXKjXZC81RC81VCCmShSnCR3KSyvFiWyFKVoDK5WSWwXG5RCajQCKiUVRrLqmWNhn+trJP1Gn4NslHDt0k2yxYNn1bZpuHdfm+Hhlen7JLdGp49slf2aXj0ywEV961yUFpV3IbksBxRcf3/qLSpGOxStWPQ7Li8ILfJF+3ot8uXbOhfljvkKzZ0O0fRvSpfu3fXCLrX5Rty9zC6N+Ue+dYQ+rflXiv6d6y4vDuIy75BDO/J/VtxlW7vD+D2QT/uB/rx+LAPz4/68DrYi/fHPfgc6sH3k278Pu3CXwYc7iTwsw6CPm8n+Eg7IV+0EXa0lfAvW4j8qpkoGXOsibivG4n/poGE4/UknajDeKIW08kalG+rSfmuitSxSlaNVbDm+3LSftjMulNlZJwuJfN0Cdlnisn5sYi8s4UUnC2g6Fw+xT9tpOx8LuXnc6i4kE3VxSxqL66n/lIGjZfTabm8lraf0+gcX0P3+Gr6rqxk4Eoq1qspDF9TsF0zo143su16MtsnEtkxsYKdN+LZdSOW3Tej2XMzkr2TEeybDGP/rRAO3Arm4FQQh6YCODztz5FpP45O+3DsthfHb3tycsadsRlXTs0YODOr59ysjguzS7k058z43BKuzjkxcceRyTsOTMmZXxyYk/Py7rwjv8rf5p34fWEJfyw48+eCjr8W9fy9aOCfRVf+vevOf1BLAQIUAxQAAAAIAFAmblOE1+BQMwMAAAAEAAAlAAAAAAAAAAAAAACAAQAAAABkYXRhL2NlNTJkNTk4MTAyZTI3NTYxNDNjZjRmMjdhMGI1OTExUEsFBgAAAAABAAEAUwAAAHYDAAAAAA==\",\"e3036b3062eaa47a27195e589f7709c1\":\"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\"},\"axes\":{\"id\":\"1080\"},\"color_mappers\":[{\"id\":\"1079\"}],\"height\":480,\"margin\":[5,5,5,5],\"orientation_widget\":true,\"scene\":{\"calls\":[[\"addRenderer\",[\"instance:${74185412-bf07-41de-ada3-1d32d01ef0df000000002f6e02f0}\"]],[\"addRenderer\",[\"instance:${74185412-bf07-41de-ada3-1d32d01ef0df000000002f854810}\"]],[\"addRenderer\",[\"instance:${74185412-bf07-41de-ada3-1d32d01ef0df000000002f923df0}\"]]],\"dependencies\":[{\"calls\":[[\"setActiveCamera\",[\"instance:${000000002d1ce200}\"]],[\"addViewProp\",[\"instance:${74185412-bf07-41de-ada3-1d32d01ef0df000000002d6aa620}\"]],[\"addViewProp\",[\"instance:${74185412-bf07-41de-ada3-1d32d01ef0df000000002f876800}\"]]],\"dependencies\":[{\"id\":\"000000002d1ce200\",\"parent\":\"74185412-bf07-41de-ada3-1d32d01ef0df000000002f6e02f0\",\"properties\":{\"clippingRange\":[229.28679141993484,333.5295686209784],\"focalPoint\":[25.71083272736869,20.000000000000004,44.24633129827382],\"position\":[25.71083272736869,-255.14272946857278,44.24633129827382],\"viewUp\":[0.0,0.0,1.0]},\"type\":\"vtkOpenGLCamera\"},{\"calls\":[[\"setMapper\",[\"instance:${74185412-bf07-41de-ada3-1d32d01ef0df000000002f8a50c0}\"]],[\"setProperty\",[\"instance:${74185412-bf07-41de-ada3-1d32d01ef0df000000002cca5a30}\"]]],\"dependencies\":[{\"calls\":[[\"setInputData\",[\"instance:${74185412-bf07-41de-ada3-1d32d01ef0df000000002f8a50c0-dataset-0}\",0]],[\"setLookupTable\",[\"instance:${74185412-bf07-41de-ada3-1d32d01ef0df000000002f49df80}\"]]],\"dependencies\":[{\"id\":\"74185412-bf07-41de-ada3-1d32d01ef0df000000002f8a50c0-dataset-0\",\"parent\":\"74185412-bf07-41de-ada3-1d32d01ef0df000000002f8a50c0\",\"properties\":{\"fields\":[],\"points\":{\"dataType\":\"Float64Array\",\"hash\":\"e3036b3062eaa47a27195e589f7709c1\",\"name\":\"Points\",\"numberOfComponents\":3,\"ranges\":[{\"component\":null,\"max\":68.94399988070802,\"min\":-25.71150438746157},{\"component\":null,\"max\":40.0,\"min\":0.0},{\"component\":null,\"max\":88.49266259654765,\"min\":0.0},{\"component\":null,\"max\":106.30145812734648,\"min\":0.0}],\"size\":876,\"vtkClass\":\"vtkPoints\"},\"polys\":{\"dataType\":\"Uint32Array\",\"hash\":\"4cb1859df07f2f5b8ed1cf8385065391\",\"name\":null,\"numberOfComponents\":1,\"ranges\":[{\"component\":null,\"max\":291.0,\"min\":0.0}],\"size\":1450,\"vtkClass\":\"vtkCellArray\"}},\"type\":\"vtkPolyData\"},{\"arrays\":[{\"dataType\":\"Uint8Array\",\"hash\":\"2ebda7d3c6c3627ba233a85b7027cd58\",\"name\":null,\"numberOfComponents\":4,\"ranges\":[{\"component\":null,\"max\":255.0,\"min\":0.0},{\"component\":null,\"max\":255.0,\"min\":0.0},{\"component\":null,\"max\":255.0,\"min\":0.0},{\"component\":null,\"max\":255.0,\"min\":255.0},{\"component\":null,\"max\":441.0963613542964,\"min\":360.62445840513925}],\"registration\":\"setTable\",\"size\":1024,\"vtkClass\":\"vtkDataArray\"}],\"id\":\"74185412-bf07-41de-ada3-1d32d01ef0df000000002f49df80\",\"parent\":\"74185412-bf07-41de-ada3-1d32d01ef0df000000002f8a50c0\",\"properties\":{\"aboveRangeColor\":[1.0,1.0,1.0,1.0],\"alpha\":1.0,\"belowRangeColor\":[0.0,0.0,0.0,1.0],\"hueRange\":[0.5,0],\"indexedLookup\":0,\"nanColor\":[0.5,0.0,0.0,1.0],\"numberOfColors\":256,\"range\":[0.0,1.0],\"saturationRange\":[1.0,1.0],\"useAboveRangeColor\":false,\"useBelowRangeColor\":false,\"valueRange\":[0.0,1.0],\"vectorComponent\":0,\"vectorMode\":1,\"vectorSize\":-1},\"type\":\"vtkLookupTable\"}],\"id\":\"74185412-bf07-41de-ada3-1d32d01ef0df000000002f8a50c0\",\"parent\":\"74185412-bf07-41de-ada3-1d32d01ef0df000000002d6aa620\",\"properties\":{\"arrayAccessMode\":1,\"colorByArrayName\":null,\"colorMode\":0,\"interpolateScalarsBeforeMapping\":1,\"renderTime\":0.0,\"resolveCoincidentTopology\":0,\"scalarMode\":5,\"scalarRange\":[0.0,1.0],\"scalarVisibility\":1,\"useLookupTableScalarRange\":0},\"type\":\"vtkDataSetMapper\"},{\"id\":\"74185412-bf07-41de-ada3-1d32d01ef0df000000002cca5a30\",\"parent\":\"74185412-bf07-41de-ada3-1d32d01ef0df000000002d6aa620\",\"properties\":{\"ambient\":0.0,\"ambientColor\":[0.0,0.0,0.0],\"backfaceCulling\":0,\"color\":[0.0,0.0,0.0],\"diffuse\":1.0,\"diffuseColor\":[0.0,0.0,0.0],\"edgeColor\":[0.0,0.0,0.0],\"edgeVisibility\":0,\"frontfaceCulling\":0,\"interpolation\":0,\"lighting\":1,\"lineWidth\":1.0,\"opacity\":1.0,\"pointSize\":5.0,\"representation\":1,\"specular\":0.0,\"specularColor\":[0.0,0.0,0.0],\"specularPower\":100.0},\"type\":\"vtkOpenGLProperty\"}],\"id\":\"74185412-bf07-41de-ada3-1d32d01ef0df000000002d6aa620\",\"parent\":\"74185412-bf07-41de-ada3-1d32d01ef0df000000002f6e02f0\",\"properties\":{\"dragable\":1,\"forceOpaque\":false,\"forceTranslucent\":false,\"orientation\":[0.0,-0.0,0.0],\"origin\":[0.0,0.0,0.0],\"pickable\":1,\"position\":[0.0,0.0,0.0],\"scale\":[1.0,1.0,1.0],\"useBounds\":true,\"visibility\":1},\"type\":\"vtkOpenGLActor\"},{\"calls\":[[\"setMapper\",[\"instance:${74185412-bf07-41de-ada3-1d32d01ef0df000000002f6dccc0}\"]],[\"setProperty\",[\"instance:${74185412-bf07-41de-ada3-1d32d01ef0df000000002f80dd60}\"]]],\"dependencies\":[{\"calls\":[[\"setInputData\",[\"instance:${74185412-bf07-41de-ada3-1d32d01ef0df000000002f6dccc0-dataset-0}\",0]],[\"setLookupTable\",[\"instance:${74185412-bf07-41de-ada3-1d32d01ef0df000000002f6dc940}\"]]],\"dependencies\":[{\"id\":\"74185412-bf07-41de-ada3-1d32d01ef0df000000002f6dccc0-dataset-0\",\"parent\":\"74185412-bf07-41de-ada3-1d32d01ef0df000000002f6dccc0\",\"properties\":{\"fields\":[{\"dataType\":\"Float64Array\",\"hash\":\"6751fa2002875ada852528afa5c3b0d0\",\"location\":\"pointData\",\"name\":\"u-normed\",\"numberOfComponents\":1,\"ranges\":[{\"component\":null,\"max\":17.16589175169592,\"min\":3.859731368986837e-17}],\"registration\":\"setScalars\",\"size\":292,\"vtkClass\":\"vtkDataArray\"}],\"points\":{\"dataType\":\"Float64Array\",\"hash\":\"03b291d1e389c57a1aa257fa693c7a3e\",\"name\":\"Points\",\"numberOfComponents\":3,\"ranges\":[{\"component\":null,\"max\":77.13316984219895,\"min\":-25.71150438746157},{\"component\":null,\"max\":41.660558167815196,\"min\":-1.6605581678151906},{\"component\":null,\"max\":70.8660804194772,\"min\":-3.63752888179276e-18},{\"component\":null,\"max\":102.06475596633682,\"min\":1.61064139575502e-16}],\"size\":876,\"vtkClass\":\"vtkPoints\"},\"polys\":{\"dataType\":\"Uint32Array\",\"hash\":\"4cb1859df07f2f5b8ed1cf8385065391\",\"name\":null,\"numberOfComponents\":1,\"ranges\":[{\"component\":null,\"max\":291.0,\"min\":0.0}],\"size\":1450,\"vtkClass\":\"vtkCellArray\"}},\"type\":\"vtkPolyData\"},{\"arrays\":[{\"dataType\":\"Uint8Array\",\"hash\":\"ce52d598102e2756143cf4f27a0b5911\",\"name\":null,\"numberOfComponents\":4,\"ranges\":[{\"component\":null,\"max\":253.0,\"min\":30.0},{\"component\":null,\"max\":231.0,\"min\":1.0},{\"component\":null,\"max\":142.0,\"min\":24.0},{\"component\":null,\"max\":255.0,\"min\":255.0},{\"component\":null,\"max\":428.5918804643877,\"min\":276.95848064285735}],\"registration\":\"setTable\",\"size\":1024,\"vtkClass\":\"vtkDataArray\"}],\"id\":\"74185412-bf07-41de-ada3-1d32d01ef0df000000002f6dc940\",\"parent\":\"74185412-bf07-41de-ada3-1d32d01ef0df000000002f6dccc0\",\"properties\":{\"aboveRangeColor\":[1.0,1.0,1.0,1.0],\"alpha\":1.0,\"belowRangeColor\":[0.0,0.0,0.0,1.0],\"hueRange\":[0.5,0],\"indexedLookup\":0,\"nanColor\":[0.6627450980392157,0.6627450980392157,0.6627450980392157,1.0],\"numberOfColors\":256,\"range\":[3.859731368986837e-17,17.16589175169592],\"saturationRange\":[1.0,1.0],\"useAboveRangeColor\":false,\"useBelowRangeColor\":false,\"valueRange\":[3.859731368986837e-17,17.16589175169592],\"vectorComponent\":0,\"vectorMode\":1,\"vectorSize\":-1},\"type\":\"vtkLookupTable\"}],\"id\":\"74185412-bf07-41de-ada3-1d32d01ef0df000000002f6dccc0\",\"parent\":\"74185412-bf07-41de-ada3-1d32d01ef0df000000002f876800\",\"properties\":{\"arrayAccessMode\":1,\"colorByArrayName\":null,\"colorMode\":1,\"interpolateScalarsBeforeMapping\":1,\"renderTime\":0.0,\"resolveCoincidentTopology\":0,\"scalarMode\":1,\"scalarRange\":[3.859731368986837e-17,17.16589175169592],\"scalarVisibility\":1,\"useLookupTableScalarRange\":0},\"type\":\"vtkDataSetMapper\"},{\"id\":\"74185412-bf07-41de-ada3-1d32d01ef0df000000002f80dd60\",\"parent\":\"74185412-bf07-41de-ada3-1d32d01ef0df000000002f876800\",\"properties\":{\"ambient\":0.0,\"ambientColor\":[1.0,1.0,1.0],\"backfaceCulling\":0,\"color\":[1.0,1.0,1.0],\"diffuse\":1.0,\"diffuseColor\":[1.0,1.0,1.0],\"edgeColor\":[0.0,0.0,0.0],\"edgeVisibility\":0,\"frontfaceCulling\":0,\"interpolation\":0,\"lighting\":1,\"lineWidth\":1.0,\"opacity\":1.0,\"pointSize\":5.0,\"representation\":2,\"specular\":0.0,\"specularColor\":[1.0,1.0,1.0],\"specularPower\":100.0},\"type\":\"vtkOpenGLProperty\"}],\"id\":\"74185412-bf07-41de-ada3-1d32d01ef0df000000002f876800\",\"parent\":\"74185412-bf07-41de-ada3-1d32d01ef0df000000002f6e02f0\",\"properties\":{\"dragable\":1,\"forceOpaque\":false,\"forceTranslucent\":false,\"orientation\":[0.0,-0.0,0.0],\"origin\":[0.0,0.0,0.0],\"pickable\":1,\"position\":[0.0,0.0,0.0],\"scale\":[1.0,1.0,1.0],\"useBounds\":true,\"visibility\":1},\"type\":\"vtkOpenGLActor\"}],\"id\":\"74185412-bf07-41de-ada3-1d32d01ef0df000000002f6e02f0\",\"parent\":\"74185412-bf07-41de-ada3-1d32d01ef0df000000002a8c3100\",\"properties\":{\"background\":[0.3,0.3,0.3],\"background2\":[0.2,0.2,0.2],\"clippingRangeExpansion\":0.5,\"interactive\":1,\"layer\":0,\"lightFollowCamera\":1,\"maximumNumberOfPeels\":4,\"nearClippingPlaneTolerance\":0.001,\"occlusionRatio\":0.0,\"preserveColorBuffer\":0,\"preserveDepthBuffer\":0,\"twoSidedLighting\":1,\"useDepthPeeling\":0,\"useShadows\":0,\"viewport\":[0.0,0.0,1.0,1.0]},\"type\":\"vtkOpenGLRenderer\"},{\"calls\":[[\"setActiveCamera\",[\"instance:${000000002d1d3730}\"]]],\"dependencies\":[{\"id\":\"000000002d1d3730\",\"parent\":\"74185412-bf07-41de-ada3-1d32d01ef0df000000002f854810\",\"properties\":{\"clippingRange\":[0.01,1000.01],\"focalPoint\":[0.0,0.0,0.0],\"position\":[0.0,0.0,1.0],\"viewUp\":[0.0,1.0,0.0]},\"type\":\"vtkOpenGLCamera\"}],\"id\":\"74185412-bf07-41de-ada3-1d32d01ef0df000000002f854810\",\"parent\":\"74185412-bf07-41de-ada3-1d32d01ef0df000000002a8c3100\",\"properties\":{\"background\":[0.3,0.3,0.3],\"background2\":[0.2,0.2,0.2],\"clippingRangeExpansion\":0.5,\"interactive\":0,\"layer\":1,\"lightFollowCamera\":1,\"maximumNumberOfPeels\":4,\"nearClippingPlaneTolerance\":0.0,\"occlusionRatio\":0.0,\"preserveColorBuffer\":1,\"preserveDepthBuffer\":0,\"twoSidedLighting\":1,\"useDepthPeeling\":0,\"useShadows\":0,\"viewport\":[0.0,0.0,1.0,1.0]},\"type\":\"vtkOpenGLRenderer\"},{\"calls\":[[\"setActiveCamera\",[\"instance:${000000002ae9df80}\"]]],\"dependencies\":[{\"id\":\"000000002ae9df80\",\"parent\":\"74185412-bf07-41de-ada3-1d32d01ef0df000000002f923df0\",\"properties\":{\"clippingRange\":[4.6352091256034385,9.297512386351],\"focalPoint\":[0.0,0.0,0.0],\"position\":[0.0,-6.6921304299024635,0.0],\"viewUp\":[0.0,0.0,1.0]},\"type\":\"vtkOpenGLCamera\"}],\"id\":\"74185412-bf07-41de-ada3-1d32d01ef0df000000002f923df0\",\"parent\":\"74185412-bf07-41de-ada3-1d32d01ef0df000000002a8c3100\",\"properties\":{\"background\":[0.0,0.0,0.0],\"background2\":[0.2,0.2,0.2],\"clippingRangeExpansion\":0.5,\"interactive\":0,\"layer\":1,\"lightFollowCamera\":1,\"maximumNumberOfPeels\":4,\"nearClippingPlaneTolerance\":0.001,\"occlusionRatio\":0.0,\"preserveColorBuffer\":1,\"preserveDepthBuffer\":0,\"twoSidedLighting\":1,\"useDepthPeeling\":0,\"useShadows\":0,\"viewport\":[0.0,0.0,0.2,0.2]},\"type\":\"vtkOpenGLRenderer\"}],\"id\":\"74185412-bf07-41de-ada3-1d32d01ef0df000000002a8c3100\",\"mtime\":486385,\"parent\":\"74185412-bf07-41de-ada3-1d32d01ef0df0x0\",\"properties\":{\"numberOfLayers\":2},\"type\":\"vtkXOpenGLRenderWindow\"},\"sizing_mode\":\"stretch_width\",\"width\":960},\"id\":\"1081\",\"type\":\"panel.models.vtk.VTKSynchronizedPlot\"},{\"attributes\":{},\"id\":\"1080\",\"type\":\"panel.models.vtk.VTKAxes\"}],\"root_ids\":[\"1081\",\"1082\"]},\"title\":\"Bokeh Application\",\"version\":\"2.4.1\"}};\n",
       "    var render_items = [{\"docid\":\"1e9424e2-2f95-4def-924f-05837c23de0b\",\"root_ids\":[\"1081\"],\"roots\":{\"1081\":\"47a00b70-0ac8-40a0-95fc-032d48d07a58\"}}];\n",
       "    root.Bokeh.embed.embed_items_notebook(docs_json, render_items);\n",
       "  }\n",
       "  if (root.Bokeh !== undefined && root.Bokeh.Panel !== undefined && ( root['vtk'] !== undefined)) {\n",
       "    embed_document(root);\n",
       "  } else {\n",
       "    var attempts = 0;\n",
       "    var timer = setInterval(function(root) {\n",
       "      if (root.Bokeh !== undefined && root.Bokeh.Panel !== undefined && (root['vtk'] !== undefined)) {\n",
       "        clearInterval(timer);\n",
       "        embed_document(root);\n",
       "      } else if (document.readyState == \"complete\") {\n",
       "        attempts++;\n",
       "        if (attempts > 200) {\n",
       "          clearInterval(timer);\n",
       "          console.log(\"Bokeh: ERROR: Unable to run BokehJS code because BokehJS library is missing\");\n",
       "        }\n",
       "      }\n",
       "    }, 25, root)\n",
       "  }\n",
       "})(window);</script>"
      ],
      "text/plain": [
       "VTKRenderWindowSynchronized(vtkXOpenGLRenderWindow, color_mappers=[LinearColorMapper(id='107...], height=480, orientation_widget=True, sizing_mode='stretch_width', width=960)"
      ]
     },
     "execution_count": 81,
     "metadata": {
      "application/vnd.holoviews_exec.v0+json": {
       "id": "1081"
      }
     },
     "output_type": "execute_result"
    }
   ],
   "source": [
    "plot_deformation(u, mesh, rot_y, rot_x, title='Optimal Design  a Different Model or Prior')"
   ]
  },
  {
   "cell_type": "code",
   "execution_count": null,
   "id": "350943a1-fa6b-4733-88c3-509f1b5a70cf",
   "metadata": {},
   "outputs": [],
   "source": []
  }
 ],
 "metadata": {
  "kernelspec": {
   "display_name": "Python 3 (ipykernel)",
   "language": "python",
   "name": "python3"
  },
  "language_info": {
   "codemirror_mode": {
    "name": "ipython",
    "version": 3
   },
   "file_extension": ".py",
   "mimetype": "text/x-python",
   "name": "python",
   "nbconvert_exporter": "python",
   "pygments_lexer": "ipython3",
   "version": "3.9.5"
  }
 },
 "nbformat": 4,
 "nbformat_minor": 5
}
