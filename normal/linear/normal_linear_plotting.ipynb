{
 "cells": [
  {
   "cell_type": "code",
   "execution_count": 1,
   "id": "5f347a48-7cc7-494b-afda-458451d0d166",
   "metadata": {},
   "outputs": [],
   "source": [
    "!pip install pyvista panel -q\n",
    "!pip install -q piglet pyvirtualdisplay"
   ]
  },
  {
   "cell_type": "code",
   "execution_count": 1,
   "id": "2d628ea0",
   "metadata": {},
   "outputs": [],
   "source": [
    "import dolfinx\n",
    "import dolfinx.plot\n",
    "import numpy as np\n",
    "import ufl\n",
    "from petsc4py import PETSc\n",
    "from mpi4py import MPI\n",
    "from math import pi, sin, cos\n",
    "import pyvista"
   ]
  },
  {
   "cell_type": "code",
   "execution_count": 34,
   "id": "c784370f-4bd3-4a04-bfde-07c46848c7d7",
   "metadata": {
    "tags": []
   },
   "outputs": [],
   "source": [
    "MAX_SUBSTEP = 10\n",
    "SUBSTEP_DIV = 100\n",
    "\n",
    "G_DIRECTION = (1,0,0)\n",
    "\n",
    "# Function which performs loading for a particular set of parameters:\n",
    "def perform_loading(L, W, NL, NW, E, kappa, y_rot, x_rot, nu, rho, g, num_steps, rtol=1e-4, atol=1e-4, max_it=10):\n",
    "    \n",
    "    mesh = create_mesh(L, W, NL, NW)\n",
    "    V = dolfinx.VectorFunctionSpace(mesh, (\"CG\", el_order))\n",
    "\n",
    "    bcs = create_bcs(mesh, V)\n",
    "    \n",
    "    # Compute Lame parameters:\n",
    "    mu = dolfinx.Constant(mesh, E/(2*(1 + nu)))\n",
    "\n",
    "    # Compute new body force:\n",
    "    B = dolfinx.Constant(mesh, (0,0,0))\n",
    "    v = ufl.TestFunction(V)\n",
    "    u = dolfinx.Function(V)\n",
    "    d = len(u)\n",
    "    I = ufl.variable(ufl.Identity(d))\n",
    "    F = ufl.variable(I + ufl.grad(u))\n",
    "    C = ufl.variable(F.T * F)\n",
    "    J = ufl.variable(ufl.det(F))\n",
    "    Ic = ufl.variable(ufl.tr(C))\n",
    "\n",
    "    # Stored strain energy density (compressible neo-Hookean model)\n",
    "    psi = (mu/2)*(Ic-3) + kappa/2*(J-1)**2\n",
    "    # Hyper-elasticity\n",
    "    P = ufl.diff(psi, F)\n",
    "    \n",
    "    metadata = {\"quadrature_degree\": 4}\n",
    "    dx = ufl.Measure(\"dx\", metadata=metadata)\n",
    "\n",
    "    # Define form F (we want to find u such that F(u) = 0)\n",
    "    F = ufl.inner(ufl.grad(v), P)*dx - ufl.inner(v, B)*dx\n",
    "    \n",
    "    # Delete cache of previous models:\n",
    "    !rm -r /root/.cache/fenics/*\n",
    "    \n",
    "    problem = dolfinx.fem.NonlinearProblem(F, u, bcs)\n",
    "    solver = dolfinx.NewtonSolver(MPI.COMM_WORLD, problem)\n",
    "    solver.rtol = rtol\n",
    "    solver.atol = atol\n",
    "    solver.max_it = max_it\n",
    "    \n",
    "    g_vector = rho*g*np.array(G_DIRECTION)\n",
    "    g_vector = rotate_gravity(g_vector, y_rot, x_rot)\n",
    "    f_step = g_vector/num_steps\n",
    "    for n in range(num_steps):\n",
    "        print(f\"Performing load step {n+1}/{num_steps}\")\n",
    "        for i, f_i in enumerate(f_step):\n",
    "            B.value[i] = (n+1)*f_i\n",
    "        num_its, converged = solver.solve(u)\n",
    "        assert(converged)\n",
    "        u.vector.ghostUpdate(addv=PETSc.InsertMode.INSERT, mode=PETSc.ScatterMode.FORWARD)\n",
    "    volumes = compute_volume(u, mesh)\n",
    "    return (u, mesh, volumes)"
   ]
  },
  {
   "cell_type": "code",
   "execution_count": 30,
   "id": "bb6bdf44-8ea3-4b19-a317-ffc5be1e708a",
   "metadata": {},
   "outputs": [],
   "source": [
    "def create_mesh(L, W, NL, NW):\n",
    "    mesh = dolfinx.BoxMesh(MPI.COMM_WORLD,[[0.0,0.0,0.0], [L, W, W]], [NL, NW, NW], dolfinx.cpp.mesh.CellType.hexahedron)\n",
    "    return mesh"
   ]
  },
  {
   "cell_type": "code",
   "execution_count": 22,
   "id": "33b0ab01-cdc0-4436-908e-0dd029300305",
   "metadata": {},
   "outputs": [],
   "source": [
    "def create_bcs(mesh, V):\n",
    "    fixed = lambda x: np.isclose(x[0], 0)\n",
    "    fixed_facets = dolfinx.mesh.locate_entities_boundary(mesh, mesh.topology.dim - 1, fixed)\n",
    "    facet_tag = dolfinx.MeshTags(mesh, mesh.topology.dim-1, fixed_facets, 1)\n",
    "    u_bc = dolfinx.Function(V)\n",
    "    with u_bc.vector.localForm() as loc:\n",
    "        loc.set(0)\n",
    "    left_dofs = dolfinx.fem.locate_dofs_topological(V, facet_tag.dim, facet_tag.indices[facet_tag.values==1])\n",
    "    bcs = [dolfinx.DirichletBC(u_bc, left_dofs)]\n",
    "    return bcs"
   ]
  },
  {
   "cell_type": "code",
   "execution_count": 24,
   "id": "82aaed67-6c43-4f17-9508-e8a1d9a74a72",
   "metadata": {},
   "outputs": [],
   "source": [
    "# Using Euler angles - see https://www.autonomousrobotslab.com/frame-rotations-and-representations.html\n",
    "# Here, y_rot = theta, x_rot = psi\n",
    "ANGLE_TO_RAD = pi/180\n",
    "\n",
    "def rotate_gravity(g_vector, y_rot, x_rot):\n",
    "    rot_matrix = create_rot_matrix(y_rot, x_rot)\n",
    "    rotated_g = rot_matrix @ g_vector\n",
    "    return rotated_g\n",
    "\n",
    "def create_rot_matrix(y_rot, x_rot):\n",
    "    # NB: Negative associated with y so increasing y_rot goesin 'right direction'\n",
    "    theta, psi = ANGLE_TO_RAD*y_rot, ANGLE_TO_RAD*x_rot\n",
    "    theta, psi = -ANGLE_TO_RAD*y_rot, ANGLE_TO_RAD*x_rot\n",
    "    rot_matrix = np.array([[         cos(theta),        0,          -sin(theta)],\n",
    "                           [sin(psi)*sin(theta),  cos(psi), sin(psi)*cos(theta)],\n",
    "                           [cos(psi)*sin(theta), -sin(psi), cos(psi)*cos(theta)]])\n",
    "    return rot_matrix\n",
    "\n",
    "def rotate_mesh(points, u, y_rot, x_rot):\n",
    "    rot_matrix = create_rot_matrix(y_rot, x_rot)\n",
    "    rotated_points = (rot_matrix @ points.T).T\n",
    "    rotated_u = (rot_matrix @ u.T).T\n",
    "    return (rotated_points, rotated_u)"
   ]
  },
  {
   "cell_type": "code",
   "execution_count": 25,
   "id": "a50d980c-78de-4c5a-9494-dd66fbc9f3c2",
   "metadata": {},
   "outputs": [],
   "source": [
    "def compute_volume(u, mesh, quad_order=4):\n",
    "    before_vol, after_vol = [], []\n",
    "    ndim = mesh.geometry.x.shape[1]\n",
    "    I = ufl.Identity(ndim)\n",
    "    dx = ufl.Measure(\"dx\", domain=mesh, metadata={\"quadrature_degree\": quad_order})\n",
    "    const_funspace = dolfinx.VectorFunctionSpace(mesh, (\"DG\", 0), dim=1)\n",
    "    const_fun = dolfinx.Function(const_funspace)\n",
    "    const_fun.vector[:] = np.ones(const_fun.vector[:].shape)\n",
    "    ufl.inner(const_fun,const_fun)\n",
    "    before_vol.append(dolfinx.fem.assemble.assemble_scalar(ufl.inner(const_fun,const_fun)*dx))\n",
    "    F = I + ufl.grad(u)\n",
    "    after_vol.append(dolfinx.fem.assemble.assemble_scalar(ufl.det(F)*dx))\n",
    "    return (before_vol, after_vol)"
   ]
  },
  {
   "cell_type": "code",
   "execution_count": 26,
   "id": "fc9329c3-bf61-4b0d-acca-44cf74b3c510",
   "metadata": {},
   "outputs": [],
   "source": [
    "def plot_deformation(uh, meshio_mesh, rot_y, rot_x):\n",
    "    mesh = meshio_mesh\n",
    "    pyvista.start_xvfb(wait=0.05)\n",
    "    topology, cell_types = dolfinx.plot.create_vtk_topology(mesh, mesh.topology.dim)\n",
    "    points, u = mesh.geometry.x, uh.compute_point_values().real\n",
    "    points, u = rotate_mesh(points, u, rot_y-90, -rot_x)\n",
    "    grid = pyvista.UnstructuredGrid(topology, cell_types, points)\n",
    "    p = pyvista.Plotter(notebook=True, window_size=[960,480]) #\n",
    "    \n",
    "    p.add_text(\"Deformed configuration\", name=\"title\", position=\"upper_edge\")\n",
    "    \n",
    "    grid[\"u\"] = u\n",
    "    actor_0 = p.add_mesh(grid, style=\"wireframe\", color=\"k\")\n",
    "    warped = grid.warp_by_vector(\"u\", factor=1.5)\n",
    "    actor_1 = p.add_mesh(warped)\n",
    "    \n",
    "    p.show_axes()\n",
    "    viewer = p.show(jupyter_backend='panel', return_viewer=True)\n",
    "    return viewer"
   ]
  },
  {
   "cell_type": "code",
   "execution_count": 35,
   "id": "e55c2e30-b581-4e89-8107-7a00cefcac26",
   "metadata": {
    "tags": []
   },
   "outputs": [
    {
     "name": "stdout",
     "output_type": "stream",
     "text": [
      "Performing load step 1/50\n",
      "Performing load step 2/50\n",
      "Performing load step 3/50\n",
      "Performing load step 4/50\n",
      "Performing load step 5/50\n",
      "Performing load step 6/50\n",
      "Performing load step 7/50\n",
      "Performing load step 8/50\n",
      "Performing load step 9/50\n",
      "Performing load step 10/50\n",
      "Performing load step 11/50\n",
      "Performing load step 12/50\n",
      "Performing load step 13/50\n",
      "Performing load step 14/50\n",
      "Performing load step 15/50\n",
      "Performing load step 16/50\n",
      "Performing load step 17/50\n",
      "Performing load step 18/50\n",
      "Performing load step 19/50\n",
      "Performing load step 20/50\n",
      "Performing load step 21/50\n",
      "Performing load step 22/50\n",
      "Performing load step 23/50\n",
      "Performing load step 24/50\n",
      "Performing load step 25/50\n",
      "Performing load step 26/50\n",
      "Performing load step 27/50\n",
      "Performing load step 28/50\n",
      "Performing load step 29/50\n",
      "Performing load step 30/50\n",
      "Performing load step 31/50\n",
      "Performing load step 32/50\n",
      "Performing load step 33/50\n",
      "Performing load step 34/50\n",
      "Performing load step 35/50\n",
      "Performing load step 36/50\n",
      "Performing load step 37/50\n",
      "Performing load step 38/50\n",
      "Performing load step 39/50\n",
      "Performing load step 40/50\n",
      "Performing load step 41/50\n",
      "Performing load step 42/50\n",
      "Performing load step 43/50\n",
      "Performing load step 44/50\n",
      "Performing load step 45/50\n",
      "Performing load step 46/50\n",
      "Performing load step 47/50\n",
      "Performing load step 48/50\n",
      "Performing load step 49/50\n",
      "Performing load step 50/50\n"
     ]
    }
   ],
   "source": [
    "# Material constants:\n",
    "nu = 0.33 # dimensionless\n",
    "rho = 0.00102 # in g mm^-3\n",
    "g = 9.81 # in m s^-2\n",
    "\n",
    "# Beam dimensions:\n",
    "W = 40 # in mm\n",
    "L = 90 # in mm\n",
    "\n",
    "# FEM parameters:\n",
    "el_order = 2\n",
    "num_steps = 50\n",
    "\n",
    "# Store parameters in dictionary:\n",
    "fixed_params = {\"nu\":nu, \"rho\":rho, \"g\":g, \"el_order\":el_order, \"L\":L, \"W\":W, \"num_steps\":num_steps}\n",
    "\n",
    "# Define stiffness and beam angle to perform convergence study for:\n",
    "E = 10\n",
    "kappa = 1e3\n",
    "rot_y = 90\n",
    "rot_x = 45\n",
    "\n",
    "# Create results dictionary:\n",
    "NL, NW = 10, 10\n",
    "u, mesh, volumes = perform_loading(L, W, NL, NW, E, kappa, rot_y, rot_x, nu, rho, g, num_steps)"
   ]
  },
  {
   "cell_type": "code",
   "execution_count": 36,
   "id": "604afa00-b17f-49ba-843f-0a020f568635",
   "metadata": {},
   "outputs": [
    {
     "data": {},
     "metadata": {},
     "output_type": "display_data"
    },
    {
     "data": {
      "application/vnd.holoviews_exec.v0+json": "",
      "text/html": [
       "<div id='1017'>\n",
       "\n",
       "\n",
       "\n",
       "\n",
       "\n",
       "  <div class=\"bk-root\" id=\"224359c7-05d2-443a-8fd7-0327195b44bc\" data-root-id=\"1017\"></div>\n",
       "</div>\n",
       "<script type=\"application/javascript\">(function(root) {\n",
       "  function embed_document(root) {\n",
       "    var docs_json = {\"f3508fb2-daa2-4f61-9eaa-fecf3251e7f2\":{\"defs\":[{\"extends\":null,\"module\":null,\"name\":\"ReactiveHTML1\",\"overrides\":[],\"properties\":[]},{\"extends\":null,\"module\":null,\"name\":\"FlexBox1\",\"overrides\":[],\"properties\":[{\"default\":\"flex-start\",\"kind\":null,\"name\":\"align_content\"},{\"default\":\"flex-start\",\"kind\":null,\"name\":\"align_items\"},{\"default\":\"row\",\"kind\":null,\"name\":\"flex_direction\"},{\"default\":\"wrap\",\"kind\":null,\"name\":\"flex_wrap\"},{\"default\":\"flex-start\",\"kind\":null,\"name\":\"justify_content\"}]},{\"extends\":null,\"module\":null,\"name\":\"TemplateActions1\",\"overrides\":[],\"properties\":[{\"default\":0,\"kind\":null,\"name\":\"open_modal\"},{\"default\":0,\"kind\":null,\"name\":\"close_modal\"}]},{\"extends\":null,\"module\":null,\"name\":\"MaterialTemplateActions1\",\"overrides\":[],\"properties\":[{\"default\":0,\"kind\":null,\"name\":\"open_modal\"},{\"default\":0,\"kind\":null,\"name\":\"close_modal\"}]}],\"roots\":{\"references\":[{\"attributes\":{\"annotations\":[{\"LeftEdge\":null,\"LowerEdge\":null,\"LowerLeft\":null,\"LowerRight\":null,\"RightEdge\":null,\"UpperEdge\":\"Deformed configuration\",\"UpperLeft\":null,\"UpperRight\":null,\"color\":[1.0,1.0,1.0],\"fontFamily\":\"Arial\",\"fontSize\":18.0,\"id\":\"8fda562d-3e10-4a4a-aa55-8217b0575aa6000000000b624130\",\"viewport\":[0.0,0.0,1.0,1.0]}],\"arrays\":{\"17e9a831e0240a90efde3b9bbf51d1ce\":\"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\",\"2ebda7d3c6c3627ba233a85b7027cd58\":\"UEsDBBQAAAAIABQ/a1OBkDoDkwEAAAAEAAAlAAAAZGF0YS8yZWJkYTdkM2M2YzM2MjdiYTIzM2E4NWI3MDI3Y2Q1OHXTb0SdYRgH4E5/VllpSibJJBlJTERGJEZEjIgYETEiYmxEjIjYh4gYETEiYiJiIjISmUgmySRNaqo5Z53O2TXd077M6/r2vs9z37+fN5uTk83+lSCXPAoopJgSyiinkipqqKWeBppoppU2Ouikmx766GeQIUZ4wxjjTDLFDLPMs8ASy6yyxgabbLPDHvsccsQJp5xzwRVJUlyT5obMrUz2zg1pfpHkJ5f84IzvHPONA76yyxe2+Mw6n1jhI4t8YI73TPOOCd4yyiuGeckAL+jlOV08o52ntPCERh5TxyOqeUgFDyjlPkXcI588Evz/ScRb+fFVUZxSGqdWxC3VcWtdTNEYU7XElO0xdVds0RtbDcSWw7H1aKQwEalMR0pzkdpipLgSqa5HyluR+m60cBCtHEdLZ9HaZbSYilbT0fI/rWeyt25Ic02KJFdccM4pJxxxyD577LDNJhusscoySywwzywzTDHJOGO8ZoQhBumnjx666aSDNlpppokG6qmlhioqKaeMEooppIA8cknc/e5//AZQSwECFAMUAAAACAAUP2tTgZA6A5MBAAAABAAAJQAAAAAAAAAAAAAAgAEAAAAAZGF0YS8yZWJkYTdkM2M2YzM2MjdiYTIzM2E4NWI3MDI3Y2Q1OFBLBQYAAAAAAQABAFMAAADWAQAAAAA=\",\"2f00f57db39a1592e6a2609738c9ba3f\":\"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\",\"650a37ea29be9d130a578cb33ac9f6fe\":\"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\",\"ce52d598102e2756143cf4f27a0b5911\":\"UEsDBBQAAAAIABQ/a1OE1+BQMwMAAAAEAAAlAAAAZGF0YS9jZTUyZDU5ODEwMmUyNzU2MTQzY2Y0ZjI3YTBiNTkxMS3DCUzVBRzA8VWr1Wq1WjVAfI/HfQnIfcvx3vs/wiMUBAS55BC57/uWx/He/59ZZllmWWZZZllmWWpRappXeKAIAga4ttbW2lpra99+bX62j/G+dIz3Z2B8IBPTg1mYHtqA6eEczI/kYn40D/Nj+ZgfL0R5ogjlyU0oT5WgPF2K8kwZyrPlKA5bsDhWYHGqxOJcjWVpDRZdLRaXOiyGeiyuDVjcGlE8mlA8m1G8WlC8W1F821D82lH8OzAv68QcKIO6MC/vxhTcgylUhvViCu/DGCGj+kmOHiA5RsZuJSlOxg+SlDBIYqKVxCQrCclDJBiHWGGSyjDxFpkyQtxzMlWuHCF21Sixq0eJeV6mjRK91kb0OhtR6TLDRuR6mWknIktm2wnfIHPshOXKjXZC81RC81VCCmShSnCR3KSyvFiWyFKVoDK5WSWwXG5RCajQCKiUVRrLqmWNhn+trJP1Gn4NslHDt0k2yxYNn1bZpuHdfm+Hhlen7JLdGp49slf2aXj0ywEV961yUFpV3IbksBxRcf3/qLSpGOxStWPQ7Li8ILfJF+3ot8uXbOhfljvkKzZ0O0fRvSpfu3fXCLrX5Rty9zC6N+Ue+dYQ+rflXiv6d6y4vDuIy75BDO/J/VtxlW7vD+D2QT/uB/rx+LAPz4/68DrYi/fHPfgc6sH3k278Pu3CXwYc7iTwsw6CPm8n+Eg7IV+0EXa0lfAvW4j8qpkoGXOsibivG4n/poGE4/UknajDeKIW08kalG+rSfmuitSxSlaNVbDm+3LSftjMulNlZJwuJfN0Cdlnisn5sYi8s4UUnC2g6Fw+xT9tpOx8LuXnc6i4kE3VxSxqL66n/lIGjZfTabm8lraf0+gcX0P3+Gr6rqxk4Eoq1qspDF9TsF0zo143su16MtsnEtkxsYKdN+LZdSOW3Tej2XMzkr2TEeybDGP/rRAO3Arm4FQQh6YCODztz5FpP45O+3DsthfHb3tycsadsRlXTs0YODOr59ysjguzS7k058z43BKuzjkxcceRyTsOTMmZXxyYk/Py7rwjv8rf5p34fWEJfyw48+eCjr8W9fy9aOCfRVf+vevOf1BLAQIUAxQAAAAIABQ/a1OE1+BQMwMAAAAEAAAlAAAAAAAAAAAAAACAAQAAAABkYXRhL2NlNTJkNTk4MTAyZTI3NTYxNDNjZjRmMjdhMGI1OTExUEsFBgAAAAABAAEAUwAAAHYDAAAAAA==\",\"d5b1ce3723337853ac4c03a94aded4a7\":\"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\"},\"axes\":{\"id\":\"1016\"},\"color_mappers\":[{\"id\":\"1015\"}],\"height\":480,\"margin\":[5,5,5,5],\"orientation_widget\":true,\"scene\":{\"calls\":[[\"addRenderer\",[\"instance:${8fda562d-3e10-4a4a-aa55-8217b0575aa6000000000b3d0250}\"]],[\"addRenderer\",[\"instance:${8fda562d-3e10-4a4a-aa55-8217b0575aa60000000008fb3d00}\"]],[\"addRenderer\",[\"instance:${8fda562d-3e10-4a4a-aa55-8217b0575aa6000000000d1651a0}\"]]],\"dependencies\":[{\"calls\":[[\"setActiveCamera\",[\"instance:${000000000b4d0f70}\"]],[\"addViewProp\",[\"instance:${8fda562d-3e10-4a4a-aa55-8217b0575aa6000000000b4b0830}\"]],[\"addViewProp\",[\"instance:${8fda562d-3e10-4a4a-aa55-8217b0575aa600000000093949b0}\"]]],\"dependencies\":[{\"id\":\"000000000b4d0f70\",\"parent\":\"8fda562d-3e10-4a4a-aa55-8217b0575aa6000000000b3d0250\",\"properties\":{\"clippingRange\":[161.56976993857776,532.5323079894397],\"focalPoint\":[46.776127474785824,1.7763568394002505e-15,-5.380404380418849],\"position\":[234.67626819087252,187.9001407160867,182.51973633566786],\"viewUp\":[0.0,0.0,1.0]},\"type\":\"vtkOpenGLCamera\"},{\"calls\":[[\"setMapper\",[\"instance:${8fda562d-3e10-4a4a-aa55-8217b0575aa6000000000d10f3a0}\"]],[\"setProperty\",[\"instance:${8fda562d-3e10-4a4a-aa55-8217b0575aa60000000008fb4350}\"]]],\"dependencies\":[{\"calls\":[[\"setInputData\",[\"instance:${8fda562d-3e10-4a4a-aa55-8217b0575aa6000000000d10f3a0-dataset-0}\",0]],[\"setLookupTable\",[\"instance:${8fda562d-3e10-4a4a-aa55-8217b0575aa6000000000d1112d0}\"]]],\"dependencies\":[{\"id\":\"8fda562d-3e10-4a4a-aa55-8217b0575aa6000000000d10f3a0-dataset-0\",\"parent\":\"8fda562d-3e10-4a4a-aa55-8217b0575aa6000000000d10f3a0\",\"properties\":{\"fields\":[],\"points\":{\"dataType\":\"Float64Array\",\"hash\":\"d5b1ce3723337853ac4c03a94aded4a7\",\"name\":\"Points\",\"numberOfComponents\":3,\"ranges\":[{\"component\":null,\"max\":90.0,\"min\":0.0},{\"component\":null,\"max\":28.284271247461902,\"min\":-28.2842712474619},{\"component\":null,\"max\":56.568542494923804,\"min\":0.0},{\"component\":null,\"max\":106.30145812734649,\"min\":0.0}],\"size\":1806,\"vtkClass\":\"vtkPoints\"},\"polys\":{\"dataType\":\"Uint32Array\",\"hash\":\"17e9a831e0240a90efde3b9bbf51d1ce\",\"name\":null,\"numberOfComponents\":1,\"ranges\":[{\"component\":null,\"max\":601.0,\"min\":0.0}],\"size\":3000,\"vtkClass\":\"vtkCellArray\"}},\"type\":\"vtkPolyData\"},{\"arrays\":[{\"dataType\":\"Uint8Array\",\"hash\":\"2ebda7d3c6c3627ba233a85b7027cd58\",\"name\":null,\"numberOfComponents\":4,\"ranges\":[{\"component\":null,\"max\":255.0,\"min\":0.0},{\"component\":null,\"max\":255.0,\"min\":0.0},{\"component\":null,\"max\":255.0,\"min\":0.0},{\"component\":null,\"max\":255.0,\"min\":255.0},{\"component\":null,\"max\":441.0963613542964,\"min\":360.62445840513925}],\"registration\":\"setTable\",\"size\":1024,\"vtkClass\":\"vtkDataArray\"}],\"id\":\"8fda562d-3e10-4a4a-aa55-8217b0575aa6000000000d1112d0\",\"parent\":\"8fda562d-3e10-4a4a-aa55-8217b0575aa6000000000d10f3a0\",\"properties\":{\"aboveRangeColor\":[1.0,1.0,1.0,1.0],\"alpha\":1.0,\"belowRangeColor\":[0.0,0.0,0.0,1.0],\"hueRange\":[0.5,0],\"indexedLookup\":0,\"nanColor\":[0.5,0.0,0.0,1.0],\"numberOfColors\":256,\"range\":[0.0,1.0],\"saturationRange\":[1.0,1.0],\"useAboveRangeColor\":false,\"useBelowRangeColor\":false,\"valueRange\":[0.0,1.0],\"vectorComponent\":0,\"vectorMode\":1,\"vectorSize\":-1},\"type\":\"vtkLookupTable\"}],\"id\":\"8fda562d-3e10-4a4a-aa55-8217b0575aa6000000000d10f3a0\",\"parent\":\"8fda562d-3e10-4a4a-aa55-8217b0575aa6000000000b4b0830\",\"properties\":{\"arrayAccessMode\":1,\"colorByArrayName\":null,\"colorMode\":0,\"interpolateScalarsBeforeMapping\":1,\"renderTime\":0.0,\"resolveCoincidentTopology\":0,\"scalarMode\":5,\"scalarRange\":[0.0,1.0],\"scalarVisibility\":1,\"useLookupTableScalarRange\":0},\"type\":\"vtkDataSetMapper\"},{\"id\":\"8fda562d-3e10-4a4a-aa55-8217b0575aa60000000008fb4350\",\"parent\":\"8fda562d-3e10-4a4a-aa55-8217b0575aa6000000000b4b0830\",\"properties\":{\"ambient\":0.0,\"ambientColor\":[0.0,0.0,0.0],\"backfaceCulling\":0,\"color\":[0.0,0.0,0.0],\"diffuse\":1.0,\"diffuseColor\":[0.0,0.0,0.0],\"edgeColor\":[0.0,0.0,0.0],\"edgeVisibility\":0,\"frontfaceCulling\":0,\"interpolation\":0,\"lighting\":1,\"lineWidth\":1.0,\"opacity\":1.0,\"pointSize\":5.0,\"representation\":1,\"specular\":0.0,\"specularColor\":[0.0,0.0,0.0],\"specularPower\":100.0},\"type\":\"vtkOpenGLProperty\"}],\"id\":\"8fda562d-3e10-4a4a-aa55-8217b0575aa6000000000b4b0830\",\"parent\":\"8fda562d-3e10-4a4a-aa55-8217b0575aa6000000000b3d0250\",\"properties\":{\"dragable\":1,\"forceOpaque\":false,\"forceTranslucent\":false,\"orientation\":[0.0,-0.0,0.0],\"origin\":[0.0,0.0,0.0],\"pickable\":1,\"position\":[0.0,0.0,0.0],\"scale\":[1.0,1.0,1.0],\"useBounds\":true,\"visibility\":1},\"type\":\"vtkOpenGLActor\"},{\"calls\":[[\"setMapper\",[\"instance:${8fda562d-3e10-4a4a-aa55-8217b0575aa6000000000d1145f0}\"]],[\"setProperty\",[\"instance:${8fda562d-3e10-4a4a-aa55-8217b0575aa60000000002a0b140}\"]]],\"dependencies\":[{\"calls\":[[\"setInputData\",[\"instance:${8fda562d-3e10-4a4a-aa55-8217b0575aa6000000000d1145f0-dataset-0}\",0]],[\"setLookupTable\",[\"instance:${8fda562d-3e10-4a4a-aa55-8217b0575aa6000000000d1153c0}\"]]],\"dependencies\":[{\"id\":\"8fda562d-3e10-4a4a-aa55-8217b0575aa6000000000d1145f0-dataset-0\",\"parent\":\"8fda562d-3e10-4a4a-aa55-8217b0575aa6000000000d1145f0\",\"properties\":{\"fields\":[{\"dataType\":\"Float64Array\",\"hash\":\"2f00f57db39a1592e6a2609738c9ba3f\",\"location\":\"pointData\",\"name\":\"u-normed\",\"numberOfComponents\":1,\"ranges\":[{\"component\":null,\"max\":56.15911375594093,\"min\":1.055085188007998e-16}],\"registration\":\"setScalars\",\"size\":602,\"vtkClass\":\"vtkDataArray\"}],\"points\":{\"dataType\":\"Float64Array\",\"hash\":\"650a37ea29be9d130a578cb33ac9f6fe\",\"name\":\"Points\",\"numberOfComponents\":3,\"ranges\":[{\"component\":null,\"max\":96.35012916401449,\"min\":-2.7978742144428352},{\"component\":null,\"max\":28.284271247461902,\"min\":-28.2842712474619},{\"component\":null,\"max\":56.56854249492381,\"min\":-67.32935125576151},{\"component\":null,\"max\":100.17872313420776,\"min\":9.885436355440464e-16}],\"size\":1806,\"vtkClass\":\"vtkPoints\"},\"polys\":{\"dataType\":\"Uint32Array\",\"hash\":\"17e9a831e0240a90efde3b9bbf51d1ce\",\"name\":null,\"numberOfComponents\":1,\"ranges\":[{\"component\":null,\"max\":601.0,\"min\":0.0}],\"size\":3000,\"vtkClass\":\"vtkCellArray\"}},\"type\":\"vtkPolyData\"},{\"arrays\":[{\"dataType\":\"Uint8Array\",\"hash\":\"ce52d598102e2756143cf4f27a0b5911\",\"name\":null,\"numberOfComponents\":4,\"ranges\":[{\"component\":null,\"max\":253.0,\"min\":30.0},{\"component\":null,\"max\":231.0,\"min\":1.0},{\"component\":null,\"max\":142.0,\"min\":24.0},{\"component\":null,\"max\":255.0,\"min\":255.0},{\"component\":null,\"max\":428.5918804643877,\"min\":276.95848064285735}],\"registration\":\"setTable\",\"size\":1024,\"vtkClass\":\"vtkDataArray\"}],\"id\":\"8fda562d-3e10-4a4a-aa55-8217b0575aa6000000000d1153c0\",\"parent\":\"8fda562d-3e10-4a4a-aa55-8217b0575aa6000000000d1145f0\",\"properties\":{\"aboveRangeColor\":[1.0,1.0,1.0,1.0],\"alpha\":1.0,\"belowRangeColor\":[0.0,0.0,0.0,1.0],\"hueRange\":[0.5,0],\"indexedLookup\":0,\"nanColor\":[0.6627450980392157,0.6627450980392157,0.6627450980392157,1.0],\"numberOfColors\":256,\"range\":[1.055085188007998e-16,56.15911375594093],\"saturationRange\":[1.0,1.0],\"useAboveRangeColor\":false,\"useBelowRangeColor\":false,\"valueRange\":[1.055085188007998e-16,56.15911375594093],\"vectorComponent\":0,\"vectorMode\":1,\"vectorSize\":-1},\"type\":\"vtkLookupTable\"}],\"id\":\"8fda562d-3e10-4a4a-aa55-8217b0575aa6000000000d1145f0\",\"parent\":\"8fda562d-3e10-4a4a-aa55-8217b0575aa600000000093949b0\",\"properties\":{\"arrayAccessMode\":1,\"colorByArrayName\":null,\"colorMode\":1,\"interpolateScalarsBeforeMapping\":1,\"renderTime\":0.0,\"resolveCoincidentTopology\":0,\"scalarMode\":1,\"scalarRange\":[1.055085188007998e-16,56.15911375594093],\"scalarVisibility\":1,\"useLookupTableScalarRange\":0},\"type\":\"vtkDataSetMapper\"},{\"id\":\"8fda562d-3e10-4a4a-aa55-8217b0575aa60000000002a0b140\",\"parent\":\"8fda562d-3e10-4a4a-aa55-8217b0575aa600000000093949b0\",\"properties\":{\"ambient\":0.0,\"ambientColor\":[1.0,1.0,1.0],\"backfaceCulling\":0,\"color\":[1.0,1.0,1.0],\"diffuse\":1.0,\"diffuseColor\":[1.0,1.0,1.0],\"edgeColor\":[0.0,0.0,0.0],\"edgeVisibility\":0,\"frontfaceCulling\":0,\"interpolation\":0,\"lighting\":1,\"lineWidth\":1.0,\"opacity\":1.0,\"pointSize\":5.0,\"representation\":2,\"specular\":0.0,\"specularColor\":[1.0,1.0,1.0],\"specularPower\":100.0},\"type\":\"vtkOpenGLProperty\"}],\"id\":\"8fda562d-3e10-4a4a-aa55-8217b0575aa600000000093949b0\",\"parent\":\"8fda562d-3e10-4a4a-aa55-8217b0575aa6000000000b3d0250\",\"properties\":{\"dragable\":1,\"forceOpaque\":false,\"forceTranslucent\":false,\"orientation\":[0.0,-0.0,0.0],\"origin\":[0.0,0.0,0.0],\"pickable\":1,\"position\":[0.0,0.0,0.0],\"scale\":[1.0,1.0,1.0],\"useBounds\":true,\"visibility\":1},\"type\":\"vtkOpenGLActor\"}],\"id\":\"8fda562d-3e10-4a4a-aa55-8217b0575aa6000000000b3d0250\",\"parent\":\"8fda562d-3e10-4a4a-aa55-8217b0575aa6000000000904d8a0\",\"properties\":{\"background\":[0.3,0.3,0.3],\"background2\":[0.2,0.2,0.2],\"clippingRangeExpansion\":0.5,\"interactive\":1,\"layer\":0,\"lightFollowCamera\":1,\"maximumNumberOfPeels\":4,\"nearClippingPlaneTolerance\":0.001,\"occlusionRatio\":0.0,\"preserveColorBuffer\":0,\"preserveDepthBuffer\":0,\"twoSidedLighting\":1,\"useDepthPeeling\":0,\"useShadows\":0,\"viewport\":[0.0,0.0,1.0,1.0]},\"type\":\"vtkOpenGLRenderer\"},{\"calls\":[[\"setActiveCamera\",[\"instance:${00000000068ef760}\"]]],\"dependencies\":[{\"id\":\"00000000068ef760\",\"parent\":\"8fda562d-3e10-4a4a-aa55-8217b0575aa60000000008fb3d00\",\"properties\":{\"clippingRange\":[0.01,1000.01],\"focalPoint\":[0.0,0.0,0.0],\"position\":[0.0,0.0,1.0],\"viewUp\":[0.0,1.0,0.0]},\"type\":\"vtkOpenGLCamera\"}],\"id\":\"8fda562d-3e10-4a4a-aa55-8217b0575aa60000000008fb3d00\",\"parent\":\"8fda562d-3e10-4a4a-aa55-8217b0575aa6000000000904d8a0\",\"properties\":{\"background\":[0.3,0.3,0.3],\"background2\":[0.2,0.2,0.2],\"clippingRangeExpansion\":0.5,\"interactive\":0,\"layer\":1,\"lightFollowCamera\":1,\"maximumNumberOfPeels\":4,\"nearClippingPlaneTolerance\":0.0,\"occlusionRatio\":0.0,\"preserveColorBuffer\":1,\"preserveDepthBuffer\":0,\"twoSidedLighting\":1,\"useDepthPeeling\":0,\"useShadows\":0,\"viewport\":[0.0,0.0,1.0,1.0]},\"type\":\"vtkOpenGLRenderer\"},{\"calls\":[[\"setActiveCamera\",[\"instance:${000000000686b950}\"]]],\"dependencies\":[{\"id\":\"000000000686b950\",\"parent\":\"8fda562d-3e10-4a4a-aa55-8217b0575aa6000000000d1651a0\",\"properties\":{\"clippingRange\":[3.1784280185413722,11.13129965931104],\"focalPoint\":[0.0,0.0,0.0],\"position\":[3.8637033051562732,3.8637033051562732,3.8637033051562732],\"viewUp\":[0.0,0.0,1.0]},\"type\":\"vtkOpenGLCamera\"}],\"id\":\"8fda562d-3e10-4a4a-aa55-8217b0575aa6000000000d1651a0\",\"parent\":\"8fda562d-3e10-4a4a-aa55-8217b0575aa6000000000904d8a0\",\"properties\":{\"background\":[0.0,0.0,0.0],\"background2\":[0.2,0.2,0.2],\"clippingRangeExpansion\":0.5,\"interactive\":0,\"layer\":1,\"lightFollowCamera\":1,\"maximumNumberOfPeels\":4,\"nearClippingPlaneTolerance\":0.001,\"occlusionRatio\":0.0,\"preserveColorBuffer\":1,\"preserveDepthBuffer\":0,\"twoSidedLighting\":1,\"useDepthPeeling\":0,\"useShadows\":0,\"viewport\":[0.0,0.0,0.2,0.2]},\"type\":\"vtkOpenGLRenderer\"}],\"id\":\"8fda562d-3e10-4a4a-aa55-8217b0575aa6000000000904d8a0\",\"mtime\":84465,\"parent\":\"8fda562d-3e10-4a4a-aa55-8217b0575aa60x0\",\"properties\":{\"numberOfLayers\":2},\"type\":\"vtkXOpenGLRenderWindow\"},\"sizing_mode\":\"stretch_width\",\"width\":960},\"id\":\"1017\",\"type\":\"panel.models.vtk.VTKSynchronizedPlot\"},{\"attributes\":{},\"id\":\"1016\",\"type\":\"panel.models.vtk.VTKAxes\"},{\"attributes\":{\"client_comm_id\":\"f387b99903744a80a42a84f8d706f7c8\",\"comm_id\":\"c809e9b2c7044971afdb3a72e09231e4\",\"plot_id\":\"1017\"},\"id\":\"1018\",\"type\":\"panel.models.comm_manager.CommManager\"},{\"attributes\":{\"high\":56.15911375594093,\"low\":1.055085188007998e-16,\"name\":\"u\",\"palette\":[\"#440154\",\"#440255\",\"#440357\",\"#450558\",\"#45065a\",\"#45085b\",\"#46095c\",\"#460b5e\",\"#460c5f\",\"#460e61\",\"#470f62\",\"#471163\",\"#471265\",\"#471466\",\"#471567\",\"#471669\",\"#47186a\",\"#48196b\",\"#481a6c\",\"#481c6e\",\"#481d6f\",\"#481e70\",\"#482071\",\"#482172\",\"#482273\",\"#482374\",\"#472575\",\"#472676\",\"#472777\",\"#472878\",\"#472a79\",\"#472b7a\",\"#472c7b\",\"#462d7c\",\"#462f7c\",\"#46307d\",\"#46317e\",\"#45327f\",\"#45347f\",\"#453580\",\"#453681\",\"#443781\",\"#443982\",\"#433a83\",\"#433b83\",\"#433c84\",\"#423d84\",\"#423e85\",\"#424085\",\"#414186\",\"#414286\",\"#404387\",\"#404487\",\"#3f4587\",\"#3f4788\",\"#3e4888\",\"#3e4989\",\"#3d4a89\",\"#3d4b89\",\"#3d4c89\",\"#3c4d8a\",\"#3c4e8a\",\"#3b508a\",\"#3b518a\",\"#3a528b\",\"#3a538b\",\"#39548b\",\"#39558b\",\"#38568b\",\"#38578c\",\"#37588c\",\"#37598c\",\"#365a8c\",\"#365b8c\",\"#355c8c\",\"#355d8c\",\"#345e8d\",\"#345f8d\",\"#33608d\",\"#33618d\",\"#32628d\",\"#32638d\",\"#31648d\",\"#31658d\",\"#31668d\",\"#30678d\",\"#30688d\",\"#2f698d\",\"#2f6a8d\",\"#2e6b8e\",\"#2e6c8e\",\"#2e6d8e\",\"#2d6e8e\",\"#2d6f8e\",\"#2c708e\",\"#2c718e\",\"#2c728e\",\"#2b738e\",\"#2b748e\",\"#2a758e\",\"#2a768e\",\"#2a778e\",\"#29788e\",\"#29798e\",\"#287a8e\",\"#287a8e\",\"#287b8e\",\"#277c8e\",\"#277d8e\",\"#277e8e\",\"#267f8e\",\"#26808e\",\"#26818e\",\"#25828e\",\"#25838d\",\"#24848d\",\"#24858d\",\"#24868d\",\"#23878d\",\"#23888d\",\"#23898d\",\"#22898d\",\"#228a8d\",\"#228b8d\",\"#218c8d\",\"#218d8c\",\"#218e8c\",\"#208f8c\",\"#20908c\",\"#20918c\",\"#1f928c\",\"#1f938b\",\"#1f948b\",\"#1f958b\",\"#1f968b\",\"#1e978a\",\"#1e988a\",\"#1e998a\",\"#1e998a\",\"#1e9a89\",\"#1e9b89\",\"#1e9c89\",\"#1e9d88\",\"#1e9e88\",\"#1e9f88\",\"#1ea087\",\"#1fa187\",\"#1fa286\",\"#1fa386\",\"#20a485\",\"#20a585\",\"#21a685\",\"#21a784\",\"#22a784\",\"#23a883\",\"#23a982\",\"#24aa82\",\"#25ab81\",\"#26ac81\",\"#27ad80\",\"#28ae7f\",\"#29af7f\",\"#2ab07e\",\"#2bb17d\",\"#2cb17d\",\"#2eb27c\",\"#2fb37b\",\"#30b47a\",\"#32b57a\",\"#33b679\",\"#35b778\",\"#36b877\",\"#38b976\",\"#39b976\",\"#3bba75\",\"#3dbb74\",\"#3ebc73\",\"#40bd72\",\"#42be71\",\"#44be70\",\"#45bf6f\",\"#47c06e\",\"#49c16d\",\"#4bc26c\",\"#4dc26b\",\"#4fc369\",\"#51c468\",\"#53c567\",\"#55c666\",\"#57c665\",\"#59c764\",\"#5bc862\",\"#5ec961\",\"#60c960\",\"#62ca5f\",\"#64cb5d\",\"#67cc5c\",\"#69cc5b\",\"#6bcd59\",\"#6dce58\",\"#70ce56\",\"#72cf55\",\"#74d054\",\"#77d052\",\"#79d151\",\"#7cd24f\",\"#7ed24e\",\"#81d34c\",\"#83d34b\",\"#86d449\",\"#88d547\",\"#8bd546\",\"#8dd644\",\"#90d643\",\"#92d741\",\"#95d73f\",\"#97d83e\",\"#9ad83c\",\"#9dd93a\",\"#9fd938\",\"#a2da37\",\"#a5da35\",\"#a7db33\",\"#aadb32\",\"#addc30\",\"#afdc2e\",\"#b2dd2c\",\"#b5dd2b\",\"#b7dd29\",\"#bade27\",\"#bdde26\",\"#bfdf24\",\"#c2df22\",\"#c5df21\",\"#c7e01f\",\"#cae01e\",\"#cde01d\",\"#cfe11c\",\"#d2e11b\",\"#d4e11a\",\"#d7e219\",\"#dae218\",\"#dce218\",\"#dfe318\",\"#e1e318\",\"#e4e318\",\"#e7e419\",\"#e9e419\",\"#ece41a\",\"#eee51b\",\"#f1e51c\",\"#f3e51e\",\"#f6e61f\",\"#f8e621\",\"#fae622\",\"#fde724\"]},\"id\":\"1015\",\"type\":\"LinearColorMapper\"}],\"root_ids\":[\"1017\",\"1018\"]},\"title\":\"Bokeh Application\",\"version\":\"2.4.1\"}};\n",
       "    var render_items = [{\"docid\":\"f3508fb2-daa2-4f61-9eaa-fecf3251e7f2\",\"root_ids\":[\"1017\"],\"roots\":{\"1017\":\"224359c7-05d2-443a-8fd7-0327195b44bc\"}}];\n",
       "    root.Bokeh.embed.embed_items_notebook(docs_json, render_items);\n",
       "  }\n",
       "  if (root.Bokeh !== undefined && root.Bokeh.Panel !== undefined && ( root['vtk'] !== undefined)) {\n",
       "    embed_document(root);\n",
       "  } else {\n",
       "    var attempts = 0;\n",
       "    var timer = setInterval(function(root) {\n",
       "      if (root.Bokeh !== undefined && root.Bokeh.Panel !== undefined && (root['vtk'] !== undefined)) {\n",
       "        clearInterval(timer);\n",
       "        embed_document(root);\n",
       "      } else if (document.readyState == \"complete\") {\n",
       "        attempts++;\n",
       "        if (attempts > 200) {\n",
       "          clearInterval(timer);\n",
       "          console.log(\"Bokeh: ERROR: Unable to run BokehJS code because BokehJS library is missing\");\n",
       "        }\n",
       "      }\n",
       "    }, 25, root)\n",
       "  }\n",
       "})(window);</script>"
      ],
      "text/plain": [
       "VTKRenderWindowSynchronized(vtkXOpenGLRenderWindow, color_mappers=[LinearColorMapper(id='101...], height=480, orientation_widget=True, sizing_mode='stretch_width', width=960)"
      ]
     },
     "execution_count": 36,
     "metadata": {
      "application/vnd.holoviews_exec.v0+json": {
       "id": "1017"
      }
     },
     "output_type": "execute_result"
    }
   ],
   "source": [
    "plot_deformation(u, mesh, rot_y, rot_x)"
   ]
  },
  {
   "cell_type": "code",
   "execution_count": null,
   "id": "f7dceca3-de66-43f1-8a92-514c78c95a5c",
   "metadata": {},
   "outputs": [],
   "source": []
  }
 ],
 "metadata": {
  "kernelspec": {
   "display_name": "Python 3 (ipykernel)",
   "language": "python",
   "name": "python3"
  },
  "language_info": {
   "codemirror_mode": {
    "name": "ipython",
    "version": 3
   },
   "file_extension": ".py",
   "mimetype": "text/x-python",
   "name": "python",
   "nbconvert_exporter": "python",
   "pygments_lexer": "ipython3",
   "version": "3.9.5"
  }
 },
 "nbformat": 4,
 "nbformat_minor": 5
}
