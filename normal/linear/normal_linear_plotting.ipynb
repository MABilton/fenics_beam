{
 "cells": [
  {
   "cell_type": "markdown",
   "metadata": {
    "tags": []
   },
   "source": [
    "# Installations and Imports"
   ]
  },
  {
   "cell_type": "code",
   "execution_count": 1,
   "metadata": {
    "tags": []
   },
   "outputs": [],
   "source": [
    "!pip install pyvista panel -q\n",
    "!pip install -q piglet pyvirtualdisplay"
   ]
  },
  {
   "cell_type": "code",
   "execution_count": 2,
   "metadata": {
    "id": "pgyEZntvDDm4"
   },
   "outputs": [],
   "source": [
    "import dolfinx\n",
    "import dolfinx.plot\n",
    "import numpy as np\n",
    "import ufl\n",
    "from petsc4py import PETSc\n",
    "from mpi4py import MPI\n",
    "from math import pi, sin, cos, ceil\n",
    "import pyvista"
   ]
  },
  {
   "cell_type": "markdown",
   "metadata": {},
   "source": [
    "# Function Definitions"
   ]
  },
  {
   "cell_type": "markdown",
   "metadata": {},
   "source": [
    "## Main Subroutine"
   ]
  },
  {
   "cell_type": "code",
   "execution_count": 3,
   "metadata": {},
   "outputs": [],
   "source": [
    "# Function which performs loading for a particular set of parameters:\n",
    "def perform_loading(L, W, elem_size, E, lambda_, y_rot, x_rot, nu, rho, g, elem_order):\n",
    "    \n",
    "    NL, NW = ceil(L/elem_size), ceil(W/elem_size)\n",
    "    mesh = create_mesh(L, W, NL, NW)\n",
    "    V = dolfinx.VectorFunctionSpace(mesh, (\"CG\", elem_order))\n",
    "\n",
    "    bcs = create_bcs(mesh, V)\n",
    "    \n",
    "    # Compute Lame parameters:\n",
    "    mu_val = E/(2*(1 + nu))\n",
    "    mu = dolfinx.Constant(mesh, mu_val)\n",
    "    lambda_ = dolfinx.Constant(mesh, lambda_)\n",
    "\n",
    "    u = ufl.TrialFunction(V)\n",
    "    v = ufl.TestFunction(V)\n",
    "\n",
    "    def epsilon(u):\n",
    "        return ufl.sym(ufl.grad(u)) # Equivalent to 0.5*(ufl.nabla_grad(u) + ufl.nabla_grad(u).T)\n",
    "    def sigma(u):\n",
    "        return lambda_ * ufl.nabla_div(u) * ufl.Identity(u.geometric_dimension()) + 2*mu*epsilon(u)\n",
    "\n",
    "    f = create_load_vector(g, rho, y_rot, x_rot, mesh)\n",
    "    a = ufl.inner(sigma(u), epsilon(v)) * ufl.dx\n",
    "    L = ufl.dot(f, v) * ufl.dx\n",
    "    \n",
    "    # Delete cache of previous models:\n",
    "    !rm -r /root/.cache/fenics/*\n",
    "    \n",
    "    problem = dolfinx.fem.LinearProblem(a, L, bcs=bcs, petsc_options={\"ksp_type\": \"preonly\", \"pc_type\": \"lu\"})\n",
    "    u = problem.solve()\n",
    "    \n",
    "    volumes = compute_volume(u, mesh)\n",
    "    \n",
    "    return (u, mesh, volumes)"
   ]
  },
  {
   "cell_type": "markdown",
   "metadata": {},
   "source": [
    "## Mesh + BCs"
   ]
  },
  {
   "cell_type": "code",
   "execution_count": 4,
   "metadata": {},
   "outputs": [],
   "source": [
    "def create_mesh(L, W, NL, NW):\n",
    "    mesh = dolfinx.BoxMesh(MPI.COMM_WORLD,[[0.0,0.0,0.0], [L, W, W]], [NL, NW, NW], dolfinx.cpp.mesh.CellType.hexahedron)\n",
    "    return mesh"
   ]
  },
  {
   "cell_type": "code",
   "execution_count": 5,
   "metadata": {},
   "outputs": [],
   "source": [
    "def create_bcs(mesh, V):\n",
    "    fixed = lambda x: np.isclose(x[0], 0)\n",
    "    fixed_facets = dolfinx.mesh.locate_entities_boundary(mesh, mesh.topology.dim - 1, fixed)\n",
    "    facet_tag = dolfinx.MeshTags(mesh, mesh.topology.dim-1, fixed_facets, 1)\n",
    "    u_bc = dolfinx.Function(V)\n",
    "    with u_bc.vector.localForm() as loc:\n",
    "        loc.set(0)\n",
    "    left_dofs = dolfinx.fem.locate_dofs_topological(V, facet_tag.dim, facet_tag.indices[facet_tag.values==1])\n",
    "    bcs = [dolfinx.DirichletBC(u_bc, left_dofs)]\n",
    "    return bcs"
   ]
  },
  {
   "cell_type": "markdown",
   "metadata": {},
   "source": [
    "## Volume Computation"
   ]
  },
  {
   "cell_type": "code",
   "execution_count": 6,
   "metadata": {},
   "outputs": [],
   "source": [
    "def compute_volume(u, mesh, quad_order=4):\n",
    "    before_vol, after_vol = [], []\n",
    "    ndim = mesh.geometry.x.shape[1]\n",
    "    I = ufl.Identity(ndim)\n",
    "    dx = ufl.Measure(\"dx\", domain=mesh, metadata={\"quadrature_degree\": quad_order})\n",
    "    const_funspace = dolfinx.VectorFunctionSpace(mesh, (\"DG\", 0), dim=1)\n",
    "    const_fun = dolfinx.Function(const_funspace)\n",
    "    const_fun.vector[:] = np.ones(const_fun.vector[:].shape)\n",
    "    ufl.inner(const_fun,const_fun)\n",
    "    before_vol.append(dolfinx.fem.assemble.assemble_scalar(ufl.inner(const_fun,const_fun)*dx))\n",
    "    F = I + ufl.grad(u)\n",
    "    after_vol.append(dolfinx.fem.assemble.assemble_scalar(ufl.det(F)*dx))\n",
    "    return (before_vol, after_vol)"
   ]
  },
  {
   "cell_type": "markdown",
   "metadata": {},
   "source": [
    "## Create Load Vector"
   ]
  },
  {
   "cell_type": "code",
   "execution_count": 7,
   "metadata": {},
   "outputs": [],
   "source": [
    "# Using Euler angles - see https://www.autonomousrobotslab.com/frame-rotations-and-representations.html\n",
    "# Here, y_rot = theta, x_rot = psi\n",
    "def create_load_vector(g, rho, y_rot, x_rot, mesh, g_dir=(1,0,0)):\n",
    "    rot_matrix = create_rot_matrix(y_rot, x_rot)\n",
    "    f = rot_matrix @ (g*rho*np.array(g_dir))\n",
    "    return dolfinx.Constant(mesh, f)\n",
    "\n",
    "def create_rot_matrix(y_rot, x_rot, angle_to_rad=pi/180):\n",
    "    # NB: Negative associated with y so increasing y_rot goesin 'right direction'\n",
    "    theta, psi = -angle_to_rad*y_rot, angle_to_rad*x_rot\n",
    "    rot_matrix = np.array([[         cos(theta),        0,          -sin(theta)],\n",
    "                           [sin(psi)*sin(theta),  cos(psi), sin(psi)*cos(theta)],\n",
    "                           [cos(psi)*sin(theta), -sin(psi), cos(psi)*cos(theta)]])\n",
    "    return rot_matrix"
   ]
  },
  {
   "cell_type": "markdown",
   "metadata": {},
   "source": [
    "## Plotting Functions"
   ]
  },
  {
   "cell_type": "code",
   "execution_count": 8,
   "metadata": {},
   "outputs": [],
   "source": [
    "def plot_deformation(uh, meshio_mesh, rot_y, rot_x, title=None):\n",
    "    mesh = meshio_mesh\n",
    "    pyvista.start_xvfb(wait=0.05)\n",
    "    topology, cell_types = dolfinx.plot.create_vtk_topology(mesh, mesh.topology.dim)\n",
    "    points, u = mesh.geometry.x, uh.compute_point_values().real\n",
    "    points, u = rotate_mesh(points, u, -rot_y+90, -rot_x)\n",
    "    grid = pyvista.UnstructuredGrid(topology, cell_types, points)\n",
    "    p = pyvista.Plotter(notebook=True, window_size=[960,480]) #\n",
    "    \n",
    "    title = \"Deformed Configuration\" if title is None else title\n",
    "    p.add_text(title, name=\"title\", position=\"upper_edge\")\n",
    "    \n",
    "    grid[\"u\"] = u\n",
    "    actor_0 = p.add_mesh(grid, style=\"wireframe\", color=\"k\")\n",
    "    warped = grid.warp_by_vector(\"u\", factor=1.5)\n",
    "    actor_1 = p.add_mesh(warped)\n",
    "    \n",
    "    p.show_axes()\n",
    "    p.camera_position = 'xz'\n",
    "    viewer = p.show(jupyter_backend='panel', return_viewer=True)\n",
    "    return viewer\n",
    "\n",
    "def rotate_mesh(points, u, y_rot, x_rot):\n",
    "    rot_matrix = create_rot_matrix(y_rot, x_rot)\n",
    "    rotated_points = (rot_matrix @ points.T).T\n",
    "    rotated_u = (rot_matrix @ u.T).T\n",
    "    return (rotated_points, rotated_u)"
   ]
  },
  {
   "cell_type": "markdown",
   "metadata": {},
   "source": [
    "# Function Calls"
   ]
  },
  {
   "cell_type": "code",
   "execution_count": 47,
   "metadata": {},
   "outputs": [],
   "source": [
    "W = 40 # in mm\n",
    "L = 90 # in mm\n",
    "E =  10 # in mPa\n",
    "nu = 0.5 # dimensionless\n",
    "rho = 0.00102 # in g mm^-3\n",
    "g = 9.81 # in m s^-2\n",
    "lambda_ = 1e4 #E*nu/((1 + nu)*(1 - 2*nu))\n",
    "y_rot = 150\n",
    "x_rot = 0\n",
    "elem_order = 2\n",
    "elem_size = W/5\n",
    "\n",
    "import time\n",
    "\n",
    "start = time.time()\n",
    "u, mesh, volumes = perform_loading(L, W, elem_size, E, lambda_, y_rot, x_rot, nu, rho, g, elem_order)\n",
    "end = time.time() - start"
   ]
  },
  {
   "cell_type": "code",
   "execution_count": 48,
   "metadata": {},
   "outputs": [
    {
     "data": {},
     "metadata": {},
     "output_type": "display_data"
    },
    {
     "data": {
      "application/vnd.holoviews_exec.v0+json": "",
      "text/html": [
       "<div id='1089'>\n",
       "\n",
       "\n",
       "\n",
       "\n",
       "\n",
       "  <div class=\"bk-root\" id=\"8728d191-6b2b-4898-936d-0cfbf80f6769\" data-root-id=\"1089\"></div>\n",
       "</div>\n",
       "<script type=\"application/javascript\">(function(root) {\n",
       "  function embed_document(root) {\n",
       "    var docs_json = {\"7ebeec90-3f88-46c4-b784-68be56c7ac95\":{\"defs\":[{\"extends\":null,\"module\":null,\"name\":\"ReactiveHTML1\",\"overrides\":[],\"properties\":[]},{\"extends\":null,\"module\":null,\"name\":\"FlexBox1\",\"overrides\":[],\"properties\":[{\"default\":\"flex-start\",\"kind\":null,\"name\":\"align_content\"},{\"default\":\"flex-start\",\"kind\":null,\"name\":\"align_items\"},{\"default\":\"row\",\"kind\":null,\"name\":\"flex_direction\"},{\"default\":\"wrap\",\"kind\":null,\"name\":\"flex_wrap\"},{\"default\":\"flex-start\",\"kind\":null,\"name\":\"justify_content\"}]},{\"extends\":null,\"module\":null,\"name\":\"TemplateActions1\",\"overrides\":[],\"properties\":[{\"default\":0,\"kind\":null,\"name\":\"open_modal\"},{\"default\":0,\"kind\":null,\"name\":\"close_modal\"}]},{\"extends\":null,\"module\":null,\"name\":\"MaterialTemplateActions1\",\"overrides\":[],\"properties\":[{\"default\":0,\"kind\":null,\"name\":\"open_modal\"},{\"default\":0,\"kind\":null,\"name\":\"close_modal\"}]}],\"roots\":{\"references\":[{\"attributes\":{\"client_comm_id\":\"b3612a15e8a0461cafae6add88b3337c\",\"comm_id\":\"ccbf3454a08147f9888d243e6bc1bf53\",\"plot_id\":\"1089\"},\"id\":\"1090\",\"type\":\"panel.models.comm_manager.CommManager\"},{\"attributes\":{\"high\":34.62739314322946,\"low\":5.085604221159333e-17,\"name\":\"u\",\"palette\":[\"#440154\",\"#440255\",\"#440357\",\"#450558\",\"#45065a\",\"#45085b\",\"#46095c\",\"#460b5e\",\"#460c5f\",\"#460e61\",\"#470f62\",\"#471163\",\"#471265\",\"#471466\",\"#471567\",\"#471669\",\"#47186a\",\"#48196b\",\"#481a6c\",\"#481c6e\",\"#481d6f\",\"#481e70\",\"#482071\",\"#482172\",\"#482273\",\"#482374\",\"#472575\",\"#472676\",\"#472777\",\"#472878\",\"#472a79\",\"#472b7a\",\"#472c7b\",\"#462d7c\",\"#462f7c\",\"#46307d\",\"#46317e\",\"#45327f\",\"#45347f\",\"#453580\",\"#453681\",\"#443781\",\"#443982\",\"#433a83\",\"#433b83\",\"#433c84\",\"#423d84\",\"#423e85\",\"#424085\",\"#414186\",\"#414286\",\"#404387\",\"#404487\",\"#3f4587\",\"#3f4788\",\"#3e4888\",\"#3e4989\",\"#3d4a89\",\"#3d4b89\",\"#3d4c89\",\"#3c4d8a\",\"#3c4e8a\",\"#3b508a\",\"#3b518a\",\"#3a528b\",\"#3a538b\",\"#39548b\",\"#39558b\",\"#38568b\",\"#38578c\",\"#37588c\",\"#37598c\",\"#365a8c\",\"#365b8c\",\"#355c8c\",\"#355d8c\",\"#345e8d\",\"#345f8d\",\"#33608d\",\"#33618d\",\"#32628d\",\"#32638d\",\"#31648d\",\"#31658d\",\"#31668d\",\"#30678d\",\"#30688d\",\"#2f698d\",\"#2f6a8d\",\"#2e6b8e\",\"#2e6c8e\",\"#2e6d8e\",\"#2d6e8e\",\"#2d6f8e\",\"#2c708e\",\"#2c718e\",\"#2c728e\",\"#2b738e\",\"#2b748e\",\"#2a758e\",\"#2a768e\",\"#2a778e\",\"#29788e\",\"#29798e\",\"#287a8e\",\"#287a8e\",\"#287b8e\",\"#277c8e\",\"#277d8e\",\"#277e8e\",\"#267f8e\",\"#26808e\",\"#26818e\",\"#25828e\",\"#25838d\",\"#24848d\",\"#24858d\",\"#24868d\",\"#23878d\",\"#23888d\",\"#23898d\",\"#22898d\",\"#228a8d\",\"#228b8d\",\"#218c8d\",\"#218d8c\",\"#218e8c\",\"#208f8c\",\"#20908c\",\"#20918c\",\"#1f928c\",\"#1f938b\",\"#1f948b\",\"#1f958b\",\"#1f968b\",\"#1e978a\",\"#1e988a\",\"#1e998a\",\"#1e998a\",\"#1e9a89\",\"#1e9b89\",\"#1e9c89\",\"#1e9d88\",\"#1e9e88\",\"#1e9f88\",\"#1ea087\",\"#1fa187\",\"#1fa286\",\"#1fa386\",\"#20a485\",\"#20a585\",\"#21a685\",\"#21a784\",\"#22a784\",\"#23a883\",\"#23a982\",\"#24aa82\",\"#25ab81\",\"#26ac81\",\"#27ad80\",\"#28ae7f\",\"#29af7f\",\"#2ab07e\",\"#2bb17d\",\"#2cb17d\",\"#2eb27c\",\"#2fb37b\",\"#30b47a\",\"#32b57a\",\"#33b679\",\"#35b778\",\"#36b877\",\"#38b976\",\"#39b976\",\"#3bba75\",\"#3dbb74\",\"#3ebc73\",\"#40bd72\",\"#42be71\",\"#44be70\",\"#45bf6f\",\"#47c06e\",\"#49c16d\",\"#4bc26c\",\"#4dc26b\",\"#4fc369\",\"#51c468\",\"#53c567\",\"#55c666\",\"#57c665\",\"#59c764\",\"#5bc862\",\"#5ec961\",\"#60c960\",\"#62ca5f\",\"#64cb5d\",\"#67cc5c\",\"#69cc5b\",\"#6bcd59\",\"#6dce58\",\"#70ce56\",\"#72cf55\",\"#74d054\",\"#77d052\",\"#79d151\",\"#7cd24f\",\"#7ed24e\",\"#81d34c\",\"#83d34b\",\"#86d449\",\"#88d547\",\"#8bd546\",\"#8dd644\",\"#90d643\",\"#92d741\",\"#95d73f\",\"#97d83e\",\"#9ad83c\",\"#9dd93a\",\"#9fd938\",\"#a2da37\",\"#a5da35\",\"#a7db33\",\"#aadb32\",\"#addc30\",\"#afdc2e\",\"#b2dd2c\",\"#b5dd2b\",\"#b7dd29\",\"#bade27\",\"#bdde26\",\"#bfdf24\",\"#c2df22\",\"#c5df21\",\"#c7e01f\",\"#cae01e\",\"#cde01d\",\"#cfe11c\",\"#d2e11b\",\"#d4e11a\",\"#d7e219\",\"#dae218\",\"#dce218\",\"#dfe318\",\"#e1e318\",\"#e4e318\",\"#e7e419\",\"#e9e419\",\"#ece41a\",\"#eee51b\",\"#f1e51c\",\"#f3e51e\",\"#f6e61f\",\"#f8e621\",\"#fae622\",\"#fde724\"]},\"id\":\"1087\",\"type\":\"LinearColorMapper\"},{\"attributes\":{},\"id\":\"1088\",\"type\":\"panel.models.vtk.VTKAxes\"},{\"attributes\":{\"annotations\":[{\"LeftEdge\":null,\"LowerEdge\":null,\"LowerLeft\":null,\"LowerRight\":null,\"RightEdge\":null,\"UpperEdge\":\"Deformed Configuration\",\"UpperLeft\":null,\"UpperRight\":null,\"color\":[1.0,1.0,1.0],\"fontFamily\":\"Arial\",\"fontSize\":18.0,\"id\":\"1bb3ca07-1027-407e-b81d-fff1e6313185000000002a871a20\",\"viewport\":[0.0,0.0,1.0,1.0]}],\"arrays\":{\"2ebda7d3c6c3627ba233a85b7027cd58\":\"UEsDBBQAAAAIAC9Mh1OBkDoDkwEAAAAEAAAlAAAAZGF0YS8yZWJkYTdkM2M2YzM2MjdiYTIzM2E4NWI3MDI3Y2Q1OHXTb0SdYRgH4E5/VllpSibJJBlJTERGJEZEjIgYETEiYmxEjIjYh4gYETEiYiJiIjISmUgmySRNaqo5Z53O2TXd077M6/r2vs9z37+fN5uTk83+lSCXPAoopJgSyiinkipqqKWeBppoppU2Ouikmx766GeQIUZ4wxjjTDLFDLPMs8ASy6yyxgabbLPDHvsccsQJp5xzwRVJUlyT5obMrUz2zg1pfpHkJ5f84IzvHPONA76yyxe2+Mw6n1jhI4t8YI73TPOOCd4yyiuGeckAL+jlOV08o52ntPCERh5TxyOqeUgFDyjlPkXcI588Evz/ScRb+fFVUZxSGqdWxC3VcWtdTNEYU7XElO0xdVds0RtbDcSWw7H1aKQwEalMR0pzkdpipLgSqa5HyluR+m60cBCtHEdLZ9HaZbSYilbT0fI/rWeyt25Ic02KJFdccM4pJxxxyD577LDNJhusscoySywwzywzTDHJOGO8ZoQhBumnjx666aSDNlpppokG6qmlhioqKaeMEooppIA8cknc/e5//AZQSwECFAMUAAAACAAvTIdTgZA6A5MBAAAABAAAJQAAAAAAAAAAAAAAgAEAAAAAZGF0YS8yZWJkYTdkM2M2YzM2MjdiYTIzM2E4NWI3MDI3Y2Q1OFBLBQYAAAAAAQABAFMAAADWAQAAAAA=\",\"4cb1859df07f2f5b8ed1cf8385065391\":\"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\",\"6179c74ada0ae6419abd72c6113cab5b\":\"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\",\"b97d81d549e19f2d91a505d74021d49d\":\"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\",\"ce52d598102e2756143cf4f27a0b5911\":\"UEsDBBQAAAAIAC9Mh1OE1+BQMwMAAAAEAAAlAAAAZGF0YS9jZTUyZDU5ODEwMmUyNzU2MTQzY2Y0ZjI3YTBiNTkxMS3DCUzVBRzA8VWr1Wq1WjVAfI/HfQnIfcvx3vs/wiMUBAS55BC57/uWx/He/59ZZllmWWZZZllmWWpRappXeKAIAga4ttbW2lpra99+bX62j/G+dIz3Z2B8IBPTg1mYHtqA6eEczI/kYn40D/Nj+ZgfL0R5ogjlyU0oT5WgPF2K8kwZyrPlKA5bsDhWYHGqxOJcjWVpDRZdLRaXOiyGeiyuDVjcGlE8mlA8m1G8WlC8W1F821D82lH8OzAv68QcKIO6MC/vxhTcgylUhvViCu/DGCGj+kmOHiA5RsZuJSlOxg+SlDBIYqKVxCQrCclDJBiHWGGSyjDxFpkyQtxzMlWuHCF21Sixq0eJeV6mjRK91kb0OhtR6TLDRuR6mWknIktm2wnfIHPshOXKjXZC81RC81VCCmShSnCR3KSyvFiWyFKVoDK5WSWwXG5RCajQCKiUVRrLqmWNhn+trJP1Gn4NslHDt0k2yxYNn1bZpuHdfm+Hhlen7JLdGp49slf2aXj0ywEV961yUFpV3IbksBxRcf3/qLSpGOxStWPQ7Li8ILfJF+3ot8uXbOhfljvkKzZ0O0fRvSpfu3fXCLrX5Rty9zC6N+Ue+dYQ+rflXiv6d6y4vDuIy75BDO/J/VtxlW7vD+D2QT/uB/rx+LAPz4/68DrYi/fHPfgc6sH3k278Pu3CXwYc7iTwsw6CPm8n+Eg7IV+0EXa0lfAvW4j8qpkoGXOsibivG4n/poGE4/UknajDeKIW08kalG+rSfmuitSxSlaNVbDm+3LSftjMulNlZJwuJfN0Cdlnisn5sYi8s4UUnC2g6Fw+xT9tpOx8LuXnc6i4kE3VxSxqL66n/lIGjZfTabm8lraf0+gcX0P3+Gr6rqxk4Eoq1qspDF9TsF0zo143su16MtsnEtkxsYKdN+LZdSOW3Tej2XMzkr2TEeybDGP/rRAO3Arm4FQQh6YCODztz5FpP45O+3DsthfHb3tycsadsRlXTs0YODOr59ysjguzS7k058z43BKuzjkxcceRyTsOTMmZXxyYk/Py7rwjv8rf5p34fWEJfyw48+eCjr8W9fy9aOCfRVf+vevOf1BLAQIUAxQAAAAIAC9Mh1OE1+BQMwMAAAAEAAAlAAAAAAAAAAAAAACAAQAAAABkYXRhL2NlNTJkNTk4MTAyZTI3NTYxNDNjZjRmMjdhMGI1OTExUEsFBgAAAAABAAEAUwAAAHYDAAAAAA==\",\"d5729f223a3400b6692a554a48b883a8\":\"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\"},\"axes\":{\"id\":\"1088\"},\"color_mappers\":[{\"id\":\"1087\"}],\"height\":480,\"margin\":[5,5,5,5],\"orientation_widget\":true,\"scene\":{\"calls\":[[\"addRenderer\",[\"instance:${1bb3ca07-1027-407e-b81d-fff1e6313185000000002c725b20}\"]],[\"addRenderer\",[\"instance:${1bb3ca07-1027-407e-b81d-fff1e6313185000000002c610670}\"]],[\"addRenderer\",[\"instance:${1bb3ca07-1027-407e-b81d-fff1e6313185000000002c9c7730}\"]]],\"dependencies\":[{\"calls\":[[\"setActiveCamera\",[\"instance:${000000002a4fe0c0}\"]],[\"addViewProp\",[\"instance:${1bb3ca07-1027-407e-b81d-fff1e6313185000000002ca42470}\"]],[\"addViewProp\",[\"instance:${1bb3ca07-1027-407e-b81d-fff1e6313185000000002c7ee160}\"]]],\"dependencies\":[{\"id\":\"000000002a4fe0c0\",\"parent\":\"1bb3ca07-1027-407e-b81d-fff1e6313185000000002c725b20\",\"properties\":{\"clippingRange\":[253.9479262519069,368.75249481629004],\"focalPoint\":[22.29852454367201,20.00000000018857,48.97114317029974],\"position\":[22.29852454367201,-284.448424362104,48.97114317029974],\"viewUp\":[0.0,0.0,1.0]},\"type\":\"vtkOpenGLCamera\"},{\"calls\":[[\"setMapper\",[\"instance:${1bb3ca07-1027-407e-b81d-fff1e6313185000000002c8a9b70}\"]],[\"setProperty\",[\"instance:${1bb3ca07-1027-407e-b81d-fff1e6313185000000002c7f13a0}\"]]],\"dependencies\":[{\"calls\":[[\"setInputData\",[\"instance:${1bb3ca07-1027-407e-b81d-fff1e6313185000000002c8a9b70-dataset-0}\",0]],[\"setLookupTable\",[\"instance:${1bb3ca07-1027-407e-b81d-fff1e6313185000000002c5f0400}\"]]],\"dependencies\":[{\"id\":\"1bb3ca07-1027-407e-b81d-fff1e6313185000000002c8a9b70-dataset-0\",\"parent\":\"1bb3ca07-1027-407e-b81d-fff1e6313185000000002c8a9b70\",\"properties\":{\"fields\":[],\"points\":{\"dataType\":\"Float64Array\",\"hash\":\"b97d81d549e19f2d91a505d74021d49d\",\"name\":\"Points\",\"numberOfComponents\":3,\"ranges\":[{\"component\":null,\"max\":45.00000000000001,\"min\":-34.64101615137754},{\"component\":null,\"max\":40.0,\"min\":0.0},{\"component\":null,\"max\":97.94228634059948,\"min\":0.0},{\"component\":null,\"max\":106.3014581273465,\"min\":0.0}],\"size\":876,\"vtkClass\":\"vtkPoints\"},\"polys\":{\"dataType\":\"Uint32Array\",\"hash\":\"4cb1859df07f2f5b8ed1cf8385065391\",\"name\":null,\"numberOfComponents\":1,\"ranges\":[{\"component\":null,\"max\":291.0,\"min\":0.0}],\"size\":1450,\"vtkClass\":\"vtkCellArray\"}},\"type\":\"vtkPolyData\"},{\"arrays\":[{\"dataType\":\"Uint8Array\",\"hash\":\"2ebda7d3c6c3627ba233a85b7027cd58\",\"name\":null,\"numberOfComponents\":4,\"ranges\":[{\"component\":null,\"max\":255.0,\"min\":0.0},{\"component\":null,\"max\":255.0,\"min\":0.0},{\"component\":null,\"max\":255.0,\"min\":0.0},{\"component\":null,\"max\":255.0,\"min\":255.0},{\"component\":null,\"max\":441.0963613542964,\"min\":360.62445840513925}],\"registration\":\"setTable\",\"size\":1024,\"vtkClass\":\"vtkDataArray\"}],\"id\":\"1bb3ca07-1027-407e-b81d-fff1e6313185000000002c5f0400\",\"parent\":\"1bb3ca07-1027-407e-b81d-fff1e6313185000000002c8a9b70\",\"properties\":{\"aboveRangeColor\":[1.0,1.0,1.0,1.0],\"alpha\":1.0,\"belowRangeColor\":[0.0,0.0,0.0,1.0],\"hueRange\":[0.5,0],\"indexedLookup\":0,\"nanColor\":[0.5,0.0,0.0,1.0],\"numberOfColors\":256,\"range\":[0.0,1.0],\"saturationRange\":[1.0,1.0],\"useAboveRangeColor\":false,\"useBelowRangeColor\":false,\"valueRange\":[0.0,1.0],\"vectorComponent\":0,\"vectorMode\":1,\"vectorSize\":-1},\"type\":\"vtkLookupTable\"}],\"id\":\"1bb3ca07-1027-407e-b81d-fff1e6313185000000002c8a9b70\",\"parent\":\"1bb3ca07-1027-407e-b81d-fff1e6313185000000002ca42470\",\"properties\":{\"arrayAccessMode\":1,\"colorByArrayName\":null,\"colorMode\":0,\"interpolateScalarsBeforeMapping\":1,\"renderTime\":0.0,\"resolveCoincidentTopology\":0,\"scalarMode\":5,\"scalarRange\":[0.0,1.0],\"scalarVisibility\":1,\"useLookupTableScalarRange\":0},\"type\":\"vtkDataSetMapper\"},{\"id\":\"1bb3ca07-1027-407e-b81d-fff1e6313185000000002c7f13a0\",\"parent\":\"1bb3ca07-1027-407e-b81d-fff1e6313185000000002ca42470\",\"properties\":{\"ambient\":0.0,\"ambientColor\":[0.0,0.0,0.0],\"backfaceCulling\":0,\"color\":[0.0,0.0,0.0],\"diffuse\":1.0,\"diffuseColor\":[0.0,0.0,0.0],\"edgeColor\":[0.0,0.0,0.0],\"edgeVisibility\":0,\"frontfaceCulling\":0,\"interpolation\":0,\"lighting\":1,\"lineWidth\":1.0,\"opacity\":1.0,\"pointSize\":5.0,\"representation\":1,\"specular\":0.0,\"specularColor\":[0.0,0.0,0.0],\"specularPower\":100.0},\"type\":\"vtkOpenGLProperty\"}],\"id\":\"1bb3ca07-1027-407e-b81d-fff1e6313185000000002ca42470\",\"parent\":\"1bb3ca07-1027-407e-b81d-fff1e6313185000000002c725b20\",\"properties\":{\"dragable\":1,\"forceOpaque\":false,\"forceTranslucent\":false,\"orientation\":[0.0,-0.0,0.0],\"origin\":[0.0,0.0,0.0],\"pickable\":1,\"position\":[0.0,0.0,0.0],\"scale\":[1.0,1.0,1.0],\"useBounds\":true,\"visibility\":1},\"type\":\"vtkOpenGLActor\"},{\"calls\":[[\"setMapper\",[\"instance:${1bb3ca07-1027-407e-b81d-fff1e6313185000000002c72e6c0}\"]],[\"setProperty\",[\"instance:${1bb3ca07-1027-407e-b81d-fff1e631318500000000282fea70}\"]]],\"dependencies\":[{\"calls\":[[\"setInputData\",[\"instance:${1bb3ca07-1027-407e-b81d-fff1e6313185000000002c72e6c0-dataset-0}\",0]],[\"setLookupTable\",[\"instance:${1bb3ca07-1027-407e-b81d-fff1e6313185000000002a5dc8a0}\"]]],\"dependencies\":[{\"id\":\"1bb3ca07-1027-407e-b81d-fff1e6313185000000002c72e6c0-dataset-0\",\"parent\":\"1bb3ca07-1027-407e-b81d-fff1e6313185000000002c72e6c0\",\"properties\":{\"fields\":[{\"dataType\":\"Float64Array\",\"hash\":\"6179c74ada0ae6419abd72c6113cab5b\",\"location\":\"pointData\",\"name\":\"u-normed\",\"numberOfComponents\":1,\"ranges\":[{\"component\":null,\"max\":34.62739314322946,\"min\":5.085604221159333e-17}],\"registration\":\"setScalars\",\"size\":292,\"vtkClass\":\"vtkDataArray\"}],\"points\":{\"dataType\":\"Float64Array\",\"hash\":\"d5729f223a3400b6692a554a48b883a8\",\"name\":\"Points\",\"numberOfComponents\":3,\"ranges\":[{\"component\":null,\"max\":79.23806523872156,\"min\":-34.64101615137754},{\"component\":null,\"max\":43.84724314931557,\"min\":-3.8472431489384276},{\"component\":null,\"max\":79.86724926645422,\"min\":-2.021876783263489e-17},{\"component\":null,\"max\":105.7739489652626,\"min\":3.0521448865672076e-16}],\"size\":876,\"vtkClass\":\"vtkPoints\"},\"polys\":{\"dataType\":\"Uint32Array\",\"hash\":\"4cb1859df07f2f5b8ed1cf8385065391\",\"name\":null,\"numberOfComponents\":1,\"ranges\":[{\"component\":null,\"max\":291.0,\"min\":0.0}],\"size\":1450,\"vtkClass\":\"vtkCellArray\"}},\"type\":\"vtkPolyData\"},{\"arrays\":[{\"dataType\":\"Uint8Array\",\"hash\":\"ce52d598102e2756143cf4f27a0b5911\",\"name\":null,\"numberOfComponents\":4,\"ranges\":[{\"component\":null,\"max\":253.0,\"min\":30.0},{\"component\":null,\"max\":231.0,\"min\":1.0},{\"component\":null,\"max\":142.0,\"min\":24.0},{\"component\":null,\"max\":255.0,\"min\":255.0},{\"component\":null,\"max\":428.5918804643877,\"min\":276.95848064285735}],\"registration\":\"setTable\",\"size\":1024,\"vtkClass\":\"vtkDataArray\"}],\"id\":\"1bb3ca07-1027-407e-b81d-fff1e6313185000000002a5dc8a0\",\"parent\":\"1bb3ca07-1027-407e-b81d-fff1e6313185000000002c72e6c0\",\"properties\":{\"aboveRangeColor\":[1.0,1.0,1.0,1.0],\"alpha\":1.0,\"belowRangeColor\":[0.0,0.0,0.0,1.0],\"hueRange\":[0.5,0],\"indexedLookup\":0,\"nanColor\":[0.6627450980392157,0.6627450980392157,0.6627450980392157,1.0],\"numberOfColors\":256,\"range\":[5.085604221159333e-17,34.62739314322946],\"saturationRange\":[1.0,1.0],\"useAboveRangeColor\":false,\"useBelowRangeColor\":false,\"valueRange\":[5.085604221159333e-17,34.62739314322946],\"vectorComponent\":0,\"vectorMode\":1,\"vectorSize\":-1},\"type\":\"vtkLookupTable\"}],\"id\":\"1bb3ca07-1027-407e-b81d-fff1e6313185000000002c72e6c0\",\"parent\":\"1bb3ca07-1027-407e-b81d-fff1e6313185000000002c7ee160\",\"properties\":{\"arrayAccessMode\":1,\"colorByArrayName\":null,\"colorMode\":1,\"interpolateScalarsBeforeMapping\":1,\"renderTime\":0.0,\"resolveCoincidentTopology\":0,\"scalarMode\":1,\"scalarRange\":[5.085604221159333e-17,34.62739314322946],\"scalarVisibility\":1,\"useLookupTableScalarRange\":0},\"type\":\"vtkDataSetMapper\"},{\"id\":\"1bb3ca07-1027-407e-b81d-fff1e631318500000000282fea70\",\"parent\":\"1bb3ca07-1027-407e-b81d-fff1e6313185000000002c7ee160\",\"properties\":{\"ambient\":0.0,\"ambientColor\":[1.0,1.0,1.0],\"backfaceCulling\":0,\"color\":[1.0,1.0,1.0],\"diffuse\":1.0,\"diffuseColor\":[1.0,1.0,1.0],\"edgeColor\":[0.0,0.0,0.0],\"edgeVisibility\":0,\"frontfaceCulling\":0,\"interpolation\":0,\"lighting\":1,\"lineWidth\":1.0,\"opacity\":1.0,\"pointSize\":5.0,\"representation\":2,\"specular\":0.0,\"specularColor\":[1.0,1.0,1.0],\"specularPower\":100.0},\"type\":\"vtkOpenGLProperty\"}],\"id\":\"1bb3ca07-1027-407e-b81d-fff1e6313185000000002c7ee160\",\"parent\":\"1bb3ca07-1027-407e-b81d-fff1e6313185000000002c725b20\",\"properties\":{\"dragable\":1,\"forceOpaque\":false,\"forceTranslucent\":false,\"orientation\":[0.0,-0.0,0.0],\"origin\":[0.0,0.0,0.0],\"pickable\":1,\"position\":[0.0,0.0,0.0],\"scale\":[1.0,1.0,1.0],\"useBounds\":true,\"visibility\":1},\"type\":\"vtkOpenGLActor\"}],\"id\":\"1bb3ca07-1027-407e-b81d-fff1e6313185000000002c725b20\",\"parent\":\"1bb3ca07-1027-407e-b81d-fff1e6313185000000002c780b70\",\"properties\":{\"background\":[0.3,0.3,0.3],\"background2\":[0.2,0.2,0.2],\"clippingRangeExpansion\":0.5,\"interactive\":1,\"layer\":0,\"lightFollowCamera\":1,\"maximumNumberOfPeels\":4,\"nearClippingPlaneTolerance\":0.001,\"occlusionRatio\":0.0,\"preserveColorBuffer\":0,\"preserveDepthBuffer\":0,\"twoSidedLighting\":1,\"useDepthPeeling\":0,\"useShadows\":0,\"viewport\":[0.0,0.0,1.0,1.0]},\"type\":\"vtkOpenGLRenderer\"},{\"calls\":[[\"setActiveCamera\",[\"instance:${000000002a5109f0}\"]]],\"dependencies\":[{\"id\":\"000000002a5109f0\",\"parent\":\"1bb3ca07-1027-407e-b81d-fff1e6313185000000002c610670\",\"properties\":{\"clippingRange\":[0.01,1000.01],\"focalPoint\":[0.0,0.0,0.0],\"position\":[0.0,0.0,1.0],\"viewUp\":[0.0,1.0,0.0]},\"type\":\"vtkOpenGLCamera\"}],\"id\":\"1bb3ca07-1027-407e-b81d-fff1e6313185000000002c610670\",\"parent\":\"1bb3ca07-1027-407e-b81d-fff1e6313185000000002c780b70\",\"properties\":{\"background\":[0.3,0.3,0.3],\"background2\":[0.2,0.2,0.2],\"clippingRangeExpansion\":0.5,\"interactive\":0,\"layer\":1,\"lightFollowCamera\":1,\"maximumNumberOfPeels\":4,\"nearClippingPlaneTolerance\":0.0,\"occlusionRatio\":0.0,\"preserveColorBuffer\":1,\"preserveDepthBuffer\":0,\"twoSidedLighting\":1,\"useDepthPeeling\":0,\"useShadows\":0,\"viewport\":[0.0,0.0,1.0,1.0]},\"type\":\"vtkOpenGLRenderer\"},{\"calls\":[[\"setActiveCamera\",[\"instance:${0000000027e5ca20}\"]]],\"dependencies\":[{\"id\":\"0000000027e5ca20\",\"parent\":\"1bb3ca07-1027-407e-b81d-fff1e6313185000000002c9c7730\",\"properties\":{\"clippingRange\":[4.6352091256034385,9.297512386351],\"focalPoint\":[0.0,0.0,0.0],\"position\":[0.0,-6.6921304299024635,0.0],\"viewUp\":[0.0,0.0,1.0]},\"type\":\"vtkOpenGLCamera\"}],\"id\":\"1bb3ca07-1027-407e-b81d-fff1e6313185000000002c9c7730\",\"parent\":\"1bb3ca07-1027-407e-b81d-fff1e6313185000000002c780b70\",\"properties\":{\"background\":[0.0,0.0,0.0],\"background2\":[0.2,0.2,0.2],\"clippingRangeExpansion\":0.5,\"interactive\":0,\"layer\":1,\"lightFollowCamera\":1,\"maximumNumberOfPeels\":4,\"nearClippingPlaneTolerance\":0.001,\"occlusionRatio\":0.0,\"preserveColorBuffer\":1,\"preserveDepthBuffer\":0,\"twoSidedLighting\":1,\"useDepthPeeling\":0,\"useShadows\":0,\"viewport\":[0.0,0.0,0.2,0.2]},\"type\":\"vtkOpenGLRenderer\"}],\"id\":\"1bb3ca07-1027-407e-b81d-fff1e6313185000000002c780b70\",\"mtime\":436340,\"parent\":\"1bb3ca07-1027-407e-b81d-fff1e63131850x0\",\"properties\":{\"numberOfLayers\":2},\"type\":\"vtkXOpenGLRenderWindow\"},\"sizing_mode\":\"stretch_width\",\"width\":960},\"id\":\"1089\",\"type\":\"panel.models.vtk.VTKSynchronizedPlot\"},{\"attributes\":{\"reload\":false},\"id\":\"1091\",\"type\":\"panel.models.location.Location\"}],\"root_ids\":[\"1089\",\"1090\",\"1091\"]},\"title\":\"Bokeh Application\",\"version\":\"2.4.2\"}};\n",
       "    var render_items = [{\"docid\":\"7ebeec90-3f88-46c4-b784-68be56c7ac95\",\"root_ids\":[\"1089\"],\"roots\":{\"1089\":\"8728d191-6b2b-4898-936d-0cfbf80f6769\"}}];\n",
       "    root.Bokeh.embed.embed_items_notebook(docs_json, render_items);\n",
       "  }\n",
       "  if (root.Bokeh !== undefined && root.Bokeh.Panel !== undefined && ( root['vtk'] !== undefined)) {\n",
       "    embed_document(root);\n",
       "  } else {\n",
       "    var attempts = 0;\n",
       "    var timer = setInterval(function(root) {\n",
       "      if (root.Bokeh !== undefined && root.Bokeh.Panel !== undefined && (root['vtk'] !== undefined)) {\n",
       "        clearInterval(timer);\n",
       "        embed_document(root);\n",
       "      } else if (document.readyState == \"complete\") {\n",
       "        attempts++;\n",
       "        if (attempts > 200) {\n",
       "          clearInterval(timer);\n",
       "          console.log(\"Bokeh: ERROR: Unable to run BokehJS code because BokehJS library is missing\");\n",
       "        }\n",
       "      }\n",
       "    }, 25, root)\n",
       "  }\n",
       "})(window);</script>"
      ],
      "text/plain": [
       "VTKRenderWindowSynchronized(vtkXOpenGLRenderWindow, color_mappers=[LinearColorMapper(id='108...], height=480, orientation_widget=True, sizing_mode='stretch_width', width=960)"
      ]
     },
     "execution_count": 48,
     "metadata": {
      "application/vnd.holoviews_exec.v0+json": {
       "id": "1089"
      }
     },
     "output_type": "execute_result"
    }
   ],
   "source": [
    "plot_deformation(u, mesh, y_rot, x_rot)"
   ]
  },
  {
   "cell_type": "code",
   "execution_count": null,
   "metadata": {},
   "outputs": [],
   "source": []
  }
 ],
 "metadata": {
  "colab": {
   "authorship_tag": "ABX9TyO4fc8BbC/fBMObcORcS0o8",
   "collapsed_sections": [],
   "name": "Fenics Gravity Loaded Beam.ipynb",
   "provenance": []
  },
  "kernelspec": {
   "display_name": "Python 3 (ipykernel)",
   "language": "python",
   "name": "python3"
  },
  "language_info": {
   "codemirror_mode": {
    "name": "ipython",
    "version": 3
   },
   "file_extension": ".py",
   "mimetype": "text/x-python",
   "name": "python",
   "nbconvert_exporter": "python",
   "pygments_lexer": "ipython3",
   "version": "3.9.5"
  }
 },
 "nbformat": 4,
 "nbformat_minor": 4
}
