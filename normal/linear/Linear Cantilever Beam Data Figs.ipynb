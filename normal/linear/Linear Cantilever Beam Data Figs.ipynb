{
 "cells": [
  {
   "cell_type": "markdown",
   "metadata": {},
   "source": [
    "# Installs and Imports"
   ]
  },
  {
   "cell_type": "code",
   "execution_count": 1,
   "metadata": {},
   "outputs": [
    {
     "name": "stdout",
     "output_type": "stream",
     "text": [
      "Requirement already satisfied: matplotlib in /usr/local/lib/python3.9/dist-packages (3.4.3)\n",
      "Requirement already satisfied: python-dateutil>=2.7 in /usr/local/lib/python3.9/dist-packages (from matplotlib) (2.8.2)\n",
      "Requirement already satisfied: cycler>=0.10 in /usr/local/lib/python3.9/dist-packages (from matplotlib) (0.10.0)\n",
      "Requirement already satisfied: kiwisolver>=1.0.1 in /usr/local/lib/python3.9/dist-packages (from matplotlib) (1.3.2)\n",
      "Requirement already satisfied: pyparsing>=2.2.1 in /usr/local/lib/python3.9/dist-packages (from matplotlib) (2.4.7)\n",
      "Requirement already satisfied: pillow>=6.2.0 in /usr/local/lib/python3.9/dist-packages (from matplotlib) (8.4.0)\n",
      "Requirement already satisfied: numpy>=1.16 in /usr/local/lib/python3.9/dist-packages (from matplotlib) (1.20.3)\n",
      "Requirement already satisfied: six in /usr/local/lib/python3.9/dist-packages (from cycler>=0.10->matplotlib) (1.16.0)\n",
      "Requirement already satisfied: seaborn in /usr/local/lib/python3.9/dist-packages (0.11.2)\n",
      "Requirement already satisfied: pandas>=0.23 in /usr/local/lib/python3.9/dist-packages (from seaborn) (1.3.4)\n",
      "Requirement already satisfied: numpy>=1.15 in /usr/local/lib/python3.9/dist-packages (from seaborn) (1.20.3)\n",
      "Requirement already satisfied: scipy>=1.0 in /usr/lib/python3/dist-packages (from seaborn) (1.6.0)\n",
      "Requirement already satisfied: matplotlib>=2.2 in /usr/local/lib/python3.9/dist-packages (from seaborn) (3.4.3)\n",
      "Requirement already satisfied: cycler>=0.10 in /usr/local/lib/python3.9/dist-packages (from matplotlib>=2.2->seaborn) (0.10.0)\n",
      "Requirement already satisfied: pillow>=6.2.0 in /usr/local/lib/python3.9/dist-packages (from matplotlib>=2.2->seaborn) (8.4.0)\n",
      "Requirement already satisfied: kiwisolver>=1.0.1 in /usr/local/lib/python3.9/dist-packages (from matplotlib>=2.2->seaborn) (1.3.2)\n",
      "Requirement already satisfied: python-dateutil>=2.7 in /usr/local/lib/python3.9/dist-packages (from matplotlib>=2.2->seaborn) (2.8.2)\n",
      "Requirement already satisfied: pyparsing>=2.2.1 in /usr/local/lib/python3.9/dist-packages (from matplotlib>=2.2->seaborn) (2.4.7)\n",
      "Requirement already satisfied: six in /usr/local/lib/python3.9/dist-packages (from cycler>=0.10->matplotlib>=2.2->seaborn) (1.16.0)\n",
      "Requirement already satisfied: pytz>=2017.3 in /usr/local/lib/python3.9/dist-packages (from pandas>=0.23->seaborn) (2021.1)\n"
     ]
    }
   ],
   "source": [
    "!pip install matplotlib\n",
    "!pip install seaborn"
   ]
  },
  {
   "cell_type": "code",
   "execution_count": 2,
   "metadata": {
    "executionInfo": {
     "elapsed": 1300,
     "status": "ok",
     "timestamp": 1632635657100,
     "user": {
      "displayName": "Matthew Bilton",
      "photoUrl": "https://lh3.googleusercontent.com/a/default-user=s64",
      "userId": "11777015143175422111"
     },
     "user_tz": 0
    },
    "id": "m7u1-BwqU3D4"
   },
   "outputs": [],
   "source": [
    "# Fenics imports:\n",
    "import dolfinx\n",
    "import dolfinx.plot\n",
    "import ufl\n",
    "\n",
    "# Numerics imports:\n",
    "from mpi4py import MPI\n",
    "from petsc4py import PETSc\n",
    "import numpy as np\n",
    "\n",
    "# Visualisation imports:\n",
    "import matplotlib as mpl\n",
    "import matplotlib.pyplot as plt\n",
    "import matplotlib.cm as cm\n",
    "import seaborn as sns\n",
    "\n",
    "# Misc imports:\n",
    "from math import sin, cos, pi, ceil, floor\n",
    "import os\n",
    "import json\n",
    "import itertools\n",
    "import time"
   ]
  },
  {
   "cell_type": "code",
   "execution_count": 3,
   "metadata": {},
   "outputs": [],
   "source": [
    "# Set plotting settings:\n",
    "mpl.rcParams['figure.dpi'] = 100\n",
    "sns.set_style(\"darkgrid\")"
   ]
  },
  {
   "cell_type": "markdown",
   "metadata": {},
   "source": [
    "# FEM Code Functions"
   ]
  },
  {
   "cell_type": "markdown",
   "metadata": {},
   "source": [
    "## Main Subroutine"
   ]
  },
  {
   "cell_type": "code",
   "execution_count": 41,
   "metadata": {},
   "outputs": [],
   "source": [
    "def solve_linear_problem(mesh, y_rot, x_rot, E, lambda_, nu, rho, g, elem_order=2):\n",
    "\n",
    "    V = dolfinx.VectorFunctionSpace(mesh, (\"CG\", elem_order))\n",
    "\n",
    "    bcs = create_bcs(mesh, V)\n",
    "    \n",
    "    # Compute Lame parameters:\n",
    "    mu_val = E/(2*(1 + nu))\n",
    "    mu = dolfinx.Constant(mesh, mu_val)\n",
    "    lambda_ = dolfinx.Constant(mesh, lambda_)\n",
    "\n",
    "    u = ufl.TrialFunction(V)\n",
    "    v = ufl.TestFunction(V)\n",
    "\n",
    "    def epsilon(u):\n",
    "        return ufl.sym(ufl.grad(u)) # Equivalent to 0.5*(ufl.nabla_grad(u) + ufl.nabla_grad(u).T)\n",
    "    def sigma(u):\n",
    "        return lambda_ * ufl.nabla_div(u) * ufl.Identity(u.geometric_dimension()) + 2*mu*epsilon(u)\n",
    "\n",
    "    f = create_load_vector(g, rho, y_rot, x_rot, mesh)\n",
    "    a = ufl.inner(sigma(u), epsilon(v)) * ufl.dx\n",
    "    L = ufl.dot(f, v) * ufl.dx\n",
    "    \n",
    "    # Delete cache of previous models:\n",
    "    try:\n",
    "        !rm -r /root/.cache/fenics/*\n",
    "    except:\n",
    "        pass\n",
    "    \n",
    "    problem = dolfinx.fem.LinearProblem(a, L, bcs=bcs, petsc_options={\"ksp_type\": \"preonly\", \"pc_type\": \"lu\"})\n",
    "    u = problem.solve()\n",
    "    \n",
    "    volumes = compute_volumes(u, mesh)\n",
    "    \n",
    "    return (u, volumes)"
   ]
  },
  {
   "cell_type": "markdown",
   "metadata": {},
   "source": [
    "## Mesh + BCs"
   ]
  },
  {
   "cell_type": "code",
   "execution_count": 5,
   "metadata": {},
   "outputs": [],
   "source": [
    "def create_mesh(L, W, NL, NW):\n",
    "    mesh = dolfinx.BoxMesh(MPI.COMM_WORLD,[[0.0,0.0,0.0], [L, W, W]], [NL, NW, NW], dolfinx.cpp.mesh.CellType.hexahedron)\n",
    "    return mesh"
   ]
  },
  {
   "cell_type": "code",
   "execution_count": 6,
   "metadata": {},
   "outputs": [],
   "source": [
    "def create_bcs(mesh, V):\n",
    "    fixed = lambda x: np.isclose(x[0], 0)\n",
    "    fixed_facets = dolfinx.mesh.locate_entities_boundary(mesh, mesh.topology.dim - 1, fixed)\n",
    "    facet_tag = dolfinx.MeshTags(mesh, mesh.topology.dim-1, fixed_facets, 1)\n",
    "    u_bc = dolfinx.Function(V)\n",
    "    with u_bc.vector.localForm() as loc:\n",
    "        loc.set(0)\n",
    "    left_dofs = dolfinx.fem.locate_dofs_topological(V, facet_tag.dim, facet_tag.indices[facet_tag.values==1])\n",
    "    bcs = [dolfinx.DirichletBC(u_bc, left_dofs)]\n",
    "    return bcs  "
   ]
  },
  {
   "cell_type": "code",
   "execution_count": 7,
   "metadata": {},
   "outputs": [],
   "source": [
    "def create_constitutive_eqn(E, nu, kappa, mesh, V, quad_degree=4):\n",
    "    \n",
    "    # Compute Lame parameters:\n",
    "    mu = dolfinx.Constant(mesh, E/(2*(1 + nu)))\n",
    "    \n",
    "    # Compute new body force:\n",
    "    B = dolfinx.Constant(mesh, (0,0,0))\n",
    "    v = ufl.TestFunction(V)\n",
    "    u = dolfinx.Function(V)\n",
    "    d = len(u)\n",
    "    I = ufl.variable(ufl.Identity(d))\n",
    "    F = ufl.variable(I + ufl.grad(u))\n",
    "    C = ufl.variable(F.T * F)\n",
    "    J = ufl.variable(ufl.det(F))\n",
    "    Ic = ufl.variable(ufl.tr(C))\n",
    "\n",
    "    # Nearly-Incompressible Neo-Hookean material; \n",
    "    # See: https://link.springer.com/article/10.1007/s11071-015-2167-1\n",
    "    psi = (mu/2)*(Ic-3) + kappa/2*(J-1)**2\n",
    "    \n",
    "    # Hyper-elasticity\n",
    "    P = ufl.diff(psi, F)\n",
    "    \n",
    "    metadata = {\"quadrature_degree\": 4}\n",
    "    dx = ufl.Measure(\"dx\", metadata=metadata)\n",
    "\n",
    "    # Define form F (we want to find u such that F(u) = 0)\n",
    "    F = ufl.inner(ufl.grad(v), P)*dx - ufl.inner(v, B)*dx\n",
    "    \n",
    "    return (F, u, B)"
   ]
  },
  {
   "cell_type": "markdown",
   "metadata": {},
   "source": [
    "## Loading Functions"
   ]
  },
  {
   "cell_type": "code",
   "execution_count": 8,
   "metadata": {},
   "outputs": [],
   "source": [
    "def create_load_vector(g, rho, y_rot, x_rot, mesh, g_dir=(1,0,0)):\n",
    "    rot_matrix = create_rot_matrix(y_rot, x_rot)\n",
    "    f = rot_matrix @ (g*rho*np.array(g_dir))\n",
    "    return dolfinx.Constant(mesh, f)\n",
    "    \n",
    "def create_rot_matrix(y_rot, x_rot, ang_to_rad=pi/180):\n",
    "    # NB: Negative associated with y so increasing y_rot goes in 'right direction'\n",
    "    theta, psi = -ang_to_rad*y_rot, ang_to_rad*x_rot\n",
    "    rot_matrix = np.array([[         cos(theta),        0,          -sin(theta)],\n",
    "                           [sin(psi)*sin(theta),  cos(psi), sin(psi)*cos(theta)],\n",
    "                           [cos(psi)*sin(theta), -sin(psi), cos(psi)*cos(theta)]])\n",
    "    return rot_matrix"
   ]
  },
  {
   "cell_type": "markdown",
   "metadata": {},
   "source": [
    "## Pre-Processing Functions"
   ]
  },
  {
   "cell_type": "code",
   "execution_count": 9,
   "metadata": {},
   "outputs": [],
   "source": [
    "def create_param_combos(**kwargs):\n",
    "    keys = kwargs.keys()\n",
    "    param_combos = []\n",
    "    for bundle in itertools.product(*kwargs.values()):\n",
    "        param_dict = dict(zip(keys, bundle))\n",
    "        param_combos.append(param_dict)\n",
    "    return param_combos"
   ]
  },
  {
   "cell_type": "markdown",
   "metadata": {},
   "source": [
    "## Post-Processing Functions"
   ]
  },
  {
   "cell_type": "code",
   "execution_count": 10,
   "metadata": {},
   "outputs": [],
   "source": [
    "def compute_volumes(u, mesh, quad_order=4):\n",
    "    \n",
    "    before_vol, after_vol = [], []\n",
    "    ndim = mesh.geometry.x.shape[1]\n",
    "    I = ufl.Identity(ndim)\n",
    "    dx = ufl.Measure(\"dx\", domain=mesh, metadata={\"quadrature_degree\": quad_order})\n",
    "    const_funspace = dolfinx.VectorFunctionSpace(mesh, (\"DG\", 0), dim=1)\n",
    "    const_fun = dolfinx.Function(const_funspace)\n",
    "    const_fun.vector[:] = np.ones(const_fun.vector[:].shape)\n",
    "    ufl.inner(const_fun,const_fun)\n",
    "    vol_before = dolfinx.fem.assemble.assemble_scalar(ufl.inner(const_fun,const_fun)*dx)\n",
    "    F = I + ufl.grad(u)\n",
    "    vol_after = dolfinx.fem.assemble.assemble_scalar(ufl.det(F)*dx)\n",
    "    \n",
    "    return [vol_before, vol_after]"
   ]
  },
  {
   "cell_type": "code",
   "execution_count": 11,
   "metadata": {},
   "outputs": [],
   "source": [
    "def get_end_displacement(u, mesh, W, L):\n",
    "    u_vals = u.compute_point_values().real\n",
    "    idx = np.isclose(mesh.geometry.x, [L, W, W])\n",
    "    idx = np.where(np.all(idx, axis=1))\n",
    "    u_vals = u_vals[idx]\n",
    "    disp = np.sum(u_vals**2, axis=1)**(1/2)\n",
    "    return disp.item()"
   ]
  },
  {
   "cell_type": "markdown",
   "metadata": {},
   "source": [
    "# Selecting Lambda"
   ]
  },
  {
   "cell_type": "code",
   "execution_count": 35,
   "metadata": {},
   "outputs": [],
   "source": [
    "def create_data(E_list, y_rot_list, x_rot_list, lambda_, nu, W, L, NL, NW, rho, g, verbose=False):\n",
    "    \n",
    "    mesh = create_mesh(L, W, NL, NW)  \n",
    "    num_elem = NL * NW * NW\n",
    "    \n",
    "    # Get all possible combinations of parameters:\n",
    "    param_combos = create_param_combos(E=E_list, y_rot=y_rot_list, x_rot=x_rot_list)\n",
    "    results = {key: [] for key in ('E', 'y_rot', 'x_rot', 'disp', 'end_disp', 'time', 'volume')}\n",
    "    \n",
    "    for i, params in enumerate(param_combos):\n",
    "        \n",
    "        # Extract i'th set of parameters:\n",
    "        E, y_rot, x_rot = params['E'], params['y_rot'], params['x_rot']\n",
    "        \n",
    "        if verbose:\n",
    "            print(f\"Simulating Mesh {i+1}/{len(param_combos)} (E = {E}, y_rot = {y_rot}, x_rot = {x_rot})\")\n",
    "        \n",
    "        # Compute displacement of beam:\n",
    "        t_start = time.time()\n",
    "        u, volumes = solve_linear_problem(mesh, y_rot, x_rot, E, lambda_, nu, rho, g)\n",
    "        t_end = time.time()\n",
    "        t_solve = t_end - t_start\n",
    "        \n",
    "        if verbose:\n",
    "            print(f'Simulation took {t_solve/60:.2f} mins.\\n')\n",
    "        \n",
    "        # Get displacement field:\n",
    "        disp = u.compute_point_values().real\n",
    "        \n",
    "        # Compute displacement at very end of beam:\n",
    "        end_disp = get_end_displacement(u, mesh, W, L)\n",
    "        \n",
    "        # Save results:\n",
    "        results['time'].append(t_solve)\n",
    "        results['volume'].append(volumes)\n",
    "        results['disp'].append(disp.tolist())\n",
    "        results['end_disp'].append(end_disp)\n",
    "        results['E'].append(E)\n",
    "        results['y_rot'].append(y_rot)\n",
    "        results['x_rot'].append(x_rot)\n",
    "    \n",
    "    # ALso save other simulation quantities:\n",
    "    coords = mesh.geometry.x\n",
    "    results['coords'] = coords.tolist()\n",
    "    results['nu'] = nu\n",
    "    results['density'] = rho\n",
    "    results['W'] = W\n",
    "    results['L'] = L\n",
    "    results['NL'] = NL\n",
    "    results['NW'] = NW\n",
    "    results['num_elem'] = num_elem\n",
    "    results['lambda'] = lambda_\n",
    "    results['rho'] = rho\n",
    "    \n",
    "    return results"
   ]
  },
  {
   "cell_type": "code",
   "execution_count": 38,
   "metadata": {},
   "outputs": [],
   "source": [
    "def perform_lambda_study(lambda_list, data, g=9.81, verbose=False):\n",
    "    \n",
    "    E_list, y_rot_list, x_rot_list = np.unique(data['E']), np.unique(data['y_rot']), np.unique(data['x_rot'])\n",
    "    true_disp = np.array(data['end_disp'])\n",
    "    W, L, NL, NW, rho, nu = data['W'], data['L'], data['NW'], data['NL'], data['rho'], data['nu']\n",
    "    \n",
    "    results = {key:[] for key in ('error', 'results', 'time')}\n",
    "    for i, lambda_i in enumerate(lambda_list):\n",
    "        if verbose:\n",
    "            print(f\"Simulating lambda value = {lambda_i} (Simulation {i+1}/{len(lambda_list)})\")\n",
    "        t_start = time.time()\n",
    "        results_i = create_data(E_list, y_rot_list, x_rot_list, lambda_i, nu, W, L, NL, NW, rho, g, verbose=False)\n",
    "        t_solve = t_start - time.time()\n",
    "        results['results'].append(results_i)\n",
    "        results['time'].append(t_solve)\n",
    "        error = np.mean((results_i['end_disp'] - true_disp)**2).item()\n",
    "        if verbose:\n",
    "            print(f'Simulations took {t_solve/60:.2f} mins. Error = {error:.2f} \\n')\n",
    "        results['error'].append(error)\n",
    "        \n",
    "    return results"
   ]
  },
  {
   "cell_type": "code",
   "execution_count": null,
   "metadata": {},
   "outputs": [
    {
     "name": "stdout",
     "output_type": "stream",
     "text": [
      "Simulating lambda value = 10.0 (Simulation 1/2)\n"
     ]
    }
   ],
   "source": [
    "with open('normal_nonlinear_train.json','r') as f:   \n",
    "    nonlinear_data = json.load(f)\n",
    "\n",
    "lambda_min, lambda_max = 1e1, 1e4  \n",
    "num_pts = 2\n",
    "lambda_list = np.linspace(lambda_min, lambda_max, num_pts).tolist()\n",
    "lambda_results = perform_lambda_study(lambda_list, nonlinear_data, verbose=True)\n",
    "\n",
    "with open('linear_lambda.json','w') as f:   \n",
    "    json.dump(lambda_results, f, indent=4)"
   ]
  },
  {
   "cell_type": "code",
   "execution_count": null,
   "metadata": {},
   "outputs": [],
   "source": [
    "a"
   ]
  },
  {
   "cell_type": "markdown",
   "metadata": {},
   "source": [
    "Based on the above plot, it appears that $\\lambda$ =  best allows for the linear elasticity model to approxiamte the finite elasticity model."
   ]
  },
  {
   "cell_type": "code",
   "execution_count": null,
   "metadata": {},
   "outputs": [],
   "source": [
    "# Material constants:\n",
    "nu = 0.33 # dimensionless\n",
    "rho = 0.00102 # in g mm^-3\n",
    "g = 9.81 # in m s^-2\n",
    "\n",
    "# Beam dimensions:\n",
    "W = 40 # in mm\n",
    "L = 90 # in mm\n",
    "\n",
    "# FEM parameters:\n",
    "el_order = 2\n",
    "\n",
    "# Store parameters in dictionary:\n",
    "fixed_params = {\"nu\":nu, \"rho\":rho, \"g\":g, \"el_order\":el_order, \"L\":L, \"W\":W}\n",
    "\n",
    "# Define stiffness and beam angle to perform convergence study for:\n",
    "E = 10\n",
    "beam_angle = 90\n",
    "\n",
    "# Define number of elements to check:\n",
    "num_elem_list = [100, 250, 500, 750, 1000, 1500, 2000, 2500, 3000, 3500, 4000]\n",
    "    \n",
    "# Create results dictionary:\n",
    "convergence_results = mesh_convergence(num_elem_list, E, beam_angle, fixed_params)\n",
    "\n",
    "# Save dictionary to JSON file:\n",
    "save_name = \"linear_convergence.json\"\n",
    "with open('./'+save_name, 'w') as f:\n",
    "    json.dump(convergence_results, f, indent=4)"
   ]
  },
  {
   "cell_type": "code",
   "execution_count": null,
   "metadata": {
    "scrolled": true
   },
   "outputs": [],
   "source": [
    "# Mesh convergence plot:\n",
    "import json\n",
    "import matplotlib as mpl\n",
    "from matplotlib import pyplot as plt\n",
    "mpl.rcParams['figure.dpi'] = 200\n",
    "\n",
    "with open('./linear_convergence.json', 'r') as f:\n",
    "    convergence_results = json.load(f)\n",
    "fig, ax = plt.subplots()\n",
    "plt.plot(convergence_results['Number of Elements'], convergence_results['End Displacement'])\n",
    "plt.title('Mesh Convergence Plot for Linear Elastic Beam', pad=15)\n",
    "ax.set_xlabel('Number of Elements')\n",
    "ax.set_ylabel('Beam Tip Displacement (mm)')\n",
    "fig.patch.set_facecolor('white')\n",
    "plt.plot(convergence_results['Number of Elements'], convergence_results['End Displacement'], 'x', color='black', markersize=5)\n",
    "plt.show()"
   ]
  },
  {
   "cell_type": "markdown",
   "metadata": {},
   "source": [
    "From above plot, looks like 3000 elements should be more than enough."
   ]
  },
  {
   "cell_type": "markdown",
   "metadata": {
    "tags": []
   },
   "source": [
    "# Generate Data"
   ]
  },
  {
   "cell_type": "markdown",
   "metadata": {},
   "source": [
    "##  Define Fixed Values"
   ]
  },
  {
   "cell_type": "code",
   "execution_count": null,
   "metadata": {},
   "outputs": [],
   "source": [
    "nu = 0.33 # dimensionless\n",
    "rho = 0.00102 # in g mm^-3\n",
    "g = 9.81 # in m s^-2\n",
    "W = 40 # in mm\n",
    "L = 90 # in mm\n",
    "elem_size = W/10\n",
    "NL, NW = ceil(L/elem_size), ceil(W/elem_size)\n",
    "lambda_ = "
   ]
  },
  {
   "cell_type": "markdown",
   "metadata": {},
   "source": [
    "## Generate and Plot Training Data"
   ]
  },
  {
   "cell_type": "code",
   "execution_count": null,
   "metadata": {
    "executionInfo": {
     "elapsed": 600,
     "status": "ok",
     "timestamp": 1632635669400,
     "user": {
      "displayName": "Matthew Bilton",
      "photoUrl": "https://lh3.googleusercontent.com/a/default-user=s64",
      "userId": "11777015143175422111"
     },
     "user_tz": 0
    },
    "id": "2QAlbtJlYALw"
   },
   "outputs": [],
   "source": [
    "# First create training data:\n",
    "num_pts = 10\n",
    "min_E, max_E = 10, 40\n",
    "min_y_rot, max_y_rot = 0, 180\n",
    "min_x_rot, max_x_rot = 0, 90\n",
    "E_list = [E for E in np.linspace(min_E, max_E, num_pts)]\n",
    "y_rot_list = [y for y in np.linspace(min_y_rot, max_y_rot, num_pts)]\n",
    "# num_pts_x = int(num_pts/2)\n",
    "# x_rot_list = [x for x in np.linspace(min_x_rot, max_x_rot, num_pts_x)]\n",
    "x_rot_list = [0]\n",
    "\n",
    "training_results = create_data(E_list, y_rot_list, x_rot_list, lambda_, nu, W, L, NL, NW, rho, g)\n",
    "\n",
    "# Save dictionary to JSON file:\n",
    "with open(\"normal_linear_train.json\", 'w') as f:\n",
    "    json.dump(training_results, f, indent=4)"
   ]
  },
  {
   "cell_type": "markdown",
   "metadata": {},
   "source": [
    "## Generate and Plot Test Data"
   ]
  },
  {
   "cell_type": "code",
   "execution_count": null,
   "metadata": {},
   "outputs": [],
   "source": [
    "# Next create test data:\n",
    "delta_E = (max_E-min_E)/(num_pts-1)\n",
    "delta_y_rot = (max_y_rot-min_y_rot)/(num_pts-1)\n",
    "E_list = [E for E in np.linspace(min_E+0.5*delta_E, max_E-0.5*delta_E, num_pts-1)]\n",
    "y_rot_list = [angle for angle in np.linspace(min_y_rot+0.5*delta_y_rot, max_y_rot-0.5*delta_y_rot, num_pts-1)]\n",
    "# delta_x_rot = (max_x_rot-min_x_rot)/(num_pts_x-1)\n",
    "# x_rot_list = [angle for angle in np.linspace(min_x_rot+0.5*delta_x_rot, max_x_rot-0.5*delta_x_rot, num_pts_x-1)]\n",
    "x_rot_list = [0]\n",
    "\n",
    "test_results = create_data(E_list, y_rot_list, x_rot_list, _lambda, nu, W, L, NL, NW, rho, g)\n",
    "\n",
    "# Save dictionary to JSON file:\n",
    "save_name = \"linear_test.json\"\n",
    "with open('normal_linear_test.json', 'w') as f:\n",
    "    json.dump(test_results, f, indent=4)"
   ]
  },
  {
   "cell_type": "markdown",
   "metadata": {},
   "source": [
    "# Plot Data"
   ]
  },
  {
   "cell_type": "code",
   "execution_count": null,
   "metadata": {
    "colab": {
     "base_uri": "https://localhost:8080/",
     "height": 549
    },
    "executionInfo": {
     "elapsed": 1000,
     "status": "ok",
     "timestamp": 1632638938400,
     "user": {
      "displayName": "Matthew Bilton",
      "photoUrl": "https://lh3.googleusercontent.com/a/default-user=s64",
      "userId": "11777015143175422111"
     },
     "user_tz": 0
    },
    "id": "tkvvvPfCqol0",
    "outputId": "06111192-3655-4c58-eff2-ad757a223b0b"
   },
   "outputs": [],
   "source": [
    "# Let's plot the training and test data:\n",
    "import matplotlib as mpl\n",
    "import matplotlib.pyplot as plt\n",
    "import matplotlib.cm as cm\n",
    "import numpy as np\n",
    "\n",
    "mpl.rcParams['figure.dpi'] = 200\n",
    "\n",
    "def plot_data(data, grid_shape, num_levels, E_lims=None, angle_lims=None, y_lims=None, title=None):\n",
    "\n",
    "    angle, E, y = np.array(data['Beam Angle']), np.array(data['E']), np.array(data['End Displacement'])\n",
    "    \n",
    "    levels = np.linspace(y_lims[0], y_lims[1], num_levels)\n",
    "    \n",
    "    # Create surface plot:\n",
    "    fig, ax = plt.subplots()\n",
    "    contour_fig = ax.contourf(E.reshape(grid_shape), angle.reshape(grid_shape), y.reshape(grid_shape), \n",
    "                              levels=levels, cmap=cm.coolwarm)\n",
    "    \n",
    "    ticks = np.array(range(y_lims[0], y_lims[1]+1, 20))\n",
    "    cbar = fig.colorbar(contour_fig, ticks=ticks)\n",
    "    cbar.set_label('Beam Tip Displacement (mm)', rotation=270, labelpad=15)\n",
    "    ax.set_xlabel(\"Young's Modulus (kPa)\")\n",
    "    ax.set_ylabel('Beam Angle (degrees)')\n",
    "    ax.set_xlim(E_lims)\n",
    "    ax.set_ylim(angle_lims)\n",
    "    plt.title(title, pad=15)\n",
    "    plt.plot(E, angle, 'x', color='black', markersize=3)\n",
    "    fig.patch.set_facecolor('white')\n",
    "    plt.show()"
   ]
  },
  {
   "cell_type": "code",
   "execution_count": null,
   "metadata": {},
   "outputs": [],
   "source": [
    "with open('linear_train.json', 'r') as f:\n",
    "    training_dict = json.load(f)\n",
    "\n",
    "y_lims = [0, 80]\n",
    "E_lims = [10, 40]\n",
    "angle_lims = [0, 180]\n",
    "grid_shape = (10, 10)\n",
    "num_levels = 100\n",
    "title = \"Linear Elastic Beam Training Data\"\n",
    "plot_data(training_dict, grid_shape, num_levels, E_lims, angle_lims, y_lims, title)"
   ]
  },
  {
   "cell_type": "code",
   "execution_count": null,
   "metadata": {},
   "outputs": [],
   "source": [
    "with open('linear_test.json', 'r') as f:\n",
    "    test_dict = json.load(f)\n",
    "\n",
    "y_lims = [0, 80]\n",
    "E_lims = [10, 40]\n",
    "angle_lims = [0, 180]\n",
    "grid_shape = (9, 9)\n",
    "num_levels = 100\n",
    "title = \"Linear Elastic Beam Test Data\"\n",
    "plot_data(test_dict, grid_shape, num_levels, E_lims, angle_lims, y_lims, title)"
   ]
  },
  {
   "cell_type": "code",
   "execution_count": null,
   "metadata": {},
   "outputs": [],
   "source": []
  }
 ],
 "metadata": {
  "colab": {
   "authorship_tag": "ABX9TyPDSPpbtk68A+5cmTsXKKO8",
   "collapsed_sections": [],
   "name": "Fenics Generate Data.ipynb",
   "provenance": []
  },
  "kernelspec": {
   "display_name": "Python 3 (ipykernel)",
   "language": "python",
   "name": "python3"
  },
  "language_info": {
   "codemirror_mode": {
    "name": "ipython",
    "version": 3
   },
   "file_extension": ".py",
   "mimetype": "text/x-python",
   "name": "python",
   "nbconvert_exporter": "python",
   "pygments_lexer": "ipython3",
   "version": "3.9.5"
  }
 },
 "nbformat": 4,
 "nbformat_minor": 4
}
