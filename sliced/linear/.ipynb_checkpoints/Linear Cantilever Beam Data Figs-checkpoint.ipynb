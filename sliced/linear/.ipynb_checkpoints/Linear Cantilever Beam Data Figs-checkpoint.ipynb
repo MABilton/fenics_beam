{
 "cells": [
  {
   "cell_type": "markdown",
   "metadata": {},
   "source": [
    "# Installs and Imports"
   ]
  },
  {
   "cell_type": "code",
   "execution_count": 1,
   "metadata": {},
   "outputs": [
    {
     "name": "stdout",
     "output_type": "stream",
     "text": [
      "Requirement already satisfied: pyvista in /usr/local/lib/python3.9/dist-packages (0.32.1)\n",
      "Requirement already satisfied: numpy in /usr/local/lib/python3.9/dist-packages (from pyvista) (1.20.3)\n",
      "Requirement already satisfied: typing-extensions in /usr/local/lib/python3.9/dist-packages (from pyvista) (3.10.0.2)\n",
      "Requirement already satisfied: pillow in /usr/lib/python3/dist-packages (from pyvista) (8.1.2)\n",
      "Requirement already satisfied: appdirs in /usr/local/lib/python3.9/dist-packages (from pyvista) (1.4.4)\n",
      "Requirement already satisfied: vtk in /usr/local/lib/python3.9/dist-packages (from pyvista) (9.0.3)\n",
      "Requirement already satisfied: meshio<5.0,>=4.0.3 in /usr/local/lib/python3.9/dist-packages (from pyvista) (4.4.6)\n",
      "Requirement already satisfied: scooby>=0.5.1 in /usr/local/lib/python3.9/dist-packages (from pyvista) (0.5.7)\n",
      "Requirement already satisfied: imageio in /usr/local/lib/python3.9/dist-packages (from pyvista) (2.9.0)\n",
      "Requirement already satisfied: matplotlib>=2.0.0 in /usr/local/lib/python3.9/dist-packages (from vtk->pyvista) (3.4.3)\n",
      "Requirement already satisfied: wslink>=0.1.3 in /usr/local/lib/python3.9/dist-packages (from vtk->pyvista) (1.1.0)\n",
      "Requirement already satisfied: autobahn>=17.7.1 in /usr/local/lib/python3.9/dist-packages (from vtk->pyvista) (21.3.1)\n",
      "Requirement already satisfied: Twisted>=17.5.0 in /usr/local/lib/python3.9/dist-packages (from vtk->pyvista) (21.7.0)\n",
      "Requirement already satisfied: hyperlink>=21.0.0 in /usr/local/lib/python3.9/dist-packages (from autobahn>=17.7.1->vtk->pyvista) (21.0.0)\n",
      "Requirement already satisfied: txaio>=21.2.1 in /usr/local/lib/python3.9/dist-packages (from autobahn>=17.7.1->vtk->pyvista) (21.2.1)\n",
      "Requirement already satisfied: cryptography>=3.4.6 in /usr/local/lib/python3.9/dist-packages (from autobahn>=17.7.1->vtk->pyvista) (35.0.0)\n",
      "Requirement already satisfied: cffi>=1.12 in /usr/local/lib/python3.9/dist-packages (from cryptography>=3.4.6->autobahn>=17.7.1->vtk->pyvista) (1.14.6)\n",
      "Requirement already satisfied: pycparser in /usr/local/lib/python3.9/dist-packages (from cffi>=1.12->cryptography>=3.4.6->autobahn>=17.7.1->vtk->pyvista) (2.20)\n",
      "Requirement already satisfied: idna>=2.5 in /usr/local/lib/python3.9/dist-packages (from hyperlink>=21.0.0->autobahn>=17.7.1->vtk->pyvista) (3.2)\n",
      "Requirement already satisfied: pyparsing>=2.2.1 in /usr/local/lib/python3.9/dist-packages (from matplotlib>=2.0.0->vtk->pyvista) (2.4.7)\n",
      "Requirement already satisfied: python-dateutil>=2.7 in /usr/local/lib/python3.9/dist-packages (from matplotlib>=2.0.0->vtk->pyvista) (2.8.2)\n",
      "Requirement already satisfied: cycler>=0.10 in /usr/local/lib/python3.9/dist-packages (from matplotlib>=2.0.0->vtk->pyvista) (0.10.0)\n",
      "Requirement already satisfied: kiwisolver>=1.0.1 in /usr/local/lib/python3.9/dist-packages (from matplotlib>=2.0.0->vtk->pyvista) (1.3.2)\n",
      "Requirement already satisfied: six in /usr/local/lib/python3.9/dist-packages (from cycler>=0.10->matplotlib>=2.0.0->vtk->pyvista) (1.16.0)\n",
      "Requirement already satisfied: incremental>=21.3.0 in /usr/local/lib/python3.9/dist-packages (from Twisted>=17.5.0->vtk->pyvista) (21.3.0)\n",
      "Requirement already satisfied: zope.interface>=4.4.2 in /usr/local/lib/python3.9/dist-packages (from Twisted>=17.5.0->vtk->pyvista) (5.4.0)\n",
      "Requirement already satisfied: Automat>=0.8.0 in /usr/local/lib/python3.9/dist-packages (from Twisted>=17.5.0->vtk->pyvista) (20.2.0)\n",
      "Requirement already satisfied: constantly>=15.1 in /usr/local/lib/python3.9/dist-packages (from Twisted>=17.5.0->vtk->pyvista) (15.1.0)\n",
      "Requirement already satisfied: attrs>=19.2.0 in /usr/local/lib/python3.9/dist-packages (from Twisted>=17.5.0->vtk->pyvista) (21.2.0)\n",
      "Requirement already satisfied: aiohttp in /usr/local/lib/python3.9/dist-packages (from wslink>=0.1.3->vtk->pyvista) (3.7.4.post0)\n",
      "Requirement already satisfied: setuptools in /usr/lib/python3/dist-packages (from zope.interface>=4.4.2->Twisted>=17.5.0->vtk->pyvista) (52.0.0)\n",
      "Requirement already satisfied: async-timeout<4.0,>=3.0 in /usr/local/lib/python3.9/dist-packages (from aiohttp->wslink>=0.1.3->vtk->pyvista) (3.0.1)\n",
      "Requirement already satisfied: yarl<2.0,>=1.0 in /usr/local/lib/python3.9/dist-packages (from aiohttp->wslink>=0.1.3->vtk->pyvista) (1.7.0)\n",
      "Requirement already satisfied: multidict<7.0,>=4.5 in /usr/local/lib/python3.9/dist-packages (from aiohttp->wslink>=0.1.3->vtk->pyvista) (5.2.0)\n",
      "Requirement already satisfied: chardet<5.0,>=2.0 in /usr/local/lib/python3.9/dist-packages (from aiohttp->wslink>=0.1.3->vtk->pyvista) (4.0.0)\n",
      "Requirement already satisfied: matplotlib in /usr/local/lib/python3.9/dist-packages (3.4.3)\n",
      "Requirement already satisfied: pillow>=6.2.0 in /usr/lib/python3/dist-packages (from matplotlib) (8.1.2)\n",
      "Requirement already satisfied: numpy>=1.16 in /usr/local/lib/python3.9/dist-packages (from matplotlib) (1.20.3)\n",
      "Requirement already satisfied: python-dateutil>=2.7 in /usr/local/lib/python3.9/dist-packages (from matplotlib) (2.8.2)\n",
      "Requirement already satisfied: pyparsing>=2.2.1 in /usr/local/lib/python3.9/dist-packages (from matplotlib) (2.4.7)\n",
      "Requirement already satisfied: kiwisolver>=1.0.1 in /usr/local/lib/python3.9/dist-packages (from matplotlib) (1.3.2)\n",
      "Requirement already satisfied: cycler>=0.10 in /usr/local/lib/python3.9/dist-packages (from matplotlib) (0.10.0)\n",
      "Requirement already satisfied: six in /usr/local/lib/python3.9/dist-packages (from cycler>=0.10->matplotlib) (1.16.0)\n",
      "Requirement already satisfied: pygmsh in /usr/local/lib/python3.9/dist-packages (7.1.13)\n",
      "Requirement already satisfied: gmsh in /usr/local/lib/python3.9/dist-packages (from pygmsh) (4.8.4)\n",
      "Requirement already satisfied: meshio<6,>=4.3.2 in /usr/local/lib/python3.9/dist-packages (from pygmsh) (4.4.6)\n",
      "Requirement already satisfied: numpy>=1.20.0 in /usr/local/lib/python3.9/dist-packages (from pygmsh) (1.20.3)\n",
      "Found existing installation: h5py 3.5.0\n",
      "Uninstalling h5py-3.5.0:\n",
      "  Successfully uninstalled h5py-3.5.0\n",
      "\u001b[31mERROR: Could not find a version that satisfies the requirement h5py==1.10.6\u001b[0m\n",
      "\u001b[31mERROR: No matching distribution found for h5py==1.10.6\u001b[0m\n"
     ]
    }
   ],
   "source": [
    "!pip install pyvista\n",
    "!pip install matplotlib\n",
    "!pip install pygmsh"
   ]
  },
  {
   "cell_type": "code",
   "execution_count": 1,
   "metadata": {},
   "outputs": [
    {
     "name": "stdout",
     "output_type": "stream",
     "text": [
      "Found existing installation: h5py 3.3.0\n",
      "Uninstalling h5py-3.3.0:\n",
      "  Successfully uninstalled h5py-3.3.0\n",
      "Collecting h5py==2.9.0\n",
      "  Downloading h5py-2.9.0.tar.gz (287 kB)\n",
      "\u001b[K     |████████████████████████████████| 287 kB 8.4 MB/s eta 0:00:01\n",
      "\u001b[?25hRequirement already satisfied: numpy>=1.7 in /usr/local/lib/python3.9/dist-packages (from h5py==2.9.0) (1.20.3)\n",
      "Requirement already satisfied: six in /usr/local/lib/python3.9/dist-packages (from h5py==2.9.0) (1.16.0)\n",
      "Building wheels for collected packages: h5py\n",
      "  Building wheel for h5py (setup.py) ... \u001b[?25ldone\n",
      "\u001b[?25h  Created wheel for h5py: filename=h5py-2.9.0-cp39-cp39-linux_x86_64.whl size=4691377 sha256=dc4eff97062020ddcaafe50775fac201ec5642e4de659528d1daac73941e4104\n",
      "  Stored in directory: /root/.cache/pip/wheels/ef/54/5c/3fbdb9cfe071661699815cfd6b71ddf2d12d61d121a109a5e0\n",
      "Successfully built h5py\n",
      "Installing collected packages: h5py\n",
      "Successfully installed h5py-2.9.0\n"
     ]
    }
   ],
   "source": [
    "# MUST RUN THIS CELL:\n",
    "!pip uninstall -y h5py\n",
    "!pip install h5py==2.9.0"
   ]
  },
  {
   "cell_type": "code",
   "execution_count": 14,
   "metadata": {
    "executionInfo": {
     "elapsed": 1300,
     "status": "ok",
     "timestamp": 1632635657100,
     "user": {
      "displayName": "Matthew Bilton",
      "photoUrl": "https://lh3.googleusercontent.com/a/default-user=s64",
      "userId": "11777015143175422111"
     },
     "user_tz": 0
    },
    "id": "m7u1-BwqU3D4"
   },
   "outputs": [],
   "source": [
    "import dolfinx\n",
    "import dolfinx.io\n",
    "import numpy as np\n",
    "import json\n",
    "from mpi4py import MPI\n",
    "from dolfinx.cpp.mesh import CellType\n",
    "import ufl\n",
    "from math import sin, cos, pi\n",
    "import itertools\n",
    "from operator import itemgetter\n",
    "from matplotlib import pyplot as plt\n",
    "import pygmsh\n",
    "import gmsh\n",
    "import meshio\n",
    "import numpy as np\n",
    "import matplotlib as mpl\n",
    "import matplotlib.pyplot as plt\n",
    "import matplotlib.cm as cm"
   ]
  },
  {
   "cell_type": "markdown",
   "metadata": {},
   "source": [
    "# FEM Code Functions"
   ]
  },
  {
   "cell_type": "code",
   "execution_count": 15,
   "metadata": {},
   "outputs": [],
   "source": [
    "def create_mesh(W_1, W_2, L_1, L_2, mesh_size, num_layers):\n",
    "    \n",
    "    # Create meshio file:\n",
    "    with pygmsh.geo.Geometry() as geom:\n",
    "        poly = geom.add_polygon([[0.0, 0.0, 0.0],\n",
    "                                 [0.0, 0.0, W_1],\n",
    "                                 [L_2, 0.0, W_1],\n",
    "                                 [L_1, 0.0, W_2],\n",
    "                                 [L_1, 0.0, 0.0]], mesh_size=mesh_size)\n",
    "        geom.extrude(poly, [0.0, W_1, 0.0], num_layers=num_layers)\n",
    "        pygmsh_mesh = geom.generate_mesh(dim=3)\n",
    "        pygmsh.write('beam_mesh.msh')\n",
    "    \n",
    "    # Also take note of number of elements in the mesh:\n",
    "    num_elem = pygmsh_mesh.get_cells_type(\"tetra\").shape[0]\n",
    "    \n",
    "    # Load mesh file:\n",
    "    mesh3D_from_msh = meshio.read(\"beam_mesh.msh\")\n",
    "    cells = mesh3D_from_msh.get_cells_type(\"tetra\")\n",
    "    tetra_mesh = meshio.Mesh(points=mesh3D_from_msh.points, cells={\"tetra\": cells})\n",
    "    \n",
    "    # Convert to xdmf file then load:\n",
    "    meshio.write(\"beam_mesh.xdmf\", tetra_mesh)\n",
    "    with dolfinx.io.XDMFFile(MPI.COMM_WORLD, \"beam_mesh.xdmf\", 'r') as f:\n",
    "        mesh = f.read_mesh(name=\"Grid\")\n",
    "    \n",
    "    return (mesh, num_elem)"
   ]
  },
  {
   "cell_type": "code",
   "execution_count": 16,
   "metadata": {
    "executionInfo": {
     "elapsed": 0,
     "status": "ok",
     "timestamp": 1632635660700,
     "user": {
      "displayName": "Matthew Bilton",
      "photoUrl": "https://lh3.googleusercontent.com/a/default-user=s64",
      "userId": "11777015143175422111"
     },
     "user_tz": 0
    },
    "id": "sZMYJ-g5Ph38"
   },
   "outputs": [],
   "source": [
    "FEM_OBJS_LIST = ['mesh', 'u', 'v', 'ds', 'bc', 'T']\n",
    "FEM_FIXEDPARAM_KEYS = [\"W_1\", \"W_2\", \"L_1\", \"L_2\", \"num_layers\", \"el_order\"]\n",
    "\n",
    "def create_fem_objs(mesh_size, fixed_params):\n",
    "    \n",
    "    # Unpack fixed_params:\n",
    "    W_1, W_2, L_1, L_2, num_layers, elem_order = itemgetter(*FEM_FIXEDPARAM_KEYS)(fixed_params)\n",
    "    \n",
    "    mesh, num_elem = create_mesh(W_1, W_2, L_1, L_2, mesh_size, num_layers)\n",
    "    \n",
    "    V = dolfinx.VectorFunctionSpace(mesh, (\"CG\", elem_order))\n",
    "    \n",
    "    clamped_boundary = lambda x: np.isclose(x[0], 0)\n",
    "\n",
    "    fdim = mesh.topology.dim - 1\n",
    "    boundary_facets = dolfinx.mesh.locate_entities_boundary(mesh, fdim, clamped_boundary)\n",
    "\n",
    "    u_D = dolfinx.Function(V)\n",
    "    with u_D.vector.localForm() as loc:\n",
    "        loc.set(0)\n",
    "    bc = dolfinx.DirichletBC(u_D, dolfinx.fem.locate_dofs_topological(V, fdim, boundary_facets))\n",
    "\n",
    "    T = dolfinx.Constant(mesh, (0, 0, 0))\n",
    "\n",
    "    ds = ufl.Measure(\"ds\", domain=mesh)\n",
    "\n",
    "    u = ufl.TrialFunction(V)\n",
    "    v = ufl.TestFunction(V)\n",
    "    \n",
    "    fem_params = {key : val for (key, val) in zip(FEM_OBJS_LIST, (mesh, u, v, ds, bc, T))}\n",
    "    \n",
    "    return (fem_params, num_elem)"
   ]
  },
  {
   "cell_type": "code",
   "execution_count": 17,
   "metadata": {},
   "outputs": [],
   "source": [
    "LOADING_FIXEDPARAM_KEYS = ['rho', 'g']\n",
    "\n",
    "def perform_loading(E, beam_angle, fixed_params, fem_objects):\n",
    "    \n",
    "    # Convert angle to radians:\n",
    "    beam_angle *= pi/180\n",
    "    \n",
    "    # Unpack fixed params:\n",
    "    rho, g = itemgetter(*LOADING_FIXEDPARAM_KEYS)(fixed_params)\n",
    "    \n",
    "    # Unpack fem objects:\n",
    "    mesh, u, v, ds, bc, T = itemgetter(*FEM_OBJS_LIST)(fem_objects)\n",
    "    \n",
    "    # Compute Lame parameters:\n",
    "    mu = E/(2*(1 + nu))\n",
    "    lambda_ = E*nu/((1 + nu)*(1 - 2*nu))\n",
    "            \n",
    "    # Define variational problem:\n",
    "    epsilon = lambda u: ufl.sym(ufl.grad(u))\n",
    "    sigma = lambda u: lambda_ * ufl.nabla_div(u) * ufl.Identity(u.geometric_dimension()) + 2*mu*epsilon(u)\n",
    "    a = ufl.inner(sigma(u), epsilon(v)) * ufl.dx\n",
    "    f = dolfinx.Constant(mesh, (rho*g*cos(beam_angle), 0, -rho*g*sin(beam_angle)))\n",
    "    L = ufl.dot(f, v) * ufl.dx + ufl.dot(T, v) * ds\n",
    "    problem = dolfinx.fem.LinearProblem(a, L, bcs=[bc], petsc_options={\"ksp_atol\":1e-3, \"ksp_rtol\":1e-3, \"ksp_type\": \"preonly\", \"pc_type\": \"lu\"})\n",
    "    \n",
    "    problem._solver.setTolerances(rtol=1e-3, atol=1e-3, divtol=1e-3)\n",
    "    \n",
    "    # Solve problem:\n",
    "    u = problem.solve()\n",
    "    u_vals = u.compute_point_values().real\n",
    "    \n",
    "    return u_vals"
   ]
  },
  {
   "cell_type": "markdown",
   "metadata": {},
   "source": [
    "# Mesh Convergence"
   ]
  },
  {
   "cell_type": "code",
   "execution_count": 14,
   "metadata": {},
   "outputs": [],
   "source": [
    "def mesh_convergence(mesh_size_list, E, beam_angle, fixed_params):\n",
    "    \n",
    "    # Initialise list to store results:\n",
    "    results_dict = {'End Displacement':[], 'Number of Elements':[], 'Mesh Size':[]}\n",
    "    \n",
    "    # Iterate over all mesh elements to explore \n",
    "    for i, mesh_size in enumerate(mesh_size_list):\n",
    "        \n",
    "        print(f'Simulating Mesh {i+1}/{len(mesh_size_list)} (Mesh size = {mesh_size})')\n",
    "        \n",
    "        results_dict['Mesh Size'].append(mesh_size)\n",
    "        \n",
    "        # First, create 'fixed' parameters of model:\n",
    "        fem_objects, num_elem = create_fem_objs(mesh_size, fixed_params)\n",
    "        results_dict['Number of Elements'].append(num_elem)\n",
    "        \n",
    "        # Performing loading:\n",
    "        u_vals = perform_loading(E, beam_angle, fixed_params, fem_objects)\n",
    "        \n",
    "        # Get displacement at end of beam:\n",
    "        idx_2_get = np.isclose(fem_objects['mesh'].geometry.x, [fixed_params['L_1'], 0., 0.])\n",
    "        idx_2_get = np.where(np.all(idx_2_get, axis=1))\n",
    "        disp_vals = np.sum(u_vals**2, axis=1)**(1/2)\n",
    "        results_dict['End Displacement'].append(disp_vals[idx_2_get].item())\n",
    "        print(f'End disp = {disp_vals[idx_2_get]}')\n",
    "    \n",
    "    # Also store fixed parameters with results:\n",
    "    results_dict['E'] = E\n",
    "    results_dict['Beam Angle'] = beam_angle\n",
    "    results_dict.update(fixed_params)\n",
    "    \n",
    "    return results_dict"
   ]
  },
  {
   "cell_type": "code",
   "execution_count": null,
   "metadata": {},
   "outputs": [],
   "source": [
    "# Material constants:\n",
    "nu = 0.33 # dimensionless\n",
    "rho = 0.00102 # in g mm^-3\n",
    "g = 9.81 # in m s^-2\n",
    "\n",
    "# Beam dimensions:\n",
    "W_1 = 40 # in mm\n",
    "L_1 = 90 # in mm\n",
    "W_2 = 5 # in mm\n",
    "L_2 = 20 # in mm\n",
    "\n",
    "# FEM parameters:\n",
    "el_order = 2\n",
    "\n",
    "# Number of out-of-plane layers of elements:\n",
    "num_layers = 10\n",
    "\n",
    "# Store parameters in dictionary:\n",
    "fixed_params = {\"nu\":nu, \"rho\":rho, \"g\":g, \"el_order\":el_order, \n",
    "                \"L_1\":L_1, \"W_1\":W_1, \"L_2\":L_2, \"W_2\":W_2, 'num_layers':num_layers}\n",
    "\n",
    "# Define stiffness and beam angle to perform convergence study for:\n",
    "E = 10\n",
    "beam_angle = 90\n",
    "\n",
    "# Define number of elements to check:\n",
    "mesh_size_list = [50, 25, 10, 9, 8, 7, 6, 5, 4, 3]\n",
    "    \n",
    "# Create results dictionary:\n",
    "convergence_results = mesh_convergence(mesh_size_list, E, beam_angle, fixed_params)\n",
    "\n",
    "# Save dictionary to JSON file:\n",
    "save_name = \"linear_convergence.json\"\n",
    "with open('./'+save_name, 'w') as f:\n",
    "    json.dump(convergence_results, f, indent=4)"
   ]
  },
  {
   "cell_type": "code",
   "execution_count": 1,
   "metadata": {
    "scrolled": true
   },
   "outputs": [
    {
     "data": {
      "image/png": "[encoded data removed]",
      "text/plain": [
       "<Figure size 1200x800 with 1 Axes>"
      ]
     },
     "metadata": {},
     "output_type": "display_data"
    }
   ],
   "source": [
    "# Mesh convergence plot:\n",
    "mpl.rcParams['figure.dpi'] = 200\n",
    "\n",
    "with open('./linear_convergence.json', 'r') as f:\n",
    "    convergence_results = json.load(f)\n",
    "fig, ax = plt.subplots()\n",
    "plt.plot(convergence_results['Number of Elements'], convergence_results['End Displacement'])\n",
    "plt.title('Mesh Convergence Plot for Linear Elastic Beam', pad=15)\n",
    "ax.set_xlabel('Number of Elements')\n",
    "ax.set_ylabel('Beam Tip Displacement (mm)')\n",
    "fig.patch.set_facecolor('white')\n",
    "plt.plot(convergence_results['Number of Elements'], convergence_results['End Displacement'], 'x', color='black', markersize=5)\n",
    "plt.show()"
   ]
  },
  {
   "cell_type": "markdown",
   "metadata": {},
   "source": [
    "From above plot, looks like 3000 elements should be more than enough."
   ]
  },
  {
   "cell_type": "markdown",
   "metadata": {},
   "source": [
    "# Generate Data"
   ]
  },
  {
   "cell_type": "code",
   "execution_count": 18,
   "metadata": {},
   "outputs": [],
   "source": [
    "def create_param_combos(param_list):\n",
    "    keys = param_list.keys()\n",
    "    param_combos = []\n",
    "    for bundle in itertools.product(*param_list.values()):\n",
    "        param_dict = dict(zip(keys, bundle))\n",
    "        param_combos.append(param_dict)\n",
    "    return param_combos"
   ]
  },
  {
   "cell_type": "code",
   "execution_count": null,
   "metadata": {},
   "outputs": [],
   "source": [
    "def create_data(params_dict, mesh_size, fixed_params): \n",
    "    \n",
    "    # Generate FEM objects - these won't change between simulations:\n",
    "    fem_objects, num_elem = create_fem_objs(mesh_size, fixed_params)\n",
    "    \n",
    "    # Compute index of node to get displacement from:\n",
    "    idx_2_get = np.isclose(fem_objects['mesh'].geometry.x, [fixed_params['L_1'], 0., 0.])\n",
    "    idx_2_get = np.where(np.all(idx_2_get, axis=1))\n",
    "    \n",
    "    # Generate all possible combinations of training data parameters:\n",
    "    param_combos = create_param_combos(params_dict)\n",
    "    end_dict = {'E':[], 'Beam Angle':[], 'End Displacement':[]}\n",
    "    full_dict = {'E':[], 'Beam Angle':[], 'Displacement':[]}\n",
    "    \n",
    "    for i, params in enumerate(param_combos):\n",
    "        \n",
    "        print(f\"Computing data point {i+1}/{len(param_combos)}\")\n",
    "        u_val = perform_loading(params['E'], params['angle'], fixed_params, fem_objects)\n",
    "        end_disp = np.sum(u_val**2, axis=1)**(1/2)   \n",
    "        # Store results:\n",
    "        for i, dict_i in enumerate([end_dict, full_dict]):\n",
    "            dict_i['E'].append(params['E'])            \n",
    "            dict_i['Beam Angle'].append(params['angle']) \n",
    "            if i==0:\n",
    "                dict_i['Displacement'].append(u_val.tolist())\n",
    "            else:\n",
    "                results_dict['End Displacement'].append(disp[idx_2_get].item())\n",
    "                                       \n",
    "    # Store fixed parameters and element size in this dictionary as well:\n",
    "    for dict_i in [end_dict, full_dict]:\n",
    "        dict_i[\"Mesh size\"] = mesh_size\n",
    "        dict_i[\"Number of Elements\"] = num_elem\n",
    "        dict_i[\"Number of Layers\"] = fixed_params['num_elems']\n",
    "        dict_i.update(dict_i)\n",
    "    \n",
    "    # Also add x to \n",
    "    full_dict['x'] = fem_objects['mesh'].geometry.x\n",
    "    \n",
    "    return (end_dict, full_dict)"
   ]
  },
  {
   "cell_type": "code",
   "execution_count": 26,
   "metadata": {},
   "outputs": [],
   "source": [
    "# Define set of fixed parameters:\n",
    "nu = 0.33 # dimensionless\n",
    "rho = 0.00102 # in g mm^-3\n",
    "g = 9.81 # in m s^-2\n",
    "W_1 = 40 # in mm\n",
    "L_1 = 90 # in mm\n",
    "W_2 = 5 # in mm\n",
    "L_2 = 20 # in mm\n",
    "el_order = 2\n",
    "mesh_size = 4\n",
    "num_layers = 10\n",
    "\n",
    "fixed_params = {\"nu\":nu, \"rho\":rho, \"g\":g, \"el_order\":el_order, \n",
    "                \"L_1\":L_1, \"W_1\":W_1, \"L_2\":L_2, \"W_2\":W_2, \"num_layers\":num_layers}"
   ]
  },
  {
   "cell_type": "code",
   "execution_count": null,
   "metadata": {
    "executionInfo": {
     "elapsed": 600,
     "status": "ok",
     "timestamp": 1632635669400,
     "user": {
      "displayName": "Matthew Bilton",
      "photoUrl": "https://lh3.googleusercontent.com/a/default-user=s64",
      "userId": "11777015143175422111"
     },
     "user_tz": 0
    },
    "id": "2QAlbtJlYALw"
   },
   "outputs": [
    {
     "name": "stdout",
     "output_type": "stream",
     "text": [
      "Computing data point 1/4\n"
     ]
    }
   ],
   "source": [
    "# First create training data:\n",
    "num_pts = 2\n",
    "min_E, max_E = 10, 40\n",
    "min_ang, max_ang = 0, 180\n",
    "train_params = {'E': np.linspace(min_E, max_E, num_pts),\n",
    "                'angle': np.linspace(min_ang, max_ang, num_pts)}\n",
    "\n",
    "end_dict, raw_dict = create_data(train_params, mesh_size, fixed_params)\n",
    "\n",
    "# Save dictionary to JSON file:\n",
    "save_name = \"linear_train.json\"\n",
    "with open('./'+save_name, 'w') as f:\n",
    "    json.dump(training_dict, f, indent=4)"
   ]
  },
  {
   "cell_type": "code",
   "execution_count": null,
   "metadata": {},
   "outputs": [],
   "source": [
    "# Next create test data:\n",
    "delta_E = (max_E-min_E)/(num_pts-1)\n",
    "delta_ang = (max_ang-min_ang)/(num_pts-1)\n",
    "E_test = [E for E in np.linspace(min_E+0.5*delta_E, max_E-0.5*delta_E, num_pts-1)]\n",
    "angle_test = [angle for angle in np.linspace(min_ang+0.5*delta_ang, max_ang-0.5*delta_ang, num_pts-1)]\n",
    "test_params = {\"E\": E_test, \"angle\": angle_test}\n",
    "\n",
    "test_dict = create_data(test_params, num_elem, fixed_params)\n",
    "\n",
    "# Save dictionary to JSON file:\n",
    "save_name = \"linear_test.json\"\n",
    "with open('./'+save_name, 'w') as f:\n",
    "    json.dump(test_dict, f, indent=4)"
   ]
  },
  {
   "cell_type": "markdown",
   "metadata": {},
   "source": [
    "# Plot Data"
   ]
  },
  {
   "cell_type": "code",
   "execution_count": null,
   "metadata": {
    "colab": {
     "base_uri": "https://localhost:8080/",
     "height": 549
    },
    "executionInfo": {
     "elapsed": 1000,
     "status": "ok",
     "timestamp": 1632638938400,
     "user": {
      "displayName": "Matthew Bilton",
      "photoUrl": "https://lh3.googleusercontent.com/a/default-user=s64",
      "userId": "11777015143175422111"
     },
     "user_tz": 0
    },
    "id": "tkvvvPfCqol0",
    "outputId": "06111192-3655-4c58-eff2-ad757a223b0b"
   },
   "outputs": [],
   "source": [
    "mpl.rcParams['figure.dpi'] = 200\n",
    "\n",
    "def plot_data(data, grid_shape, num_levels, E_lims=None, angle_lims=None, y_lims=None, title=None):\n",
    "\n",
    "    angle, E, y = np.array(data['Beam Angle']), np.array(data['E']), np.array(data['End Displacement'])\n",
    "    \n",
    "    levels = np.linspace(y_lims[0], y_lims[1], num_levels)\n",
    "    \n",
    "    # Create surface plot:\n",
    "    fig, ax = plt.subplots()\n",
    "    contour_fig = ax.contourf(E.reshape(grid_shape), angle.reshape(grid_shape), y.reshape(grid_shape), \n",
    "                              levels=levels, cmap=cm.coolwarm)\n",
    "    \n",
    "    ticks = np.array(range(y_lims[0], y_lims[1]+1, 20))\n",
    "    cbar = fig.colorbar(contour_fig, ticks=ticks)\n",
    "    cbar.set_label('Beam Tip Displacement (mm)', rotation=270, labelpad=15)\n",
    "    ax.set_xlabel(\"Young's Modulus (kPa)\")\n",
    "    ax.set_ylabel('Beam Angle (degrees)')\n",
    "    ax.set_xlim(E_lims)\n",
    "    ax.set_ylim(angle_lims)\n",
    "    plt.title(title, pad=15)\n",
    "    plt.plot(E, angle, 'x', color='black', markersize=3)\n",
    "    fig.patch.set_facecolor('white')\n",
    "    plt.show()"
   ]
  },
  {
   "cell_type": "code",
   "execution_count": null,
   "metadata": {},
   "outputs": [],
   "source": [
    "with open('linear_train.json', 'r') as f:\n",
    "    training_dict = json.load(f)\n",
    "\n",
    "y_lims = [0, 80]\n",
    "E_lims = [10, 40]\n",
    "angle_lims = [0, 180]\n",
    "grid_shape = (10, 10)\n",
    "num_levels = 100\n",
    "title = \"Linear Elastic Beam Training Data\"\n",
    "plot_data(training_dict, grid_shape, num_levels, E_lims, angle_lims, y_lims, title)"
   ]
  },
  {
   "cell_type": "code",
   "execution_count": null,
   "metadata": {},
   "outputs": [],
   "source": [
    "with open('linear_test.json', 'r') as f:\n",
    "    test_dict = json.load(f)\n",
    "\n",
    "y_lims = [0, 80]\n",
    "E_lims = [10, 40]\n",
    "angle_lims = [0, 180]\n",
    "grid_shape = (9, 9)\n",
    "num_levels = 100\n",
    "title = \"Linear Elastic Beam Test Data\"\n",
    "plot_data(test_dict, grid_shape, num_levels, E_lims, angle_lims, y_lims, title)"
   ]
  },
  {
   "cell_type": "code",
   "execution_count": null,
   "metadata": {},
   "outputs": [],
   "source": []
  }
 ],
 "metadata": {
  "colab": {
   "authorship_tag": "ABX9TyPDSPpbtk68A+5cmTsXKKO8",
   "collapsed_sections": [],
   "name": "Fenics Generate Data.ipynb",
   "provenance": []
  },
  "kernelspec": {
   "display_name": "Python 3 (ipykernel)",
   "language": "python",
   "name": "python3"
  },
  "language_info": {
   "codemirror_mode": {
    "name": "ipython",
    "version": 3
   },
   "file_extension": ".py",
   "mimetype": "text/x-python",
   "name": "python",
   "nbconvert_exporter": "python",
   "pygments_lexer": "ipython3",
   "version": "3.9.5"
  }
 },
 "nbformat": 4,
 "nbformat_minor": 4
}
